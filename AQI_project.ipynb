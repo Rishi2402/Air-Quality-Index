{
 "cells": [
  {
   "cell_type": "markdown",
   "id": "32fb44d2",
   "metadata": {},
   "source": [
    "# ENGG6500 Intro to Machine Learning \n",
    "# Air Quality Index Prediction"
   ]
  },
  {
   "cell_type": "markdown",
   "id": "1df9ea39",
   "metadata": {},
   "source": [
    "# Setting up the Environment"
   ]
  },
  {
   "cell_type": "code",
   "execution_count": 1,
   "id": "dffd66cd",
   "metadata": {},
   "outputs": [
    {
     "name": "stdout",
     "output_type": "stream",
     "text": [
      "/Users/yochitharishitha/Downloads\n"
     ]
    }
   ],
   "source": [
    "#importing libraries\n",
    "import warnings\n",
    "warnings.filterwarnings('ignore')\n",
    "import pandas as pd\n",
    "from matplotlib import pyplot as plt\n",
    "import seaborn as sns\n",
    "import os\n",
    "working_directory=os.getcwd()\n",
    "print(working_directory)"
   ]
  },
  {
   "cell_type": "markdown",
   "id": "af2e3e23",
   "metadata": {},
   "source": [
    "# Load the Dataset"
   ]
  },
  {
   "cell_type": "code",
   "execution_count": 2,
   "id": "7daa25f5",
   "metadata": {},
   "outputs": [],
   "source": [
    "# ENGG6500 Intro to Machine Learning Assignment 1#Load the dataset\n",
    "path=working_directory + '/AQI_Dataset.xlsx'\n",
    "#Read the csv file as dataframe\n",
    "aqi_df = pd.read_excel('AQI_Dataset.xlsx')"
   ]
  },
  {
   "cell_type": "code",
   "execution_count": 3,
   "id": "4248b9ce",
   "metadata": {},
   "outputs": [
    {
     "data": {
      "text/html": [
       "<div>\n",
       "<style scoped>\n",
       "    .dataframe tbody tr th:only-of-type {\n",
       "        vertical-align: middle;\n",
       "    }\n",
       "\n",
       "    .dataframe tbody tr th {\n",
       "        vertical-align: top;\n",
       "    }\n",
       "\n",
       "    .dataframe thead th {\n",
       "        text-align: right;\n",
       "    }\n",
       "</style>\n",
       "<table border=\"1\" class=\"dataframe\">\n",
       "  <thead>\n",
       "    <tr style=\"text-align: right;\">\n",
       "      <th></th>\n",
       "      <th>locationId</th>\n",
       "      <th>location</th>\n",
       "      <th>city</th>\n",
       "      <th>country</th>\n",
       "      <th>utc</th>\n",
       "      <th>local</th>\n",
       "      <th>parameter</th>\n",
       "      <th>value</th>\n",
       "      <th>unit</th>\n",
       "      <th>latitude</th>\n",
       "      <th>longitude</th>\n",
       "      <th>AQI</th>\n",
       "    </tr>\n",
       "  </thead>\n",
       "  <tbody>\n",
       "    <tr>\n",
       "      <th>0</th>\n",
       "      <td>5631</td>\n",
       "      <td>Maninagar, Ahmedabad - GPCB</td>\n",
       "      <td>Ahmedabad</td>\n",
       "      <td>IN</td>\n",
       "      <td>2019-01-03T16:45:00+00:00</td>\n",
       "      <td>2019-01-03T22:15:00+05:30</td>\n",
       "      <td>so2</td>\n",
       "      <td>98.33</td>\n",
       "      <td>µg/m³</td>\n",
       "      <td>23.002657</td>\n",
       "      <td>72.591912</td>\n",
       "      <td>106.738027</td>\n",
       "    </tr>\n",
       "    <tr>\n",
       "      <th>1</th>\n",
       "      <td>5631</td>\n",
       "      <td>Maninagar, Ahmedabad - GPCB</td>\n",
       "      <td>Ahmedabad</td>\n",
       "      <td>IN</td>\n",
       "      <td>2019-01-03T16:45:00+00:00</td>\n",
       "      <td>2019-01-03T22:15:00+05:30</td>\n",
       "      <td>o3</td>\n",
       "      <td>0.00</td>\n",
       "      <td>µg/m³</td>\n",
       "      <td>23.002657</td>\n",
       "      <td>72.591912</td>\n",
       "      <td>0.000000</td>\n",
       "    </tr>\n",
       "    <tr>\n",
       "      <th>2</th>\n",
       "      <td>5631</td>\n",
       "      <td>Maninagar, Ahmedabad - GPCB</td>\n",
       "      <td>Ahmedabad</td>\n",
       "      <td>IN</td>\n",
       "      <td>2019-01-03T16:45:00+00:00</td>\n",
       "      <td>2019-01-03T22:15:00+05:30</td>\n",
       "      <td>pm25</td>\n",
       "      <td>224.39</td>\n",
       "      <td>µg/m³</td>\n",
       "      <td>23.002657</td>\n",
       "      <td>72.591912</td>\n",
       "      <td>380.345814</td>\n",
       "    </tr>\n",
       "    <tr>\n",
       "      <th>3</th>\n",
       "      <td>5631</td>\n",
       "      <td>Maninagar, Ahmedabad - GPCB</td>\n",
       "      <td>Ahmedabad</td>\n",
       "      <td>IN</td>\n",
       "      <td>2019-01-03T16:45:00+00:00</td>\n",
       "      <td>2019-01-03T22:15:00+05:30</td>\n",
       "      <td>co</td>\n",
       "      <td>390.00</td>\n",
       "      <td>µg/m³</td>\n",
       "      <td>23.002657</td>\n",
       "      <td>72.591912</td>\n",
       "      <td>19.500000</td>\n",
       "    </tr>\n",
       "    <tr>\n",
       "      <th>4</th>\n",
       "      <td>5631</td>\n",
       "      <td>Maninagar, Ahmedabad - GPCB</td>\n",
       "      <td>Ahmedabad</td>\n",
       "      <td>IN</td>\n",
       "      <td>2019-01-03T16:30:00+00:00</td>\n",
       "      <td>2019-01-03T22:00:00+05:30</td>\n",
       "      <td>pm25</td>\n",
       "      <td>165.91</td>\n",
       "      <td>µg/m³</td>\n",
       "      <td>23.002657</td>\n",
       "      <td>72.591912</td>\n",
       "      <td>335.465814</td>\n",
       "    </tr>\n",
       "  </tbody>\n",
       "</table>\n",
       "</div>"
      ],
      "text/plain": [
       "   locationId                     location       city country  \\\n",
       "0        5631  Maninagar, Ahmedabad - GPCB  Ahmedabad      IN   \n",
       "1        5631  Maninagar, Ahmedabad - GPCB  Ahmedabad      IN   \n",
       "2        5631  Maninagar, Ahmedabad - GPCB  Ahmedabad      IN   \n",
       "3        5631  Maninagar, Ahmedabad - GPCB  Ahmedabad      IN   \n",
       "4        5631  Maninagar, Ahmedabad - GPCB  Ahmedabad      IN   \n",
       "\n",
       "                         utc                      local parameter   value  \\\n",
       "0  2019-01-03T16:45:00+00:00  2019-01-03T22:15:00+05:30       so2   98.33   \n",
       "1  2019-01-03T16:45:00+00:00  2019-01-03T22:15:00+05:30        o3    0.00   \n",
       "2  2019-01-03T16:45:00+00:00  2019-01-03T22:15:00+05:30      pm25  224.39   \n",
       "3  2019-01-03T16:45:00+00:00  2019-01-03T22:15:00+05:30        co  390.00   \n",
       "4  2019-01-03T16:30:00+00:00  2019-01-03T22:00:00+05:30      pm25  165.91   \n",
       "\n",
       "    unit   latitude  longitude         AQI  \n",
       "0  µg/m³  23.002657  72.591912  106.738027  \n",
       "1  µg/m³  23.002657  72.591912    0.000000  \n",
       "2  µg/m³  23.002657  72.591912  380.345814  \n",
       "3  µg/m³  23.002657  72.591912   19.500000  \n",
       "4  µg/m³  23.002657  72.591912  335.465814  "
      ]
     },
     "execution_count": 3,
     "metadata": {},
     "output_type": "execute_result"
    }
   ],
   "source": [
    "aqi_df.head()"
   ]
  },
  {
   "cell_type": "code",
   "execution_count": 4,
   "id": "1614337b",
   "metadata": {},
   "outputs": [
    {
     "data": {
      "text/plain": [
       "(14123, 12)"
      ]
     },
     "execution_count": 4,
     "metadata": {},
     "output_type": "execute_result"
    }
   ],
   "source": [
    "#Number of rows and columns \n",
    "aqi_df.shape"
   ]
  },
  {
   "cell_type": "markdown",
   "id": "18ba9caf",
   "metadata": {},
   "source": [
    "# Data Statistics"
   ]
  },
  {
   "cell_type": "code",
   "execution_count": 5,
   "id": "52a184d1",
   "metadata": {},
   "outputs": [
    {
     "name": "stdout",
     "output_type": "stream",
     "text": [
      "<class 'pandas.core.frame.DataFrame'>\n",
      "RangeIndex: 14123 entries, 0 to 14122\n",
      "Data columns (total 12 columns):\n",
      " #   Column      Non-Null Count  Dtype  \n",
      "---  ------      --------------  -----  \n",
      " 0   locationId  14123 non-null  int64  \n",
      " 1   location    14123 non-null  object \n",
      " 2   city        14123 non-null  object \n",
      " 3   country     14123 non-null  object \n",
      " 4   utc         14123 non-null  object \n",
      " 5   local       14123 non-null  object \n",
      " 6   parameter   14123 non-null  object \n",
      " 7   value       14123 non-null  float64\n",
      " 8   unit        14123 non-null  object \n",
      " 9   latitude    14123 non-null  float64\n",
      " 10  longitude   14123 non-null  float64\n",
      " 11  AQI         14122 non-null  float64\n",
      "dtypes: float64(4), int64(1), object(7)\n",
      "memory usage: 1.3+ MB\n"
     ]
    }
   ],
   "source": [
    "aqi_df.info()"
   ]
  },
  {
   "cell_type": "code",
   "execution_count": 6,
   "id": "6a7afec9",
   "metadata": {},
   "outputs": [
    {
     "data": {
      "text/html": [
       "<div>\n",
       "<style scoped>\n",
       "    .dataframe tbody tr th:only-of-type {\n",
       "        vertical-align: middle;\n",
       "    }\n",
       "\n",
       "    .dataframe tbody tr th {\n",
       "        vertical-align: top;\n",
       "    }\n",
       "\n",
       "    .dataframe thead th {\n",
       "        text-align: right;\n",
       "    }\n",
       "</style>\n",
       "<table border=\"1\" class=\"dataframe\">\n",
       "  <thead>\n",
       "    <tr style=\"text-align: right;\">\n",
       "      <th></th>\n",
       "      <th>locationId</th>\n",
       "      <th>value</th>\n",
       "      <th>latitude</th>\n",
       "      <th>longitude</th>\n",
       "      <th>AQI</th>\n",
       "    </tr>\n",
       "  </thead>\n",
       "  <tbody>\n",
       "    <tr>\n",
       "      <th>count</th>\n",
       "      <td>14123.000000</td>\n",
       "      <td>14123.000000</td>\n",
       "      <td>14123.000000</td>\n",
       "      <td>14123.000000</td>\n",
       "      <td>14122.000000</td>\n",
       "    </tr>\n",
       "    <tr>\n",
       "      <th>mean</th>\n",
       "      <td>7450.403668</td>\n",
       "      <td>423.680729</td>\n",
       "      <td>27.020523</td>\n",
       "      <td>77.383261</td>\n",
       "      <td>107.806376</td>\n",
       "    </tr>\n",
       "    <tr>\n",
       "      <th>std</th>\n",
       "      <td>1701.720642</td>\n",
       "      <td>857.314204</td>\n",
       "      <td>4.711389</td>\n",
       "      <td>0.842208</td>\n",
       "      <td>255.661412</td>\n",
       "    </tr>\n",
       "    <tr>\n",
       "      <th>min</th>\n",
       "      <td>2586.000000</td>\n",
       "      <td>-999.000000</td>\n",
       "      <td>12.909916</td>\n",
       "      <td>72.591912</td>\n",
       "      <td>-1665.000000</td>\n",
       "    </tr>\n",
       "    <tr>\n",
       "      <th>25%</th>\n",
       "      <td>5634.000000</td>\n",
       "      <td>24.800000</td>\n",
       "      <td>28.551201</td>\n",
       "      <td>77.131023</td>\n",
       "      <td>27.500000</td>\n",
       "    </tr>\n",
       "    <tr>\n",
       "      <th>50%</th>\n",
       "      <td>6957.000000</td>\n",
       "      <td>101.000000</td>\n",
       "      <td>28.631694</td>\n",
       "      <td>77.201157</td>\n",
       "      <td>55.855856</td>\n",
       "    </tr>\n",
       "    <tr>\n",
       "      <th>75%</th>\n",
       "      <td>8558.000000</td>\n",
       "      <td>446.645000</td>\n",
       "      <td>28.684678</td>\n",
       "      <td>77.264840</td>\n",
       "      <td>150.475000</td>\n",
       "    </tr>\n",
       "    <tr>\n",
       "      <th>max</th>\n",
       "      <td>10831.000000</td>\n",
       "      <td>9150.000000</td>\n",
       "      <td>28.822836</td>\n",
       "      <td>80.518167</td>\n",
       "      <td>500.000000</td>\n",
       "    </tr>\n",
       "  </tbody>\n",
       "</table>\n",
       "</div>"
      ],
      "text/plain": [
       "         locationId         value      latitude     longitude           AQI\n",
       "count  14123.000000  14123.000000  14123.000000  14123.000000  14122.000000\n",
       "mean    7450.403668    423.680729     27.020523     77.383261    107.806376\n",
       "std     1701.720642    857.314204      4.711389      0.842208    255.661412\n",
       "min     2586.000000   -999.000000     12.909916     72.591912  -1665.000000\n",
       "25%     5634.000000     24.800000     28.551201     77.131023     27.500000\n",
       "50%     6957.000000    101.000000     28.631694     77.201157     55.855856\n",
       "75%     8558.000000    446.645000     28.684678     77.264840    150.475000\n",
       "max    10831.000000   9150.000000     28.822836     80.518167    500.000000"
      ]
     },
     "execution_count": 6,
     "metadata": {},
     "output_type": "execute_result"
    }
   ],
   "source": [
    "aqi_df.describe()"
   ]
  },
  {
   "cell_type": "markdown",
   "id": "b400e123",
   "metadata": {},
   "source": [
    "# Data Description\n",
    "\n",
    "- locationId:Location ID where data was measured.\n",
    "- location:Location where data was measured.\n",
    "- country:Country containing location.\n",
    "- utc:universal time\n",
    "- local:local time\n",
    "- parameter:Name of the Pollutant being measured. Allowed values: PM25, PM10, SO2, NO2, O3, CO\n",
    "- value:measured value for the pollutant\n",
    "- unit:the measurement unit\n",
    "- latitude:Latitude in decimal degrees.\n",
    "- longitude:Longitude in decimal degrees. \n",
    "- AQI: Air Quality Index      "
   ]
  },
  {
   "cell_type": "markdown",
   "id": "686c09df",
   "metadata": {},
   "source": [
    "# Data Visualisation"
   ]
  },
  {
   "cell_type": "code",
   "execution_count": 7,
   "id": "005b434b",
   "metadata": {},
   "outputs": [],
   "source": [
    "#splitting the dataset into datasets for individual gases for better understanding of the \n",
    "#relationships between AQI and different gases\n",
    "co = aqi_df[aqi_df['parameter']=='co']\n",
    "no2 = aqi_df[aqi_df['parameter']=='no2']\n",
    "o3 = aqi_df[aqi_df['parameter']=='o3']\n",
    "pm10 = aqi_df[aqi_df['parameter']=='pm10']\n",
    "pm25 = aqi_df[aqi_df['parameter']=='pm25']\n",
    "so2 = aqi_df[aqi_df['parameter']=='so2']"
   ]
  },
  {
   "cell_type": "code",
   "execution_count": 8,
   "id": "e14b995c",
   "metadata": {},
   "outputs": [
    {
     "data": {
      "text/html": [
       "<div>\n",
       "<style scoped>\n",
       "    .dataframe tbody tr th:only-of-type {\n",
       "        vertical-align: middle;\n",
       "    }\n",
       "\n",
       "    .dataframe tbody tr th {\n",
       "        vertical-align: top;\n",
       "    }\n",
       "\n",
       "    .dataframe thead th {\n",
       "        text-align: right;\n",
       "    }\n",
       "</style>\n",
       "<table border=\"1\" class=\"dataframe\">\n",
       "  <thead>\n",
       "    <tr style=\"text-align: right;\">\n",
       "      <th></th>\n",
       "      <th>locationId</th>\n",
       "      <th>location</th>\n",
       "      <th>city</th>\n",
       "      <th>country</th>\n",
       "      <th>utc</th>\n",
       "      <th>local</th>\n",
       "      <th>parameter</th>\n",
       "      <th>value</th>\n",
       "      <th>unit</th>\n",
       "      <th>latitude</th>\n",
       "      <th>longitude</th>\n",
       "      <th>AQI</th>\n",
       "    </tr>\n",
       "  </thead>\n",
       "  <tbody>\n",
       "    <tr>\n",
       "      <th>0</th>\n",
       "      <td>5631</td>\n",
       "      <td>Maninagar, Ahmedabad - GPCB</td>\n",
       "      <td>Ahmedabad</td>\n",
       "      <td>IN</td>\n",
       "      <td>2019-01-03T16:45:00+00:00</td>\n",
       "      <td>2019-01-03T22:15:00+05:30</td>\n",
       "      <td>so2</td>\n",
       "      <td>98.33</td>\n",
       "      <td>µg/m³</td>\n",
       "      <td>23.002657</td>\n",
       "      <td>72.591912</td>\n",
       "      <td>106.738027</td>\n",
       "    </tr>\n",
       "    <tr>\n",
       "      <th>6</th>\n",
       "      <td>5631</td>\n",
       "      <td>Maninagar, Ahmedabad - GPCB</td>\n",
       "      <td>Ahmedabad</td>\n",
       "      <td>IN</td>\n",
       "      <td>2019-01-03T16:30:00+00:00</td>\n",
       "      <td>2019-01-03T22:00:00+05:30</td>\n",
       "      <td>so2</td>\n",
       "      <td>92.51</td>\n",
       "      <td>µg/m³</td>\n",
       "      <td>23.002657</td>\n",
       "      <td>72.591912</td>\n",
       "      <td>104.811003</td>\n",
       "    </tr>\n",
       "    <tr>\n",
       "      <th>10</th>\n",
       "      <td>5631</td>\n",
       "      <td>Maninagar, Ahmedabad - GPCB</td>\n",
       "      <td>Ahmedabad</td>\n",
       "      <td>IN</td>\n",
       "      <td>2019-01-03T16:15:00+00:00</td>\n",
       "      <td>2019-01-03T21:45:00+05:30</td>\n",
       "      <td>so2</td>\n",
       "      <td>94.19</td>\n",
       "      <td>µg/m³</td>\n",
       "      <td>23.002657</td>\n",
       "      <td>72.591912</td>\n",
       "      <td>105.367258</td>\n",
       "    </tr>\n",
       "    <tr>\n",
       "      <th>13</th>\n",
       "      <td>5631</td>\n",
       "      <td>Maninagar, Ahmedabad - GPCB</td>\n",
       "      <td>Ahmedabad</td>\n",
       "      <td>IN</td>\n",
       "      <td>2019-01-03T16:00:00+00:00</td>\n",
       "      <td>2019-01-03T21:30:00+05:30</td>\n",
       "      <td>so2</td>\n",
       "      <td>91.05</td>\n",
       "      <td>µg/m³</td>\n",
       "      <td>23.002657</td>\n",
       "      <td>72.591912</td>\n",
       "      <td>104.327592</td>\n",
       "    </tr>\n",
       "    <tr>\n",
       "      <th>22</th>\n",
       "      <td>5631</td>\n",
       "      <td>Maninagar, Ahmedabad - GPCB</td>\n",
       "      <td>Ahmedabad</td>\n",
       "      <td>IN</td>\n",
       "      <td>2019-01-03T15:45:00+00:00</td>\n",
       "      <td>2019-01-03T21:15:00+05:30</td>\n",
       "      <td>so2</td>\n",
       "      <td>86.01</td>\n",
       "      <td>µg/m³</td>\n",
       "      <td>23.002657</td>\n",
       "      <td>72.591912</td>\n",
       "      <td>102.658829</td>\n",
       "    </tr>\n",
       "  </tbody>\n",
       "</table>\n",
       "</div>"
      ],
      "text/plain": [
       "    locationId                     location       city country  \\\n",
       "0         5631  Maninagar, Ahmedabad - GPCB  Ahmedabad      IN   \n",
       "6         5631  Maninagar, Ahmedabad - GPCB  Ahmedabad      IN   \n",
       "10        5631  Maninagar, Ahmedabad - GPCB  Ahmedabad      IN   \n",
       "13        5631  Maninagar, Ahmedabad - GPCB  Ahmedabad      IN   \n",
       "22        5631  Maninagar, Ahmedabad - GPCB  Ahmedabad      IN   \n",
       "\n",
       "                          utc                      local parameter  value  \\\n",
       "0   2019-01-03T16:45:00+00:00  2019-01-03T22:15:00+05:30       so2  98.33   \n",
       "6   2019-01-03T16:30:00+00:00  2019-01-03T22:00:00+05:30       so2  92.51   \n",
       "10  2019-01-03T16:15:00+00:00  2019-01-03T21:45:00+05:30       so2  94.19   \n",
       "13  2019-01-03T16:00:00+00:00  2019-01-03T21:30:00+05:30       so2  91.05   \n",
       "22  2019-01-03T15:45:00+00:00  2019-01-03T21:15:00+05:30       so2  86.01   \n",
       "\n",
       "     unit   latitude  longitude         AQI  \n",
       "0   µg/m³  23.002657  72.591912  106.738027  \n",
       "6   µg/m³  23.002657  72.591912  104.811003  \n",
       "10  µg/m³  23.002657  72.591912  105.367258  \n",
       "13  µg/m³  23.002657  72.591912  104.327592  \n",
       "22  µg/m³  23.002657  72.591912  102.658829  "
      ]
     },
     "execution_count": 8,
     "metadata": {},
     "output_type": "execute_result"
    }
   ],
   "source": [
    "so2.head()"
   ]
  },
  {
   "cell_type": "markdown",
   "id": "6b34de2c",
   "metadata": {},
   "source": [
    "# Plotting graphs of gas density vs. AQI"
   ]
  },
  {
   "cell_type": "markdown",
   "id": "1e40f30c",
   "metadata": {},
   "source": [
    "# Scatter plots"
   ]
  },
  {
   "cell_type": "code",
   "execution_count": 9,
   "id": "6d980604",
   "metadata": {},
   "outputs": [
    {
     "data": {
      "text/plain": [
       "<matplotlib.collections.PathCollection at 0x7fe6ac8cf250>"
      ]
     },
     "execution_count": 9,
     "metadata": {},
     "output_type": "execute_result"
    },
    {
     "data": {
      "image/png": "[encoded data removed]",
      "text/plain": [
       "<Figure size 432x288 with 1 Axes>"
      ]
     },
     "metadata": {
      "needs_background": "light"
     },
     "output_type": "display_data"
    }
   ],
   "source": [
    "plt.scatter(co['value'], co['AQI'])"
   ]
  },
  {
   "cell_type": "code",
   "execution_count": 10,
   "id": "46226c31",
   "metadata": {},
   "outputs": [
    {
     "data": {
      "text/plain": [
       "<matplotlib.collections.PathCollection at 0x7fe6ac8af7c0>"
      ]
     },
     "execution_count": 10,
     "metadata": {},
     "output_type": "execute_result"
    },
    {
     "data": {
      "image/png": "[encoded data removed]",
      "text/plain": [
       "<Figure size 432x288 with 1 Axes>"
      ]
     },
     "metadata": {
      "needs_background": "light"
     },
     "output_type": "display_data"
    }
   ],
   "source": [
    "plt.scatter(no2['value'], no2['AQI'])"
   ]
  },
  {
   "cell_type": "code",
   "execution_count": 11,
   "id": "ee1f0925",
   "metadata": {},
   "outputs": [
    {
     "data": {
      "text/plain": [
       "<matplotlib.collections.PathCollection at 0x7fe6ad1537c0>"
      ]
     },
     "execution_count": 11,
     "metadata": {},
     "output_type": "execute_result"
    },
    {
     "data": {
      "image/png": "[encoded data removed]",
      "text/plain": [
       "<Figure size 432x288 with 1 Axes>"
      ]
     },
     "metadata": {
      "needs_background": "light"
     },
     "output_type": "display_data"
    }
   ],
   "source": [
    "plt.scatter(o3['value'], o3['AQI'])"
   ]
  },
  {
   "cell_type": "code",
   "execution_count": 12,
   "id": "e1b08c8a",
   "metadata": {},
   "outputs": [
    {
     "data": {
      "text/plain": [
       "<matplotlib.collections.PathCollection at 0x7fe6ad51ba00>"
      ]
     },
     "execution_count": 12,
     "metadata": {},
     "output_type": "execute_result"
    },
    {
     "data": {
      "image/png": "[encoded data removed]",
      "text/plain": [
       "<Figure size 432x288 with 1 Axes>"
      ]
     },
     "metadata": {
      "needs_background": "light"
     },
     "output_type": "display_data"
    }
   ],
   "source": [
    "plt.scatter(pm10['value'], pm10['AQI'])"
   ]
  },
  {
   "cell_type": "code",
   "execution_count": 13,
   "id": "a4e67cff",
   "metadata": {},
   "outputs": [
    {
     "data": {
      "text/plain": [
       "<matplotlib.collections.PathCollection at 0x7fe6accbf160>"
      ]
     },
     "execution_count": 13,
     "metadata": {},
     "output_type": "execute_result"
    },
    {
     "data": {
      "image/png": "[encoded data removed]",
      "text/plain": [
       "<Figure size 432x288 with 1 Axes>"
      ]
     },
     "metadata": {
      "needs_background": "light"
     },
     "output_type": "display_data"
    }
   ],
   "source": [
    "plt.scatter(pm25['value'], pm25['AQI'])"
   ]
  },
  {
   "cell_type": "markdown",
   "id": "26b537da",
   "metadata": {},
   "source": [
    "OBSERVATION : The above graph shows the distortions of pm25 gas density with AQI. It seems the values of pm25 gases are quite unstable and would require cleaning."
   ]
  },
  {
   "cell_type": "code",
   "execution_count": 14,
   "id": "8e34feb4",
   "metadata": {},
   "outputs": [
    {
     "data": {
      "text/plain": [
       "<matplotlib.collections.PathCollection at 0x7fe6ad4b5ac0>"
      ]
     },
     "execution_count": 14,
     "metadata": {},
     "output_type": "execute_result"
    },
    {
     "data": {
      "image/png": "[encoded data removed]",
      "text/plain": [
       "<Figure size 432x288 with 1 Axes>"
      ]
     },
     "metadata": {
      "needs_background": "light"
     },
     "output_type": "display_data"
    }
   ],
   "source": [
    "plt.scatter(so2['value'], so2['AQI'])"
   ]
  },
  {
   "cell_type": "markdown",
   "id": "3b1dfd43",
   "metadata": {},
   "source": [
    "# Boxplots"
   ]
  },
  {
   "cell_type": "markdown",
   "id": "09f08d11",
   "metadata": {},
   "source": [
    "Checking for outliers"
   ]
  },
  {
   "cell_type": "code",
   "execution_count": 15,
   "id": "f7b7c80c",
   "metadata": {},
   "outputs": [
    {
     "data": {
      "text/plain": [
       "<AxesSubplot:xlabel='AQI', ylabel='parameter'>"
      ]
     },
     "execution_count": 15,
     "metadata": {},
     "output_type": "execute_result"
    },
    {
     "data": {
      "image/png": "[encoded data removed]",
      "text/plain": [
       "<Figure size 432x288 with 1 Axes>"
      ]
     },
     "metadata": {
      "needs_background": "light"
     },
     "output_type": "display_data"
    }
   ],
   "source": [
    "plt.xticks(rotation=90)\n",
    "sns.boxplot(x='AQI',y='parameter',data=aqi_df)"
   ]
  },
  {
   "cell_type": "markdown",
   "id": "ec276070",
   "metadata": {},
   "source": [
    "# Histogram"
   ]
  },
  {
   "cell_type": "code",
   "execution_count": 16,
   "id": "cb47f144",
   "metadata": {},
   "outputs": [
    {
     "data": {
      "text/plain": [
       "Text(0.5, 1.0, 'AQI vs parameter')"
      ]
     },
     "execution_count": 16,
     "metadata": {},
     "output_type": "execute_result"
    },
    {
     "data": {
      "image/png": "[encoded data removed]",
      "text/plain": [
       "<Figure size 1440x360 with 1 Axes>"
      ]
     },
     "metadata": {
      "needs_background": "light"
     },
     "output_type": "display_data"
    }
   ],
   "source": [
    "plt.figure(figsize=(20,5))\n",
    "sns.barplot(x = \"AQI\", y = aqi_df['parameter'], data = aqi_df)\n",
    "plt.xticks(rotation=90)\n",
    "plt.title(\"AQI vs parameter\")"
   ]
  },
  {
   "cell_type": "markdown",
   "id": "8861900b",
   "metadata": {},
   "source": [
    "# Pairplots"
   ]
  },
  {
   "cell_type": "code",
   "execution_count": 17,
   "id": "25065ad8",
   "metadata": {},
   "outputs": [
    {
     "data": {
      "text/plain": [
       "<seaborn.axisgrid.PairGrid at 0x7fe6acac1ac0>"
      ]
     },
     "execution_count": 17,
     "metadata": {},
     "output_type": "execute_result"
    },
    {
     "data": {
      "text/plain": [
       "<Figure size 1440x1440 with 0 Axes>"
      ]
     },
     "metadata": {},
     "output_type": "display_data"
    },
    {
     "data": {
      "image/png": "[encoded data removed]",
      "text/plain": [
       "<Figure size 900x900 with 30 Axes>"
      ]
     },
     "metadata": {
      "needs_background": "light"
     },
     "output_type": "display_data"
    }
   ],
   "source": [
    "plt.figure(figsize=(20,20))\n",
    "sns.pairplot(aqi_df)"
   ]
  },
  {
   "cell_type": "markdown",
   "id": "ae173798",
   "metadata": {},
   "source": [
    "# Heatmap"
   ]
  },
  {
   "cell_type": "code",
   "execution_count": 18,
   "id": "2c9c6409",
   "metadata": {},
   "outputs": [
    {
     "data": {
      "text/plain": [
       "<AxesSubplot:>"
      ]
     },
     "execution_count": 18,
     "metadata": {},
     "output_type": "execute_result"
    },
    {
     "data": {
      "image/png": "[encoded data removed]",
      "text/plain": [
       "<Figure size 1080x1080 with 2 Axes>"
      ]
     },
     "metadata": {
      "needs_background": "light"
     },
     "output_type": "display_data"
    }
   ],
   "source": [
    "plt.figure(figsize=(15,15))\n",
    "sns.heatmap(aqi_df.corr(),annot=True)"
   ]
  },
  {
   "cell_type": "markdown",
   "id": "9b46c322",
   "metadata": {},
   "source": [
    "# Data Cleaning"
   ]
  },
  {
   "cell_type": "markdown",
   "id": "20f87900",
   "metadata": {},
   "source": [
    "Checking for null values"
   ]
  },
  {
   "cell_type": "code",
   "execution_count": 19,
   "id": "19029948",
   "metadata": {},
   "outputs": [
    {
     "data": {
      "text/plain": [
       "locationId    0\n",
       "location      0\n",
       "city          0\n",
       "country       0\n",
       "utc           0\n",
       "local         0\n",
       "parameter     0\n",
       "value         0\n",
       "unit          0\n",
       "latitude      0\n",
       "longitude     0\n",
       "AQI           1\n",
       "dtype: int64"
      ]
     },
     "execution_count": 19,
     "metadata": {},
     "output_type": "execute_result"
    }
   ],
   "source": [
    "aqi_df.isnull().sum()"
   ]
  },
  {
   "cell_type": "code",
   "execution_count": 20,
   "id": "a931322d",
   "metadata": {},
   "outputs": [
    {
     "data": {
      "text/plain": [
       "US Diplomatic Post: Chennai                         743\n",
       "US Diplomatic Post: New Delhi                       741\n",
       "Sirifort, Delhi - CPCB                              421\n",
       "ITO, Delhi - CPCB                                   411\n",
       "DTU, Delhi - CPCB                                   407\n",
       "Dwarka-Sector 8, Delhi - DPCC                       390\n",
       "Okhla Phase-2, Delhi - DPCC                         389\n",
       "Major Dhyan Chand National Stadium, Delhi - DPCC    388\n",
       "R K Puram, Delhi - DPCC                             388\n",
       "Jawaharlal Nehru Stadium, Delhi - DPCC              385\n",
       "Ashok Vihar, Delhi - DPCC                           383\n",
       "Najafgarh, Delhi - DPCC                             380\n",
       "Rohini, Delhi - DPCC                                375\n",
       "Punjabi Bagh, Delhi - DPCC                          372\n",
       "Wazirpur, Delhi - DPCC                              365\n",
       "Narela, Delhi - DPCC                                364\n",
       "Sri Aurobindo Marg, Delhi - DPCC                    355\n",
       "Mandir Marg, Delhi - DPCC                           353\n",
       "Dr. Karni Singh Shooting Range, Delhi - DPCC        352\n",
       "Nehru Nagar, Delhi - DPCC                           348\n",
       "Mundka, Delhi - DPCC                                348\n",
       "Shadipur, Delhi - CPCB                              339\n",
       "CRRI Mathura Road, Delhi - IMD                      338\n",
       "NSIT Dwarka, Delhi - CPCB                           335\n",
       "Sonia Vihar, Delhi - DPCC                           323\n",
       "Patparganj, Delhi - DPCC                            310\n",
       "Alipur, Delhi - DPCC                                304\n",
       "Burari Crossing, Delhi - IMD                        292\n",
       "Bawana, Delhi - DPCC                                285\n",
       "IHBAS, Dilshad Garden, Delhi - CPCB                 269\n",
       "Pusa, Delhi - IMD                                   262\n",
       "Anand Vihar, Delhi - DPCC                           262\n",
       "Aya Nagar, Delhi - IMD                              252\n",
       "North Campus, DU, Delhi - IMD                       244\n",
       "Jahangirpuri, Delhi - DPCC                          233\n",
       "Lodhi Road, Delhi - IMD                             219\n",
       "IGI Airport (T3), Delhi - IMD                       200\n",
       "Vivek Vihar, Delhi - DPCC                           192\n",
       "Hebbal, Bengaluru - KSPCB                            69\n",
       "Hombegowda Nagar, Bengaluru - KSPCB                  68\n",
       "Secretariat, Amaravati - APPCB                       63\n",
       "Silk Board, Bengaluru - KSPCB                        62\n",
       "Bapuji Nagar, Bengaluru - KSPCB                      61\n",
       "Maninagar, Ahmedabad - GPCB                          61\n",
       "BTM Layout, Bengaluru - CPCB                         60\n",
       "Alandur Bus Depot, Chennai - CPCB                    58\n",
       "BWSSB Kadabesanahalli, Bengaluru - CPCB              54\n",
       "Manali, Chennai - CPCB                               49\n",
       "Peenya, Bengaluru - CPCB                             48\n",
       "City Railway Station, Bengaluru - KSPCB              42\n",
       "Velachery Res. Area, Chennai - CPCB                  37\n",
       "Sanegurava Halli, Bengaluru - KSPCB                  36\n",
       "East Arjun Nagar, Delhi - CPCB                       32\n",
       "Jayanagar 5th Block, Bengaluru - KSPCB                6\n",
       "Name: location, dtype: int64"
      ]
     },
     "execution_count": 20,
     "metadata": {},
     "output_type": "execute_result"
    }
   ],
   "source": [
    "aqi_df['location'].value_counts()"
   ]
  },
  {
   "cell_type": "code",
   "execution_count": 21,
   "id": "7fb116b2",
   "metadata": {},
   "outputs": [
    {
     "data": {
      "text/plain": [
       "Delhi        12606\n",
       "Chennai        887\n",
       "Bengaluru      506\n",
       "Amaravati       63\n",
       "Ahmedabad       61\n",
       "Name: city, dtype: int64"
      ]
     },
     "execution_count": 21,
     "metadata": {},
     "output_type": "execute_result"
    }
   ],
   "source": [
    "aqi_df['city'].value_counts()"
   ]
  },
  {
   "cell_type": "code",
   "execution_count": 22,
   "id": "e2c93be5",
   "metadata": {},
   "outputs": [
    {
     "data": {
      "text/plain": [
       "IN    14123\n",
       "Name: country, dtype: int64"
      ]
     },
     "execution_count": 22,
     "metadata": {},
     "output_type": "execute_result"
    }
   ],
   "source": [
    "aqi_df['country'].value_counts()"
   ]
  },
  {
   "cell_type": "code",
   "execution_count": 23,
   "id": "1e3c5a77",
   "metadata": {},
   "outputs": [
    {
     "data": {
      "text/plain": [
       "pm25    3718\n",
       "no2     2269\n",
       "o3      2153\n",
       "co      2109\n",
       "pm10    2020\n",
       "so2     1854\n",
       "Name: parameter, dtype: int64"
      ]
     },
     "execution_count": 23,
     "metadata": {},
     "output_type": "execute_result"
    }
   ],
   "source": [
    "aqi_df['parameter'].value_counts()"
   ]
  },
  {
   "cell_type": "code",
   "execution_count": 24,
   "id": "f0a58154",
   "metadata": {},
   "outputs": [
    {
     "data": {
      "text/plain": [
       "-999.00     187\n",
       " 2000.00     83\n",
       " 1800.00     63\n",
       " 0.00        60\n",
       " 2200.00     59\n",
       "           ... \n",
       " 38.74        1\n",
       " 210.13       1\n",
       " 1160.00      1\n",
       " 71.28        1\n",
       " 391.00       1\n",
       "Name: value, Length: 4202, dtype: int64"
      ]
     },
     "execution_count": 24,
     "metadata": {},
     "output_type": "execute_result"
    }
   ],
   "source": [
    "aqi_df['value'].value_counts()"
   ]
  },
  {
   "cell_type": "code",
   "execution_count": 25,
   "id": "7958b7e1",
   "metadata": {},
   "outputs": [
    {
     "data": {
      "text/plain": [
       " 50.000000      1484\n",
       " 500.000000     1274\n",
       "-1665.000000     187\n",
       " 50.000000        97\n",
       " 90.190190        63\n",
       "                ... \n",
       " 63.100000         1\n",
       " 44.700000         1\n",
       " 11.212500         1\n",
       " 66.240256         1\n",
       " 100.500000        1\n",
       "Name: AQI, Length: 4016, dtype: int64"
      ]
     },
     "execution_count": 25,
     "metadata": {},
     "output_type": "execute_result"
    }
   ],
   "source": [
    "aqi_df['AQI'].value_counts()"
   ]
  },
  {
   "cell_type": "markdown",
   "id": "3a039aae",
   "metadata": {},
   "source": [
    "OBSERVATION: There are few rows which has values like -999 for pm25 parameter."
   ]
  },
  {
   "cell_type": "markdown",
   "id": "b4fb4909",
   "metadata": {},
   "source": [
    "Removing error values "
   ]
  },
  {
   "cell_type": "code",
   "execution_count": 26,
   "id": "83cf2502",
   "metadata": {},
   "outputs": [],
   "source": [
    "#drop any rows that have -999 in the value column\n",
    "aqi_df = aqi_df[aqi_df.value != -999]"
   ]
  },
  {
   "cell_type": "markdown",
   "id": "e39b84e4",
   "metadata": {},
   "source": [
    "Replacing null values with mean "
   ]
  },
  {
   "cell_type": "code",
   "execution_count": 27,
   "id": "dc0da03b",
   "metadata": {},
   "outputs": [],
   "source": [
    "aqi_df['AQI']=aqi_df['AQI'].fillna(aqi_df['AQI'].mean())"
   ]
  },
  {
   "cell_type": "markdown",
   "id": "b8e0c4e5",
   "metadata": {},
   "source": [
    "Deleting unnecessary columns"
   ]
  },
  {
   "cell_type": "code",
   "execution_count": 28,
   "id": "21a0e5fd",
   "metadata": {},
   "outputs": [],
   "source": [
    "del aqi_df['country']\n",
    "del aqi_df['unit']\n",
    "del aqi_df['utc']\n",
    "del aqi_df['local']"
   ]
  },
  {
   "cell_type": "markdown",
   "id": "7716b725",
   "metadata": {},
   "source": [
    "Number of rows and columns left after data cleaning"
   ]
  },
  {
   "cell_type": "code",
   "execution_count": 29,
   "id": "b4cf6270",
   "metadata": {},
   "outputs": [
    {
     "data": {
      "text/plain": [
       "(13936, 8)"
      ]
     },
     "execution_count": 29,
     "metadata": {},
     "output_type": "execute_result"
    }
   ],
   "source": [
    "aqi_df.shape"
   ]
  },
  {
   "cell_type": "markdown",
   "id": "e046d10a",
   "metadata": {},
   "source": [
    "# Data Preprocessing"
   ]
  },
  {
   "cell_type": "markdown",
   "id": "b6a252b5",
   "metadata": {},
   "source": [
    "Converting Categorical data to numerical data"
   ]
  },
  {
   "cell_type": "code",
   "execution_count": 30,
   "id": "08d944fd",
   "metadata": {
    "scrolled": true
   },
   "outputs": [
    {
     "name": "stdout",
     "output_type": "stream",
     "text": [
      "<class 'pandas.core.frame.DataFrame'>\n",
      "Int64Index: 13936 entries, 0 to 14122\n",
      "Data columns (total 8 columns):\n",
      " #   Column      Non-Null Count  Dtype  \n",
      "---  ------      --------------  -----  \n",
      " 0   locationId  13936 non-null  int64  \n",
      " 1   location    13936 non-null  object \n",
      " 2   city        13936 non-null  object \n",
      " 3   parameter   13936 non-null  object \n",
      " 4   value       13936 non-null  float64\n",
      " 5   latitude    13936 non-null  float64\n",
      " 6   longitude   13936 non-null  float64\n",
      " 7   AQI         13936 non-null  float64\n",
      "dtypes: float64(4), int64(1), object(3)\n",
      "memory usage: 979.9+ KB\n"
     ]
    }
   ],
   "source": [
    "aqi_df.info()"
   ]
  },
  {
   "cell_type": "code",
   "execution_count": 31,
   "id": "fb3a1366",
   "metadata": {},
   "outputs": [],
   "source": [
    "#applying label encoding for categorical data\n",
    "from sklearn.preprocessing import LabelEncoder\n",
    "le = LabelEncoder()\n",
    "aqi_df['location'] = le.fit_transform(aqi_df['location'])\n",
    "aqi_df['city']=le.fit_transform(aqi_df['city'])\n",
    "aqi_df['parameter']=le.fit_transform(aqi_df['parameter'])"
   ]
  },
  {
   "cell_type": "code",
   "execution_count": 32,
   "id": "09c4030b",
   "metadata": {},
   "outputs": [
    {
     "data": {
      "text/plain": [
       "<AxesSubplot:>"
      ]
     },
     "execution_count": 32,
     "metadata": {},
     "output_type": "execute_result"
    },
    {
     "data": {
      "image/png": "[encoded data removed]",
      "text/plain": [
       "<Figure size 1080x1080 with 2 Axes>"
      ]
     },
     "metadata": {
      "needs_background": "light"
     },
     "output_type": "display_data"
    }
   ],
   "source": [
    "#Heatmap after data cleaning\n",
    "plt.figure(figsize=(15,15))\n",
    "sns.heatmap(aqi_df.corr(),annot=True)"
   ]
  },
  {
   "cell_type": "code",
   "execution_count": 33,
   "id": "bce1027b",
   "metadata": {},
   "outputs": [],
   "source": [
    "#Scaling the dataset\n",
    "from sklearn.preprocessing import MinMaxScaler\n",
    "S_scaler = MinMaxScaler()\n",
    "aqi_df_scaled = S_scaler.fit_transform(aqi_df)\n",
    "aqi_scaled_df = pd.DataFrame(aqi_df_scaled, columns = aqi_df.columns)"
   ]
  },
  {
   "cell_type": "code",
   "execution_count": 34,
   "id": "e16e8e29",
   "metadata": {},
   "outputs": [],
   "source": [
    " #save class labels separately\n",
    "class_labels = aqi_scaled_df['AQI'].values \n",
    "#check class imbalance and then adjust the split\n",
    "aqi_scaled_df['AQI'].value_counts() \n",
    "# drop the label from dataframe so it is not used in training\n",
    "aqi_scaled_df.drop(['AQI'], axis=1, inplace=True)"
   ]
  },
  {
   "cell_type": "code",
   "execution_count": 35,
   "id": "0f5797a0",
   "metadata": {},
   "outputs": [
    {
     "name": "stdout",
     "output_type": "stream",
     "text": [
      "Train Data: (11148, 7), (11148,)\n",
      "Test Data: (2788, 7), (2788,)\n"
     ]
    }
   ],
   "source": [
    "#Splitting the dataset into 80:20 ratio\n",
    "from sklearn.model_selection import train_test_split\n",
    "x_train, x_test, y_train, y_test = train_test_split(\n",
    "    aqi_scaled_df, class_labels, test_size=0.2, random_state=42)\n",
    "print(f\"Train Data: {x_train.shape}, {y_train.shape}\")\n",
    "print(f\"Test Data: {x_test.shape}, {y_test.shape}\")"
   ]
  },
  {
   "cell_type": "markdown",
   "id": "b56bee71",
   "metadata": {},
   "source": [
    "# Regression Models"
   ]
  },
  {
   "cell_type": "code",
   "execution_count": 36,
   "id": "b12ce99f",
   "metadata": {},
   "outputs": [],
   "source": [
    "R2_score = []\n",
    "reg_model = []"
   ]
  },
  {
   "cell_type": "markdown",
   "id": "20e4644b",
   "metadata": {},
   "source": [
    "# Linear Regression"
   ]
  },
  {
   "cell_type": "code",
   "execution_count": 37,
   "id": "732f9f5b",
   "metadata": {},
   "outputs": [
    {
     "name": "stdout",
     "output_type": "stream",
     "text": [
      "Training evaluation\n",
      "R2 score: 0.06\n",
      "Mean absolute error: 0.23\n",
      "Mean squared error: 0.09\n",
      "Root Mean squared error: 0.30\n",
      "\n",
      "Test set evaluation\n",
      "R2 score: 0.07\n",
      "Mean absolute error: 0.23\n",
      "Mean squared error: 0.09\n",
      "Root Mean squared error: 0.30\n"
     ]
    }
   ],
   "source": [
    "from sklearn.linear_model import LinearRegression\n",
    "from sklearn.metrics import mean_absolute_error,mean_squared_error\n",
    "from sklearn.metrics import r2_score\n",
    "import math\n",
    "#Training the model\n",
    "Linear_R=LinearRegression().fit(x_train, y_train)\n",
    "LinearR_trained = Linear_R.predict(x_train)\n",
    "print(\"Training evaluation\")\n",
    "print(\"R2 score: %.2f\" %r2_score(y_train, LinearR_trained))\n",
    "print(\"Mean absolute error: %.2f\" %mean_absolute_error(y_train, LinearR_trained))\n",
    "print(\"Mean squared error: %.2f\" %mean_squared_error(y_train, LinearR_trained))\n",
    "print(\"Root Mean squared error: %.2f\" %math.sqrt(mean_squared_error(y_train, LinearR_trained)))\n",
    "\n",
    "#Testing the model\n",
    "LinearR_test = Linear_R.predict(x_test)\n",
    "print(\"\\nTest set evaluation\")\n",
    "print(\"R2 score: %.2f\" %r2_score(y_test, LinearR_test))\n",
    "print(\"Mean absolute error: %.2f\" %mean_absolute_error(y_test, LinearR_test))\n",
    "print(\"Mean squared error: %.2f\" %mean_squared_error(y_test, LinearR_test))\n",
    "print(\"Root Mean squared error: %.2f\" %math.sqrt(mean_squared_error(y_test, LinearR_test)))\n",
    "\n",
    "R2_score.append(r2_score(y_test, LinearR_test))\n",
    "reg_model.append(\"Linear Regression\")"
   ]
  },
  {
   "cell_type": "markdown",
   "id": "60085e4c",
   "metadata": {},
   "source": [
    "# Ridge Regression"
   ]
  },
  {
   "cell_type": "code",
   "execution_count": 38,
   "id": "f13a957d",
   "metadata": {},
   "outputs": [
    {
     "name": "stdout",
     "output_type": "stream",
     "text": [
      "Training evaluation\n",
      "R2 score: 0.06\n",
      "Mean absolute error: 0.23\n",
      "Mean squared error: 0.09\n",
      "Root Mean squared error: 0.30\n",
      "\n",
      "Test set evaluation\n",
      "R2 score: 0.07\n",
      "Mean absolute error: 0.23\n",
      "Mean squared error: 0.09\n",
      "Root Mean squared error: 0.30\n"
     ]
    }
   ],
   "source": [
    "from sklearn.linear_model import Ridge\n",
    "\n",
    "rr = Ridge()\n",
    "#Training the model\n",
    "rr.fit(x_train, y_train) \n",
    "rr_trained = rr.predict(x_train)\n",
    "print(\"Training evaluation\")\n",
    "print(\"R2 score: %.2f\" %r2_score(y_train, rr_trained))\n",
    "print(\"Mean absolute error: %.2f\" %mean_absolute_error(y_train, rr_trained))\n",
    "print(\"Mean squared error: %.2f\" %mean_squared_error(y_train, rr_trained))\n",
    "print(\"Root Mean squared error: %.2f\" %math.sqrt(mean_squared_error(y_train, rr_trained)))\n",
    "\n",
    "#testing the model\n",
    "rr_test = rr.predict(x_test)\n",
    "print(\"\\nTest set evaluation\")\n",
    "print(\"R2 score: %.2f\" %r2_score(y_test, rr_test))\n",
    "print(\"Mean absolute error: %.2f\" %mean_absolute_error(y_test, rr_test))\n",
    "print(\"Mean squared error: %.2f\" %mean_squared_error(y_test, rr_test))\n",
    "print(\"Root Mean squared error: %.2f\" %math.sqrt(mean_squared_error(y_test, rr_test)))\n",
    "\n",
    "R2_score.append(r2_score(y_test, rr_test))\n",
    "reg_model.append(\"Ridge Regression\")"
   ]
  },
  {
   "cell_type": "markdown",
   "id": "38a391e3",
   "metadata": {},
   "source": [
    "# Lasso Regression"
   ]
  },
  {
   "cell_type": "code",
   "execution_count": 39,
   "id": "e90f7006",
   "metadata": {},
   "outputs": [
    {
     "name": "stdout",
     "output_type": "stream",
     "text": [
      "Training evaluation\n",
      "R2 score: 0.06\n",
      "Mean absolute error: 0.23\n",
      "Mean squared error: 0.09\n",
      "Root Mean squared error: 0.30\n",
      "\n",
      "Test set evaluation\n",
      "R2 score: 0.07\n",
      "Mean absolute error: 0.23\n",
      "Mean squared error: 0.09\n",
      "Root Mean squared error: 0.30\n"
     ]
    }
   ],
   "source": [
    "from sklearn.linear_model import Lasso\n",
    "\n",
    "model_lasso = Lasso(alpha=0)\n",
    "#Training the model\n",
    "model_lasso.fit(x_train, y_train) \n",
    "lasso_trained= model_lasso.predict(x_train)\n",
    "print(\"Training evaluation\")\n",
    "print(\"R2 score: %.2f\" %r2_score(y_train, lasso_trained))\n",
    "print(\"Mean absolute error: %.2f\" %mean_absolute_error(y_train, lasso_trained))\n",
    "print(\"Mean squared error: %.2f\" %mean_squared_error(y_train, lasso_trained))\n",
    "print(\"Root Mean squared error: %.2f\" %math.sqrt(mean_squared_error(y_train, lasso_trained)))\n",
    "\n",
    "#Testing the model\n",
    "lasso_test = model_lasso.predict(x_test)\n",
    "print(\"\\nTest set evaluation\")\n",
    "print(\"R2 score: %.2f\" %r2_score(y_test, lasso_test))\n",
    "print(\"Mean absolute error: %.2f\" %mean_absolute_error(y_test, lasso_test))\n",
    "print(\"Mean squared error: %.2f\" %mean_squared_error(y_test, lasso_test))\n",
    "print(\"Root Mean squared error: %.2f\" %math.sqrt(mean_squared_error(y_test, lasso_test)))\n",
    "\n",
    "R2_score.append(r2_score(y_test, lasso_test))\n",
    "reg_model.append(\"Lasso Regression\")"
   ]
  },
  {
   "cell_type": "markdown",
   "id": "505d2e32",
   "metadata": {},
   "source": [
    "# Decision Tree Regression"
   ]
  },
  {
   "cell_type": "code",
   "execution_count": 40,
   "id": "18bd19eb",
   "metadata": {},
   "outputs": [
    {
     "name": "stdout",
     "output_type": "stream",
     "text": [
      "Training evaluation\n",
      "R2 score: 0.98\n",
      "Mean absolute error: 0.02\n",
      "Mean squared error: 0.00\n",
      "Root Mean squared error: 0.05\n",
      "\n",
      "Test set evaluation\n",
      "R2 score: 0.97\n",
      "Mean absolute error: 0.03\n",
      "Mean squared error: 0.00\n",
      "Root Mean squared error: 0.05\n"
     ]
    }
   ],
   "source": [
    "from sklearn.tree import DecisionTreeRegressor \n",
    "\n",
    "DT_model = DecisionTreeRegressor(max_depth=4) \n",
    "  \n",
    "#Training the model\n",
    "DT_model.fit(x_train, y_train)\n",
    "DT_trained = DT_model.predict(x_train)\n",
    "print(\"Training evaluation\")\n",
    "print(\"R2 score: %.2f\" %r2_score(y_train, DT_trained))\n",
    "print(\"Mean absolute error: %.2f\" %mean_absolute_error(y_train, DT_trained))\n",
    "print(\"Mean squared error: %.2f\" %mean_squared_error(y_train, DT_trained))\n",
    "print(\"Root Mean squared error: %.2f\" %math.sqrt(mean_squared_error(y_train, DT_trained)))\n",
    "\n",
    "#Testing the model\n",
    "DT_test = DT_model.predict(x_test)\n",
    "print(\"\\nTest set evaluation\")\n",
    "print(\"R2 score: %.2f\" %r2_score(y_test, DT_test))\n",
    "print(\"Mean absolute error: %.2f\" %mean_absolute_error(y_test, DT_test))\n",
    "print(\"Mean squared error: %.2f\" %mean_squared_error(y_test, DT_test))\n",
    "print(\"Root Mean squared error: %.2f\" %math.sqrt(mean_squared_error(y_test, DT_test)))\n",
    "\n",
    "R2_score.append(r2_score(y_test, DT_test))\n",
    "reg_model.append(\"Decision Tree Regression\")"
   ]
  },
  {
   "cell_type": "markdown",
   "id": "6c73efad",
   "metadata": {},
   "source": [
    "# Random Forest Regression"
   ]
  },
  {
   "cell_type": "code",
   "execution_count": 41,
   "id": "fcd1c01e",
   "metadata": {},
   "outputs": [
    {
     "name": "stdout",
     "output_type": "stream",
     "text": [
      "Training evaluation\n",
      "R2 score: 0.98\n",
      "Mean absolute error: 0.02\n",
      "Mean squared error: 0.00\n",
      "Root Mean squared error: 0.05\n",
      "\n",
      "Test set evaluation\n",
      "R2 score: 0.98\n",
      "Mean absolute error: 0.02\n",
      "Mean squared error: 0.00\n",
      "Root Mean squared error: 0.05\n"
     ]
    }
   ],
   "source": [
    "from sklearn.ensemble import RandomForestRegressor\n",
    "\n",
    "RF=RandomForestRegressor(max_depth=4).fit(x_train,y_train)\n",
    "\n",
    "#training the model\n",
    "RF_trained=RF.predict(x_train)\n",
    "print(\"Training evaluation\")\n",
    "print(\"R2 score: %.2f\" %r2_score(y_train, RF_trained))\n",
    "print(\"Mean absolute error: %.2f\" %mean_absolute_error(y_train, RF_trained))\n",
    "print(\"Mean squared error: %.2f\" %mean_squared_error(y_train, RF_trained))\n",
    "print(\"Root Mean squared error: %.2f\" %math.sqrt(mean_squared_error(y_train, RF_trained)))\n",
    "\n",
    "#testing the model\n",
    "RF_test=RF.predict(x_test)\n",
    "print(\"\\nTest set evaluation\")\n",
    "print(\"R2 score: %.2f\" %r2_score(y_test, RF_test))\n",
    "print(\"Mean absolute error: %.2f\" %mean_absolute_error(y_test, RF_test))\n",
    "print(\"Mean squared error: %.2f\" %mean_squared_error(y_test, RF_test))\n",
    "print(\"Root Mean squared error: %.2f\" %math.sqrt(mean_squared_error(y_test, RF_test)))\n",
    "\n",
    "R2_score.append(r2_score(y_test, RF_test))\n",
    "reg_model.append(\"Random Forest Regression\")"
   ]
  },
  {
   "cell_type": "markdown",
   "id": "bd7412fc",
   "metadata": {},
   "source": [
    "# Support Vector Regression"
   ]
  },
  {
   "cell_type": "code",
   "execution_count": 42,
   "id": "69f5b912",
   "metadata": {},
   "outputs": [
    {
     "name": "stdout",
     "output_type": "stream",
     "text": [
      "Training evaluation\n",
      "R2 score: 0.60\n",
      "Mean absolute error: 0.14\n",
      "Mean squared error: 0.04\n",
      "Root Mean squared error: 0.19\n",
      "\n",
      "Test set evaluation\n",
      "R2 score: 0.62\n",
      "Mean absolute error: 0.14\n",
      "Mean squared error: 0.04\n",
      "Root Mean squared error: 0.19\n"
     ]
    }
   ],
   "source": [
    "from sklearn.svm import SVR\n",
    "\n",
    "regressor = SVR() \n",
    "  \n",
    "#Training the model\n",
    "regressor.fit(x_train,y_train)\n",
    "SVR_trained = regressor.predict(x_train)\n",
    "print(\"Training evaluation\")\n",
    "print(\"R2 score: %.2f\" %r2_score(y_train, SVR_trained))\n",
    "print(\"Mean absolute error: %.2f\" %mean_absolute_error(y_train, SVR_trained))\n",
    "print(\"Mean squared error: %.2f\" %mean_squared_error(y_train, SVR_trained))\n",
    "print(\"Root Mean squared error: %.2f\" %math.sqrt(mean_squared_error(y_train, SVR_trained)))\n",
    "\n",
    "#Testing the model\n",
    "SVR_test = regressor.predict(x_test)\n",
    "print(\"\\nTest set evaluation\")\n",
    "print(\"R2 score: %.2f\" %r2_score(y_test, SVR_test))\n",
    "print(\"Mean absolute error: %.2f\" %mean_absolute_error(y_test, SVR_test))\n",
    "print(\"Mean squared error: %.2f\" %mean_squared_error(y_test, SVR_test))\n",
    "print(\"Root Mean squared error: %.2f\" %math.sqrt(mean_squared_error(y_test,SVR_test)))\n",
    "\n",
    "R2_score.append(r2_score(y_test, SVR_test))\n",
    "reg_model.append(\"Support Vector Regression\")"
   ]
  },
  {
   "cell_type": "markdown",
   "id": "a4b3b0a3",
   "metadata": {},
   "source": [
    "# AdaBoost Regression"
   ]
  },
  {
   "cell_type": "code",
   "execution_count": 43,
   "id": "15b368b6",
   "metadata": {},
   "outputs": [
    {
     "name": "stdout",
     "output_type": "stream",
     "text": [
      "Training evaluation\n",
      "R2 score: 0.83\n",
      "Mean absolute error: 0.08\n",
      "Mean squared error: 0.02\n",
      "Root Mean squared error: 0.12\n",
      "\n",
      "Test set evaluation\n",
      "R2 score: 0.84\n",
      "Mean absolute error: 0.08\n",
      "Mean squared error: 0.02\n",
      "Root Mean squared error: 0.12\n"
     ]
    }
   ],
   "source": [
    "from sklearn.ensemble import AdaBoostRegressor\n",
    "\n",
    "regr =AdaBoostRegressor()\n",
    "  \n",
    "#Training the model\n",
    "regr.fit(x_train,y_train)\n",
    "ABR_trained = regr.predict(x_train)\n",
    "print(\"Training evaluation\")\n",
    "print(\"R2 score: %.2f\" %r2_score(y_train, ABR_trained))\n",
    "print(\"Mean absolute error: %.2f\" %mean_absolute_error(y_train, ABR_trained))\n",
    "print(\"Mean squared error: %.2f\" %mean_squared_error(y_train, ABR_trained))\n",
    "print(\"Root Mean squared error: %.2f\" %math.sqrt(mean_squared_error(y_train, ABR_trained)))\n",
    "\n",
    "#Testing the model\n",
    "ABR_test = regr.predict(x_test)\n",
    "print(\"\\nTest set evaluation\")\n",
    "print(\"R2 score: %.2f\" %r2_score(y_test, ABR_test))\n",
    "print(\"Mean absolute error: %.2f\" %mean_absolute_error(y_test, ABR_test))\n",
    "print(\"Mean squared error: %.2f\" %mean_squared_error(y_test, ABR_test))\n",
    "print(\"Root Mean squared error: %.2f\" %math.sqrt(mean_squared_error(y_test,ABR_test)))\n",
    "\n",
    "R2_score.append(r2_score(y_test, ABR_test))\n",
    "reg_model.append(\"Adaptive Boosting Regression\")"
   ]
  },
  {
   "cell_type": "markdown",
   "id": "47ee8c0d",
   "metadata": {},
   "source": [
    "# Stacking Regression"
   ]
  },
  {
   "cell_type": "code",
   "execution_count": 44,
   "id": "bea2a733",
   "metadata": {},
   "outputs": [
    {
     "name": "stdout",
     "output_type": "stream",
     "text": [
      "Training evaluation\n",
      "R2 score: 0.78\n",
      "Mean absolute error: 0.08\n",
      "Mean squared error: 0.02\n",
      "Root Mean squared error: 0.14\n",
      "\n",
      "Test set evaluation\n",
      "R2 score: 0.81\n",
      "Mean absolute error: 0.08\n",
      "Mean squared error: 0.02\n",
      "Root Mean squared error: 0.14\n"
     ]
    }
   ],
   "source": [
    "from sklearn.ensemble import StackingRegressor\n",
    "from sklearn.linear_model import RidgeCV\n",
    "from sklearn.svm import LinearSVR\n",
    "from sklearn.ensemble import RandomForestRegressor\n",
    "\n",
    "estimators = [('lr', RidgeCV()),('svr', LinearSVR(random_state=42))]\n",
    "\n",
    "STR_model =StackingRegressor(estimators=estimators,final_estimator=RandomForestRegressor(n_estimators=10,random_state=42))\n",
    "  \n",
    "#Training the model\n",
    "STR_model.fit(x_train,y_train)\n",
    "STR_trained = STR_model.predict(x_train)\n",
    "print(\"Training evaluation\")\n",
    "print(\"R2 score: %.2f\" %r2_score(y_train, STR_trained))\n",
    "print(\"Mean absolute error: %.2f\" %mean_absolute_error(y_train, STR_trained))\n",
    "print(\"Mean squared error: %.2f\" %mean_squared_error(y_train, STR_trained))\n",
    "print(\"Root Mean squared error: %.2f\" %math.sqrt(mean_squared_error(y_train,STR_trained)))\n",
    "\n",
    "#Testing the model\n",
    "STR_test =STR_model.predict(x_test)\n",
    "print(\"\\nTest set evaluation\")\n",
    "print(\"R2 score: %.2f\" %r2_score(y_test,STR_test))\n",
    "print(\"Mean absolute error: %.2f\" %mean_absolute_error(y_test, STR_test))\n",
    "print(\"Mean squared error: %.2f\" %mean_squared_error(y_test, STR_test))\n",
    "print(\"Root Mean squared error: %.2f\" %math.sqrt(mean_squared_error(y_test,STR_test)))\n",
    "\n",
    "R2_score.append(r2_score(y_test, STR_test))\n",
    "reg_model.append(\"Stacking ensemble\")"
   ]
  },
  {
   "cell_type": "code",
   "execution_count": 45,
   "id": "3d1273bd",
   "metadata": {},
   "outputs": [
    {
     "data": {
      "text/plain": [
       "<AxesSubplot:title={'center':'R2 score Comparison'}, xlabel='R2 score', ylabel='Algorithm'>"
      ]
     },
     "execution_count": 45,
     "metadata": {},
     "output_type": "execute_result"
    },
    {
     "data": {
      "image/png": "[encoded data removed]",
      "text/plain": [
       "<Figure size 1000x500 with 1 Axes>"
      ]
     },
     "metadata": {
      "needs_background": "light"
     },
     "output_type": "display_data"
    }
   ],
   "source": [
    "plt.figure(figsize=[10,5],dpi = 100)\n",
    "plt.title('R2 score Comparison')\n",
    "plt.xlabel('R2 score')\n",
    "plt.ylabel('Algorithm')\n",
    "sns.barplot(x = R2_score,y =reg_model,palette='dark')"
   ]
  },
  {
   "cell_type": "markdown",
   "id": "50f90367",
   "metadata": {},
   "source": [
    "# Hyperparameter Tuning"
   ]
  },
  {
   "cell_type": "code",
   "execution_count": 46,
   "id": "3912da6c",
   "metadata": {},
   "outputs": [],
   "source": [
    "#for Comparing models after hyperparameter tuning\n",
    "hp_R2_score=[]\n",
    "hp_reg_model=[]"
   ]
  },
  {
   "cell_type": "markdown",
   "id": "06d3e9f7",
   "metadata": {},
   "source": [
    "# Ridge Regression"
   ]
  },
  {
   "cell_type": "code",
   "execution_count": 47,
   "id": "2deb5c56",
   "metadata": {},
   "outputs": [
    {
     "name": "stdout",
     "output_type": "stream",
     "text": [
      "alpha: 0.980000\n"
     ]
    }
   ],
   "source": [
    "from numpy import arange\n",
    "from sklearn.linear_model import RidgeCV\n",
    "from sklearn.model_selection import RepeatedKFold\n",
    "cv = RepeatedKFold(n_splits=5, n_repeats=3, random_state=1)\n",
    "#parameter tuning\n",
    "model1 = RidgeCV(alphas=arange(0.1, 1.0, 0.02), cv=cv, scoring='neg_mean_absolute_error')\n",
    "# fit model\n",
    "model1.fit(x_train,y_train)\n",
    "# best alpha value\n",
    "print('alpha: %f' % model1.alpha_)"
   ]
  },
  {
   "cell_type": "code",
   "execution_count": 48,
   "id": "456d382b",
   "metadata": {},
   "outputs": [
    {
     "name": "stdout",
     "output_type": "stream",
     "text": [
      "Training evaluation\n",
      "R2 score: 0.06\n",
      "Mean absolute error: 0.23\n",
      "Mean squared error: 0.09\n",
      "Root Mean squared error: 0.30\n",
      "\n",
      "Test set evaluation\n",
      "R2 score: 0.07\n",
      "Mean absolute error: 0.23\n",
      "Mean squared error: 0.09\n",
      "Root Mean squared error: 0.30\n"
     ]
    }
   ],
   "source": [
    "hp_rr = Ridge(alpha=10)\n",
    "#Training the model\n",
    "hp_rr.fit(x_train, y_train) \n",
    "hp_rr_trained = hp_rr.predict(x_train)\n",
    "print(\"Training evaluation\")\n",
    "print(\"R2 score: %.2f\" %r2_score(y_train, hp_rr_trained))\n",
    "print(\"Mean absolute error: %.2f\" %mean_absolute_error(y_train,hp_rr_trained))\n",
    "print(\"Mean squared error: %.2f\" %mean_squared_error(y_train,hp_rr_trained))\n",
    "print(\"Root Mean squared error: %.2f\" %math.sqrt(mean_squared_error(y_train,hp_rr_trained)))\n",
    "\n",
    "#testing the model\n",
    "hp_rr_test = hp_rr.predict(x_test)\n",
    "print(\"\\nTest set evaluation\")\n",
    "print(\"R2 score: %.2f\" %r2_score(y_test,hp_rr_test))\n",
    "print(\"Mean absolute error: %.2f\" %mean_absolute_error(y_test,hp_rr_test))\n",
    "print(\"Mean squared error: %.2f\" %mean_squared_error(y_test,hp_rr_test))\n",
    "print(\"Root Mean squared error: %.2f\" %math.sqrt(mean_squared_error(y_test,hp_rr_test)))\n",
    "\n",
    "hp_R2_score.append(r2_score(y_test, hp_rr_test))\n",
    "hp_reg_model.append(\"Ridge Regression\")"
   ]
  },
  {
   "cell_type": "markdown",
   "id": "ec7f8dd9",
   "metadata": {},
   "source": [
    "# Lasso Regression"
   ]
  },
  {
   "cell_type": "code",
   "execution_count": 49,
   "id": "29e7be15",
   "metadata": {},
   "outputs": [
    {
     "name": "stdout",
     "output_type": "stream",
     "text": [
      "0.0001\n",
      "0.05897798764929703\n"
     ]
    }
   ],
   "source": [
    "from sklearn.model_selection import GridSearchCV\n",
    "import numpy as np\n",
    "\n",
    "alphas = np.array([5, 0.5, 0.05, 0.005, 0.0005, 1, 0.1, 0.01,0.001, 0.0001])\n",
    "model2 = Lasso()\n",
    "#parameter tuning using gridsearch \n",
    "grid = GridSearchCV(estimator=model2, param_grid=dict(alpha=alphas))\n",
    "grid.fit(x_train, y_train)\n",
    "#best alpha value\n",
    "print(grid.best_estimator_.alpha)\n",
    "print(grid.best_score_)"
   ]
  },
  {
   "cell_type": "code",
   "execution_count": 50,
   "id": "eb92267b",
   "metadata": {},
   "outputs": [
    {
     "name": "stdout",
     "output_type": "stream",
     "text": [
      "Training evaluation\n",
      "R2 score: 0.06\n",
      "Mean absolute error: 0.23\n",
      "Mean squared error: 0.09\n",
      "Root Mean squared error: 0.30\n",
      "\n",
      "Test set evaluation\n",
      "R2 score: 0.07\n",
      "Mean absolute error: 0.23\n",
      "Mean squared error: 0.09\n",
      "Root Mean squared error: 0.30\n"
     ]
    }
   ],
   "source": [
    "hp_model_lasso = Lasso(alpha=0.0001)\n",
    "#Training the model\n",
    "hp_model_lasso.fit(x_train, y_train) \n",
    "hp_lasso_trained= hp_model_lasso.predict(x_train)\n",
    "print(\"Training evaluation\")\n",
    "print(\"R2 score: %.2f\" %r2_score(y_train, hp_lasso_trained))\n",
    "print(\"Mean absolute error: %.2f\" %mean_absolute_error(y_train, hp_lasso_trained))\n",
    "print(\"Mean squared error: %.2f\" %mean_squared_error(y_train,hp_lasso_trained))\n",
    "print(\"Root Mean squared error: %.2f\" %math.sqrt(mean_squared_error(y_train, hp_lasso_trained)))\n",
    "\n",
    "#Testing the model\n",
    "hp_lasso_test = hp_model_lasso.predict(x_test)\n",
    "print(\"\\nTest set evaluation\")\n",
    "print(\"R2 score: %.2f\" %r2_score(y_test,hp_lasso_test))\n",
    "print(\"Mean absolute error: %.2f\" %mean_absolute_error(y_test,hp_lasso_test))\n",
    "print(\"Mean squared error: %.2f\" %mean_squared_error(y_test,hp_lasso_test))\n",
    "print(\"Root Mean squared error: %.2f\" %math.sqrt(mean_squared_error(y_test,hp_lasso_test)))\n",
    "\n",
    "hp_R2_score.append(r2_score(y_test, hp_lasso_test))\n",
    "hp_reg_model.append(\"Lasso Regression\")"
   ]
  },
  {
   "cell_type": "markdown",
   "id": "c2fd1851",
   "metadata": {},
   "source": [
    "# Decision Tree Regression"
   ]
  },
  {
   "cell_type": "code",
   "execution_count": 51,
   "id": "f32d1445",
   "metadata": {},
   "outputs": [
    {
     "name": "stdout",
     "output_type": "stream",
     "text": [
      "Fitting 3 folds for each of 560 candidates, totalling 1680 fits\n",
      "[CV 1/3] END max_depth=1, max_features=log2, max_leaf_nodes=10, min_samples_leaf=1, splitter=best;, score=-0.064 total time=   0.0s\n",
      "[CV 2/3] END max_depth=1, max_features=log2, max_leaf_nodes=10, min_samples_leaf=1, splitter=best;, score=-0.074 total time=   0.0s\n",
      "[CV 3/3] END max_depth=1, max_features=log2, max_leaf_nodes=10, min_samples_leaf=1, splitter=best;, score=-0.092 total time=   0.0s\n",
      "[CV 1/3] END max_depth=1, max_features=log2, max_leaf_nodes=10, min_samples_leaf=1, splitter=random;, score=-0.095 total time=   0.0s\n",
      "[CV 2/3] END max_depth=1, max_features=log2, max_leaf_nodes=10, min_samples_leaf=1, splitter=random;, score=-0.092 total time=   0.0s\n",
      "[CV 3/3] END max_depth=1, max_features=log2, max_leaf_nodes=10, min_samples_leaf=1, splitter=random;, score=-0.092 total time=   0.0s\n",
      "[CV 1/3] END max_depth=1, max_features=log2, max_leaf_nodes=10, min_samples_leaf=3, splitter=best;, score=-0.094 total time=   0.0s\n",
      "[CV 2/3] END max_depth=1, max_features=log2, max_leaf_nodes=10, min_samples_leaf=3, splitter=best;, score=-0.091 total time=   0.0s\n",
      "[CV 3/3] END max_depth=1, max_features=log2, max_leaf_nodes=10, min_samples_leaf=3, splitter=best;, score=-0.062 total time=   0.0s\n",
      "[CV 1/3] END max_depth=1, max_features=log2, max_leaf_nodes=10, min_samples_leaf=3, splitter=random;, score=-0.095 total time=   0.0s\n",
      "[CV 2/3] END max_depth=1, max_features=log2, max_leaf_nodes=10, min_samples_leaf=3, splitter=random;, score=-0.091 total time=   0.0s\n",
      "[CV 3/3] END max_depth=1, max_features=log2, max_leaf_nodes=10, min_samples_leaf=3, splitter=random;, score=-0.091 total time=   0.0s\n",
      "[CV 1/3] END max_depth=1, max_features=log2, max_leaf_nodes=10, min_samples_leaf=5, splitter=best;, score=-0.077 total time=   0.0s\n",
      "[CV 2/3] END max_depth=1, max_features=log2, max_leaf_nodes=10, min_samples_leaf=5, splitter=best;, score=-0.074 total time=   0.0s\n",
      "[CV 3/3] END max_depth=1, max_features=log2, max_leaf_nodes=10, min_samples_leaf=5, splitter=best;, score=-0.062 total time=   0.0s\n",
      "[CV 1/3] END max_depth=1, max_features=log2, max_leaf_nodes=10, min_samples_leaf=5, splitter=random;, score=-0.095 total time=   0.0s\n",
      "[CV 2/3] END max_depth=1, max_features=log2, max_leaf_nodes=10, min_samples_leaf=5, splitter=random;, score=-0.084 total time=   0.0s\n",
      "[CV 3/3] END max_depth=1, max_features=log2, max_leaf_nodes=10, min_samples_leaf=5, splitter=random;, score=-0.092 total time=   0.0s\n",
      "[CV 1/3] END max_depth=1, max_features=log2, max_leaf_nodes=10, min_samples_leaf=7, splitter=best;, score=-0.077 total time=   0.0s\n",
      "[CV 2/3] END max_depth=1, max_features=log2, max_leaf_nodes=10, min_samples_leaf=7, splitter=best;, score=-0.092 total time=   0.0s\n",
      "[CV 3/3] END max_depth=1, max_features=log2, max_leaf_nodes=10, min_samples_leaf=7, splitter=best;, score=-0.091 total time=   0.0s\n",
      "[CV 1/3] END max_depth=1, max_features=log2, max_leaf_nodes=10, min_samples_leaf=7, splitter=random;, score=-0.095 total time=   0.0s\n",
      "[CV 2/3] END max_depth=1, max_features=log2, max_leaf_nodes=10, min_samples_leaf=7, splitter=random;, score=-0.091 total time=   0.0s\n",
      "[CV 3/3] END max_depth=1, max_features=log2, max_leaf_nodes=10, min_samples_leaf=7, splitter=random;, score=-0.087 total time=   0.0s\n",
      "[CV 1/3] END max_depth=1, max_features=log2, max_leaf_nodes=10, min_samples_leaf=9, splitter=best;, score=-0.095 total time=   0.0s\n",
      "[CV 2/3] END max_depth=1, max_features=log2, max_leaf_nodes=10, min_samples_leaf=9, splitter=best;, score=-0.063 total time=   0.0s\n",
      "[CV 3/3] END max_depth=1, max_features=log2, max_leaf_nodes=10, min_samples_leaf=9, splitter=best;, score=-0.092 total time=   0.0s\n",
      "[CV 1/3] END max_depth=1, max_features=log2, max_leaf_nodes=10, min_samples_leaf=9, splitter=random;, score=-0.096 total time=   0.0s\n",
      "[CV 2/3] END max_depth=1, max_features=log2, max_leaf_nodes=10, min_samples_leaf=9, splitter=random;, score=-0.091 total time=   0.0s\n",
      "[CV 3/3] END max_depth=1, max_features=log2, max_leaf_nodes=10, min_samples_leaf=9, splitter=random;, score=-0.091 total time=   0.0s\n",
      "[CV 1/3] END max_depth=1, max_features=log2, max_leaf_nodes=30, min_samples_leaf=1, splitter=best;, score=-0.095 total time=   0.0s\n",
      "[CV 2/3] END max_depth=1, max_features=log2, max_leaf_nodes=30, min_samples_leaf=1, splitter=best;, score=-0.091 total time=   0.0s\n",
      "[CV 3/3] END max_depth=1, max_features=log2, max_leaf_nodes=30, min_samples_leaf=1, splitter=best;, score=-0.075 total time=   0.0s\n",
      "[CV 1/3] END max_depth=1, max_features=log2, max_leaf_nodes=30, min_samples_leaf=1, splitter=random;, score=-0.095 total time=   0.0s\n",
      "[CV 2/3] END max_depth=1, max_features=log2, max_leaf_nodes=30, min_samples_leaf=1, splitter=random;, score=-0.090 total time=   0.0s\n",
      "[CV 3/3] END max_depth=1, max_features=log2, max_leaf_nodes=30, min_samples_leaf=1, splitter=random;, score=-0.092 total time=   0.0s\n",
      "[CV 1/3] END max_depth=1, max_features=log2, max_leaf_nodes=30, min_samples_leaf=3, splitter=best;, score=-0.077 total time=   0.0s\n",
      "[CV 2/3] END max_depth=1, max_features=log2, max_leaf_nodes=30, min_samples_leaf=3, splitter=best;, score=-0.091 total time=   0.0s\n",
      "[CV 3/3] END max_depth=1, max_features=log2, max_leaf_nodes=30, min_samples_leaf=3, splitter=best;, score=-0.062 total time=   0.0s\n",
      "[CV 1/3] END max_depth=1, max_features=log2, max_leaf_nodes=30, min_samples_leaf=3, splitter=random;, score=-0.087 total time=   0.0s\n",
      "[CV 2/3] END max_depth=1, max_features=log2, max_leaf_nodes=30, min_samples_leaf=3, splitter=random;, score=-0.092 total time=   0.0s\n",
      "[CV 3/3] END max_depth=1, max_features=log2, max_leaf_nodes=30, min_samples_leaf=3, splitter=random;, score=-0.092 total time=   0.0s\n",
      "[CV 1/3] END max_depth=1, max_features=log2, max_leaf_nodes=30, min_samples_leaf=5, splitter=best;, score=-0.077 total time=   0.0s\n",
      "[CV 2/3] END max_depth=1, max_features=log2, max_leaf_nodes=30, min_samples_leaf=5, splitter=best;, score=-0.091 total time=   0.0s\n",
      "[CV 3/3] END max_depth=1, max_features=log2, max_leaf_nodes=30, min_samples_leaf=5, splitter=best;, score=-0.062 total time=   0.0s\n",
      "[CV 1/3] END max_depth=1, max_features=log2, max_leaf_nodes=30, min_samples_leaf=5, splitter=random;, score=-0.077 total time=   0.0s\n",
      "[CV 2/3] END max_depth=1, max_features=log2, max_leaf_nodes=30, min_samples_leaf=5, splitter=random;, score=-0.092 total time=   0.0s\n",
      "[CV 3/3] END max_depth=1, max_features=log2, max_leaf_nodes=30, min_samples_leaf=5, splitter=random;, score=-0.090 total time=   0.0s\n",
      "[CV 1/3] END max_depth=1, max_features=log2, max_leaf_nodes=30, min_samples_leaf=7, splitter=best;, score=-0.095 total time=   0.0s\n",
      "[CV 2/3] END max_depth=1, max_features=log2, max_leaf_nodes=30, min_samples_leaf=7, splitter=best;, score=-0.091 total time=   0.0s\n",
      "[CV 3/3] END max_depth=1, max_features=log2, max_leaf_nodes=30, min_samples_leaf=7, splitter=best;, score=-0.075 total time=   0.0s\n",
      "[CV 1/3] END max_depth=1, max_features=log2, max_leaf_nodes=30, min_samples_leaf=7, splitter=random;, score=-0.095 total time=   0.0s\n",
      "[CV 2/3] END max_depth=1, max_features=log2, max_leaf_nodes=30, min_samples_leaf=7, splitter=random;, score=-0.092 total time=   0.0s\n",
      "[CV 3/3] END max_depth=1, max_features=log2, max_leaf_nodes=30, min_samples_leaf=7, splitter=random;, score=-0.092 total time=   0.0s\n",
      "[CV 1/3] END max_depth=1, max_features=log2, max_leaf_nodes=30, min_samples_leaf=9, splitter=best;, score=-0.095 total time=   0.0s\n",
      "[CV 2/3] END max_depth=1, max_features=log2, max_leaf_nodes=30, min_samples_leaf=9, splitter=best;, score=-0.091 total time=   0.0s\n",
      "[CV 3/3] END max_depth=1, max_features=log2, max_leaf_nodes=30, min_samples_leaf=9, splitter=best;, score=-0.092 total time=   0.0s\n",
      "[CV 1/3] END max_depth=1, max_features=log2, max_leaf_nodes=30, min_samples_leaf=9, splitter=random;, score=-0.095 total time=   0.0s\n",
      "[CV 2/3] END max_depth=1, max_features=log2, max_leaf_nodes=30, min_samples_leaf=9, splitter=random;, score=-0.091 total time=   0.0s\n",
      "[CV 3/3] END max_depth=1, max_features=log2, max_leaf_nodes=30, min_samples_leaf=9, splitter=random;, score=-0.075 total time=   0.0s\n",
      "[CV 1/3] END max_depth=1, max_features=log2, max_leaf_nodes=50, min_samples_leaf=1, splitter=best;, score=-0.095 total time=   0.0s\n",
      "[CV 2/3] END max_depth=1, max_features=log2, max_leaf_nodes=50, min_samples_leaf=1, splitter=best;, score=-0.091 total time=   0.0s\n",
      "[CV 3/3] END max_depth=1, max_features=log2, max_leaf_nodes=50, min_samples_leaf=1, splitter=best;, score=-0.075 total time=   0.0s\n",
      "[CV 1/3] END max_depth=1, max_features=log2, max_leaf_nodes=50, min_samples_leaf=1, splitter=random;, score=-0.095 total time=   0.0s\n",
      "[CV 2/3] END max_depth=1, max_features=log2, max_leaf_nodes=50, min_samples_leaf=1, splitter=random;, score=-0.074 total time=   0.0s\n",
      "[CV 3/3] END max_depth=1, max_features=log2, max_leaf_nodes=50, min_samples_leaf=1, splitter=random;, score=-0.092 total time=   0.0s\n",
      "[CV 1/3] END max_depth=1, max_features=log2, max_leaf_nodes=50, min_samples_leaf=3, splitter=best;, score=-0.064 total time=   0.0s\n",
      "[CV 2/3] END max_depth=1, max_features=log2, max_leaf_nodes=50, min_samples_leaf=3, splitter=best;, score=-0.091 total time=   0.0s\n",
      "[CV 3/3] END max_depth=1, max_features=log2, max_leaf_nodes=50, min_samples_leaf=3, splitter=best;, score=-0.075 total time=   0.0s\n",
      "[CV 1/3] END max_depth=1, max_features=log2, max_leaf_nodes=50, min_samples_leaf=3, splitter=random;, score=-0.095 total time=   0.0s\n",
      "[CV 2/3] END max_depth=1, max_features=log2, max_leaf_nodes=50, min_samples_leaf=3, splitter=random;, score=-0.091 total time=   0.0s\n"
     ]
    },
    {
     "name": "stdout",
     "output_type": "stream",
     "text": [
      "[CV 3/3] END max_depth=1, max_features=log2, max_leaf_nodes=50, min_samples_leaf=3, splitter=random;, score=-0.092 total time=   0.0s\n",
      "[CV 1/3] END max_depth=1, max_features=log2, max_leaf_nodes=50, min_samples_leaf=5, splitter=best;, score=-0.064 total time=   0.0s\n",
      "[CV 2/3] END max_depth=1, max_features=log2, max_leaf_nodes=50, min_samples_leaf=5, splitter=best;, score=-0.074 total time=   0.0s\n",
      "[CV 3/3] END max_depth=1, max_features=log2, max_leaf_nodes=50, min_samples_leaf=5, splitter=best;, score=-0.075 total time=   0.0s\n",
      "[CV 1/3] END max_depth=1, max_features=log2, max_leaf_nodes=50, min_samples_leaf=5, splitter=random;, score=-0.095 total time=   0.0s\n",
      "[CV 2/3] END max_depth=1, max_features=log2, max_leaf_nodes=50, min_samples_leaf=5, splitter=random;, score=-0.091 total time=   0.0s\n",
      "[CV 3/3] END max_depth=1, max_features=log2, max_leaf_nodes=50, min_samples_leaf=5, splitter=random;, score=-0.092 total time=   0.0s\n",
      "[CV 1/3] END max_depth=1, max_features=log2, max_leaf_nodes=50, min_samples_leaf=7, splitter=best;, score=-0.095 total time=   0.0s\n",
      "[CV 2/3] END max_depth=1, max_features=log2, max_leaf_nodes=50, min_samples_leaf=7, splitter=best;, score=-0.092 total time=   0.0s\n",
      "[CV 3/3] END max_depth=1, max_features=log2, max_leaf_nodes=50, min_samples_leaf=7, splitter=best;, score=-0.075 total time=   0.0s\n",
      "[CV 1/3] END max_depth=1, max_features=log2, max_leaf_nodes=50, min_samples_leaf=7, splitter=random;, score=-0.095 total time=   0.0s\n",
      "[CV 2/3] END max_depth=1, max_features=log2, max_leaf_nodes=50, min_samples_leaf=7, splitter=random;, score=-0.092 total time=   0.0s\n",
      "[CV 3/3] END max_depth=1, max_features=log2, max_leaf_nodes=50, min_samples_leaf=7, splitter=random;, score=-0.092 total time=   0.0s\n",
      "[CV 1/3] END max_depth=1, max_features=log2, max_leaf_nodes=50, min_samples_leaf=9, splitter=best;, score=-0.064 total time=   0.0s\n",
      "[CV 2/3] END max_depth=1, max_features=log2, max_leaf_nodes=50, min_samples_leaf=9, splitter=best;, score=-0.063 total time=   0.0s\n",
      "[CV 3/3] END max_depth=1, max_features=log2, max_leaf_nodes=50, min_samples_leaf=9, splitter=best;, score=-0.091 total time=   0.0s\n",
      "[CV 1/3] END max_depth=1, max_features=log2, max_leaf_nodes=50, min_samples_leaf=9, splitter=random;, score=-0.095 total time=   0.0s\n",
      "[CV 2/3] END max_depth=1, max_features=log2, max_leaf_nodes=50, min_samples_leaf=9, splitter=random;, score=-0.092 total time=   0.0s\n",
      "[CV 3/3] END max_depth=1, max_features=log2, max_leaf_nodes=50, min_samples_leaf=9, splitter=random;, score=-0.092 total time=   0.0s\n",
      "[CV 1/3] END max_depth=1, max_features=log2, max_leaf_nodes=70, min_samples_leaf=1, splitter=best;, score=-0.077 total time=   0.0s\n",
      "[CV 2/3] END max_depth=1, max_features=log2, max_leaf_nodes=70, min_samples_leaf=1, splitter=best;, score=-0.091 total time=   0.0s\n",
      "[CV 3/3] END max_depth=1, max_features=log2, max_leaf_nodes=70, min_samples_leaf=1, splitter=best;, score=-0.062 total time=   0.0s\n",
      "[CV 1/3] END max_depth=1, max_features=log2, max_leaf_nodes=70, min_samples_leaf=1, splitter=random;, score=-0.095 total time=   0.0s\n",
      "[CV 2/3] END max_depth=1, max_features=log2, max_leaf_nodes=70, min_samples_leaf=1, splitter=random;, score=-0.092 total time=   0.0s\n",
      "[CV 3/3] END max_depth=1, max_features=log2, max_leaf_nodes=70, min_samples_leaf=1, splitter=random;, score=-0.084 total time=   0.0s\n",
      "[CV 1/3] END max_depth=1, max_features=log2, max_leaf_nodes=70, min_samples_leaf=3, splitter=best;, score=-0.077 total time=   0.0s\n",
      "[CV 2/3] END max_depth=1, max_features=log2, max_leaf_nodes=70, min_samples_leaf=3, splitter=best;, score=-0.091 total time=   0.0s\n",
      "[CV 3/3] END max_depth=1, max_features=log2, max_leaf_nodes=70, min_samples_leaf=3, splitter=best;, score=-0.075 total time=   0.0s\n",
      "[CV 1/3] END max_depth=1, max_features=log2, max_leaf_nodes=70, min_samples_leaf=3, splitter=random;, score=-0.095 total time=   0.0s\n",
      "[CV 2/3] END max_depth=1, max_features=log2, max_leaf_nodes=70, min_samples_leaf=3, splitter=random;, score=-0.090 total time=   0.0s\n",
      "[CV 3/3] END max_depth=1, max_features=log2, max_leaf_nodes=70, min_samples_leaf=3, splitter=random;, score=-0.092 total time=   0.0s\n",
      "[CV 1/3] END max_depth=1, max_features=log2, max_leaf_nodes=70, min_samples_leaf=5, splitter=best;, score=-0.095 total time=   0.0s\n",
      "[CV 2/3] END max_depth=1, max_features=log2, max_leaf_nodes=70, min_samples_leaf=5, splitter=best;, score=-0.091 total time=   0.0s\n",
      "[CV 3/3] END max_depth=1, max_features=log2, max_leaf_nodes=70, min_samples_leaf=5, splitter=best;, score=-0.075 total time=   0.0s\n",
      "[CV 1/3] END max_depth=1, max_features=log2, max_leaf_nodes=70, min_samples_leaf=5, splitter=random;, score=-0.094 total time=   0.0s\n",
      "[CV 2/3] END max_depth=1, max_features=log2, max_leaf_nodes=70, min_samples_leaf=5, splitter=random;, score=-0.091 total time=   0.0s\n",
      "[CV 3/3] END max_depth=1, max_features=log2, max_leaf_nodes=70, min_samples_leaf=5, splitter=random;, score=-0.075 total time=   0.0s\n",
      "[CV 1/3] END max_depth=1, max_features=log2, max_leaf_nodes=70, min_samples_leaf=7, splitter=best;, score=-0.064 total time=   0.0s\n",
      "[CV 2/3] END max_depth=1, max_features=log2, max_leaf_nodes=70, min_samples_leaf=7, splitter=best;, score=-0.091 total time=   0.0s\n",
      "[CV 3/3] END max_depth=1, max_features=log2, max_leaf_nodes=70, min_samples_leaf=7, splitter=best;, score=-0.062 total time=   0.0s\n",
      "[CV 1/3] END max_depth=1, max_features=log2, max_leaf_nodes=70, min_samples_leaf=7, splitter=random;, score=-0.095 total time=   0.0s\n",
      "[CV 2/3] END max_depth=1, max_features=log2, max_leaf_nodes=70, min_samples_leaf=7, splitter=random;, score=-0.092 total time=   0.0s\n",
      "[CV 3/3] END max_depth=1, max_features=log2, max_leaf_nodes=70, min_samples_leaf=7, splitter=random;, score=-0.092 total time=   0.0s\n",
      "[CV 1/3] END max_depth=1, max_features=log2, max_leaf_nodes=70, min_samples_leaf=9, splitter=best;, score=-0.095 total time=   0.0s\n",
      "[CV 2/3] END max_depth=1, max_features=log2, max_leaf_nodes=70, min_samples_leaf=9, splitter=best;, score=-0.092 total time=   0.0s\n",
      "[CV 3/3] END max_depth=1, max_features=log2, max_leaf_nodes=70, min_samples_leaf=9, splitter=best;, score=-0.062 total time=   0.0s\n",
      "[CV 1/3] END max_depth=1, max_features=log2, max_leaf_nodes=70, min_samples_leaf=9, splitter=random;, score=-0.077 total time=   0.0s\n",
      "[CV 2/3] END max_depth=1, max_features=log2, max_leaf_nodes=70, min_samples_leaf=9, splitter=random;, score=-0.074 total time=   0.0s\n",
      "[CV 3/3] END max_depth=1, max_features=log2, max_leaf_nodes=70, min_samples_leaf=9, splitter=random;, score=-0.092 total time=   0.0s\n",
      "[CV 1/3] END max_depth=1, max_features=sqrt, max_leaf_nodes=10, min_samples_leaf=1, splitter=best;, score=-0.077 total time=   0.0s\n",
      "[CV 2/3] END max_depth=1, max_features=sqrt, max_leaf_nodes=10, min_samples_leaf=1, splitter=best;, score=-0.074 total time=   0.0s\n",
      "[CV 3/3] END max_depth=1, max_features=sqrt, max_leaf_nodes=10, min_samples_leaf=1, splitter=best;, score=-0.092 total time=   0.0s\n",
      "[CV 1/3] END max_depth=1, max_features=sqrt, max_leaf_nodes=10, min_samples_leaf=1, splitter=random;, score=-0.095 total time=   0.0s\n",
      "[CV 2/3] END max_depth=1, max_features=sqrt, max_leaf_nodes=10, min_samples_leaf=1, splitter=random;, score=-0.092 total time=   0.0s\n",
      "[CV 3/3] END max_depth=1, max_features=sqrt, max_leaf_nodes=10, min_samples_leaf=1, splitter=random;, score=-0.092 total time=   0.0s\n",
      "[CV 1/3] END max_depth=1, max_features=sqrt, max_leaf_nodes=10, min_samples_leaf=3, splitter=best;, score=-0.077 total time=   0.0s\n",
      "[CV 2/3] END max_depth=1, max_features=sqrt, max_leaf_nodes=10, min_samples_leaf=3, splitter=best;, score=-0.074 total time=   0.0s\n",
      "[CV 3/3] END max_depth=1, max_features=sqrt, max_leaf_nodes=10, min_samples_leaf=3, splitter=best;, score=-0.075 total time=   0.0s\n",
      "[CV 1/3] END max_depth=1, max_features=sqrt, max_leaf_nodes=10, min_samples_leaf=3, splitter=random;, score=-0.090 total time=   0.0s\n",
      "[CV 2/3] END max_depth=1, max_features=sqrt, max_leaf_nodes=10, min_samples_leaf=3, splitter=random;, score=-0.092 total time=   0.0s\n",
      "[CV 3/3] END max_depth=1, max_features=sqrt, max_leaf_nodes=10, min_samples_leaf=3, splitter=random;, score=-0.092 total time=   0.0s\n",
      "[CV 1/3] END max_depth=1, max_features=sqrt, max_leaf_nodes=10, min_samples_leaf=5, splitter=best;, score=-0.064 total time=   0.0s\n",
      "[CV 2/3] END max_depth=1, max_features=sqrt, max_leaf_nodes=10, min_samples_leaf=5, splitter=best;, score=-0.091 total time=   0.0s\n",
      "[CV 3/3] END max_depth=1, max_features=sqrt, max_leaf_nodes=10, min_samples_leaf=5, splitter=best;, score=-0.091 total time=   0.0s\n",
      "[CV 1/3] END max_depth=1, max_features=sqrt, max_leaf_nodes=10, min_samples_leaf=5, splitter=random;, score=-0.095 total time=   0.0s\n",
      "[CV 2/3] END max_depth=1, max_features=sqrt, max_leaf_nodes=10, min_samples_leaf=5, splitter=random;, score=-0.084 total time=   0.0s\n",
      "[CV 3/3] END max_depth=1, max_features=sqrt, max_leaf_nodes=10, min_samples_leaf=5, splitter=random;, score=-0.092 total time=   0.0s\n",
      "[CV 1/3] END max_depth=1, max_features=sqrt, max_leaf_nodes=10, min_samples_leaf=7, splitter=best;, score=-0.077 total time=   0.0s\n",
      "[CV 2/3] END max_depth=1, max_features=sqrt, max_leaf_nodes=10, min_samples_leaf=7, splitter=best;, score=-0.092 total time=   0.0s\n",
      "[CV 3/3] END max_depth=1, max_features=sqrt, max_leaf_nodes=10, min_samples_leaf=7, splitter=best;, score=-0.062 total time=   0.0s\n",
      "[CV 1/3] END max_depth=1, max_features=sqrt, max_leaf_nodes=10, min_samples_leaf=7, splitter=random;, score=-0.095 total time=   0.0s\n",
      "[CV 2/3] END max_depth=1, max_features=sqrt, max_leaf_nodes=10, min_samples_leaf=7, splitter=random;, score=-0.084 total time=   0.0s\n",
      "[CV 3/3] END max_depth=1, max_features=sqrt, max_leaf_nodes=10, min_samples_leaf=7, splitter=random;, score=-0.092 total time=   0.0s\n",
      "[CV 1/3] END max_depth=1, max_features=sqrt, max_leaf_nodes=10, min_samples_leaf=9, splitter=best;, score=-0.095 total time=   0.0s\n",
      "[CV 2/3] END max_depth=1, max_features=sqrt, max_leaf_nodes=10, min_samples_leaf=9, splitter=best;, score=-0.074 total time=   0.0s\n",
      "[CV 3/3] END max_depth=1, max_features=sqrt, max_leaf_nodes=10, min_samples_leaf=9, splitter=best;, score=-0.062 total time=   0.0s\n",
      "[CV 1/3] END max_depth=1, max_features=sqrt, max_leaf_nodes=10, min_samples_leaf=9, splitter=random;, score=-0.095 total time=   0.0s\n",
      "[CV 2/3] END max_depth=1, max_features=sqrt, max_leaf_nodes=10, min_samples_leaf=9, splitter=random;, score=-0.091 total time=   0.0s\n",
      "[CV 3/3] END max_depth=1, max_features=sqrt, max_leaf_nodes=10, min_samples_leaf=9, splitter=random;, score=-0.092 total time=   0.0s\n",
      "[CV 1/3] END max_depth=1, max_features=sqrt, max_leaf_nodes=30, min_samples_leaf=1, splitter=best;, score=-0.077 total time=   0.0s\n"
     ]
    },
    {
     "name": "stdout",
     "output_type": "stream",
     "text": [
      "[CV 2/3] END max_depth=1, max_features=sqrt, max_leaf_nodes=30, min_samples_leaf=1, splitter=best;, score=-0.063 total time=   0.0s\n",
      "[CV 3/3] END max_depth=1, max_features=sqrt, max_leaf_nodes=30, min_samples_leaf=1, splitter=best;, score=-0.062 total time=   0.0s\n",
      "[CV 1/3] END max_depth=1, max_features=sqrt, max_leaf_nodes=30, min_samples_leaf=1, splitter=random;, score=-0.095 total time=   0.0s\n",
      "[CV 2/3] END max_depth=1, max_features=sqrt, max_leaf_nodes=30, min_samples_leaf=1, splitter=random;, score=-0.091 total time=   0.0s\n",
      "[CV 3/3] END max_depth=1, max_features=sqrt, max_leaf_nodes=30, min_samples_leaf=1, splitter=random;, score=-0.092 total time=   0.0s\n",
      "[CV 1/3] END max_depth=1, max_features=sqrt, max_leaf_nodes=30, min_samples_leaf=3, splitter=best;, score=-0.077 total time=   0.0s\n",
      "[CV 2/3] END max_depth=1, max_features=sqrt, max_leaf_nodes=30, min_samples_leaf=3, splitter=best;, score=-0.092 total time=   0.0s\n",
      "[CV 3/3] END max_depth=1, max_features=sqrt, max_leaf_nodes=30, min_samples_leaf=3, splitter=best;, score=-0.062 total time=   0.0s\n",
      "[CV 1/3] END max_depth=1, max_features=sqrt, max_leaf_nodes=30, min_samples_leaf=3, splitter=random;, score=-0.095 total time=   0.0s\n",
      "[CV 2/3] END max_depth=1, max_features=sqrt, max_leaf_nodes=30, min_samples_leaf=3, splitter=random;, score=-0.074 total time=   0.0s\n",
      "[CV 3/3] END max_depth=1, max_features=sqrt, max_leaf_nodes=30, min_samples_leaf=3, splitter=random;, score=-0.092 total time=   0.0s\n",
      "[CV 1/3] END max_depth=1, max_features=sqrt, max_leaf_nodes=30, min_samples_leaf=5, splitter=best;, score=-0.094 total time=   0.0s\n",
      "[CV 2/3] END max_depth=1, max_features=sqrt, max_leaf_nodes=30, min_samples_leaf=5, splitter=best;, score=-0.063 total time=   0.0s\n",
      "[CV 3/3] END max_depth=1, max_features=sqrt, max_leaf_nodes=30, min_samples_leaf=5, splitter=best;, score=-0.092 total time=   0.0s\n",
      "[CV 1/3] END max_depth=1, max_features=sqrt, max_leaf_nodes=30, min_samples_leaf=5, splitter=random;, score=-0.095 total time=   0.0s\n",
      "[CV 2/3] END max_depth=1, max_features=sqrt, max_leaf_nodes=30, min_samples_leaf=5, splitter=random;, score=-0.092 total time=   0.0s\n",
      "[CV 3/3] END max_depth=1, max_features=sqrt, max_leaf_nodes=30, min_samples_leaf=5, splitter=random;, score=-0.082 total time=   0.0s\n",
      "[CV 1/3] END max_depth=1, max_features=sqrt, max_leaf_nodes=30, min_samples_leaf=7, splitter=best;, score=-0.077 total time=   0.0s\n",
      "[CV 2/3] END max_depth=1, max_features=sqrt, max_leaf_nodes=30, min_samples_leaf=7, splitter=best;, score=-0.074 total time=   0.0s\n",
      "[CV 3/3] END max_depth=1, max_features=sqrt, max_leaf_nodes=30, min_samples_leaf=7, splitter=best;, score=-0.091 total time=   0.0s\n",
      "[CV 1/3] END max_depth=1, max_features=sqrt, max_leaf_nodes=30, min_samples_leaf=7, splitter=random;, score=-0.095 total time=   0.0s\n",
      "[CV 2/3] END max_depth=1, max_features=sqrt, max_leaf_nodes=30, min_samples_leaf=7, splitter=random;, score=-0.091 total time=   0.0s\n",
      "[CV 3/3] END max_depth=1, max_features=sqrt, max_leaf_nodes=30, min_samples_leaf=7, splitter=random;, score=-0.090 total time=   0.0s\n",
      "[CV 1/3] END max_depth=1, max_features=sqrt, max_leaf_nodes=30, min_samples_leaf=9, splitter=best;, score=-0.095 total time=   0.0s\n",
      "[CV 2/3] END max_depth=1, max_features=sqrt, max_leaf_nodes=30, min_samples_leaf=9, splitter=best;, score=-0.074 total time=   0.0s\n",
      "[CV 3/3] END max_depth=1, max_features=sqrt, max_leaf_nodes=30, min_samples_leaf=9, splitter=best;, score=-0.092 total time=   0.0s\n",
      "[CV 1/3] END max_depth=1, max_features=sqrt, max_leaf_nodes=30, min_samples_leaf=9, splitter=random;, score=-0.095 total time=   0.0s\n",
      "[CV 2/3] END max_depth=1, max_features=sqrt, max_leaf_nodes=30, min_samples_leaf=9, splitter=random;, score=-0.091 total time=   0.0s\n",
      "[CV 3/3] END max_depth=1, max_features=sqrt, max_leaf_nodes=30, min_samples_leaf=9, splitter=random;, score=-0.092 total time=   0.0s\n",
      "[CV 1/3] END max_depth=1, max_features=sqrt, max_leaf_nodes=50, min_samples_leaf=1, splitter=best;, score=-0.077 total time=   0.0s\n",
      "[CV 2/3] END max_depth=1, max_features=sqrt, max_leaf_nodes=50, min_samples_leaf=1, splitter=best;, score=-0.063 total time=   0.0s\n",
      "[CV 3/3] END max_depth=1, max_features=sqrt, max_leaf_nodes=50, min_samples_leaf=1, splitter=best;, score=-0.062 total time=   0.0s\n",
      "[CV 1/3] END max_depth=1, max_features=sqrt, max_leaf_nodes=50, min_samples_leaf=1, splitter=random;, score=-0.095 total time=   0.0s\n",
      "[CV 2/3] END max_depth=1, max_features=sqrt, max_leaf_nodes=50, min_samples_leaf=1, splitter=random;, score=-0.091 total time=   0.0s\n",
      "[CV 3/3] END max_depth=1, max_features=sqrt, max_leaf_nodes=50, min_samples_leaf=1, splitter=random;, score=-0.091 total time=   0.0s\n",
      "[CV 1/3] END max_depth=1, max_features=sqrt, max_leaf_nodes=50, min_samples_leaf=3, splitter=best;, score=-0.095 total time=   0.0s\n",
      "[CV 2/3] END max_depth=1, max_features=sqrt, max_leaf_nodes=50, min_samples_leaf=3, splitter=best;, score=-0.092 total time=   0.0s\n",
      "[CV 3/3] END max_depth=1, max_features=sqrt, max_leaf_nodes=50, min_samples_leaf=3, splitter=best;, score=-0.062 total time=   0.0s\n",
      "[CV 1/3] END max_depth=1, max_features=sqrt, max_leaf_nodes=50, min_samples_leaf=3, splitter=random;, score=-0.095 total time=   0.0s\n",
      "[CV 2/3] END max_depth=1, max_features=sqrt, max_leaf_nodes=50, min_samples_leaf=3, splitter=random;, score=-0.086 total time=   0.0s\n",
      "[CV 3/3] END max_depth=1, max_features=sqrt, max_leaf_nodes=50, min_samples_leaf=3, splitter=random;, score=-0.092 total time=   0.0s\n",
      "[CV 1/3] END max_depth=1, max_features=sqrt, max_leaf_nodes=50, min_samples_leaf=5, splitter=best;, score=-0.095 total time=   0.0s\n",
      "[CV 2/3] END max_depth=1, max_features=sqrt, max_leaf_nodes=50, min_samples_leaf=5, splitter=best;, score=-0.063 total time=   0.0s\n",
      "[CV 3/3] END max_depth=1, max_features=sqrt, max_leaf_nodes=50, min_samples_leaf=5, splitter=best;, score=-0.062 total time=   0.0s\n",
      "[CV 1/3] END max_depth=1, max_features=sqrt, max_leaf_nodes=50, min_samples_leaf=5, splitter=random;, score=-0.077 total time=   0.0s\n",
      "[CV 2/3] END max_depth=1, max_features=sqrt, max_leaf_nodes=50, min_samples_leaf=5, splitter=random;, score=-0.091 total time=   0.0s\n",
      "[CV 3/3] END max_depth=1, max_features=sqrt, max_leaf_nodes=50, min_samples_leaf=5, splitter=random;, score=-0.092 total time=   0.0s\n",
      "[CV 1/3] END max_depth=1, max_features=sqrt, max_leaf_nodes=50, min_samples_leaf=7, splitter=best;, score=-0.064 total time=   0.0s\n",
      "[CV 2/3] END max_depth=1, max_features=sqrt, max_leaf_nodes=50, min_samples_leaf=7, splitter=best;, score=-0.091 total time=   0.0s\n",
      "[CV 3/3] END max_depth=1, max_features=sqrt, max_leaf_nodes=50, min_samples_leaf=7, splitter=best;, score=-0.091 total time=   0.0s\n",
      "[CV 1/3] END max_depth=1, max_features=sqrt, max_leaf_nodes=50, min_samples_leaf=7, splitter=random;, score=-0.095 total time=   0.0s\n",
      "[CV 2/3] END max_depth=1, max_features=sqrt, max_leaf_nodes=50, min_samples_leaf=7, splitter=random;, score=-0.092 total time=   0.0s\n",
      "[CV 3/3] END max_depth=1, max_features=sqrt, max_leaf_nodes=50, min_samples_leaf=7, splitter=random;, score=-0.075 total time=   0.0s\n",
      "[CV 1/3] END max_depth=1, max_features=sqrt, max_leaf_nodes=50, min_samples_leaf=9, splitter=best;, score=-0.064 total time=   0.0s\n",
      "[CV 2/3] END max_depth=1, max_features=sqrt, max_leaf_nodes=50, min_samples_leaf=9, splitter=best;, score=-0.092 total time=   0.0s\n",
      "[CV 3/3] END max_depth=1, max_features=sqrt, max_leaf_nodes=50, min_samples_leaf=9, splitter=best;, score=-0.062 total time=   0.0s\n",
      "[CV 1/3] END max_depth=1, max_features=sqrt, max_leaf_nodes=50, min_samples_leaf=9, splitter=random;, score=-0.095 total time=   0.0s\n",
      "[CV 2/3] END max_depth=1, max_features=sqrt, max_leaf_nodes=50, min_samples_leaf=9, splitter=random;, score=-0.092 total time=   0.0s\n",
      "[CV 3/3] END max_depth=1, max_features=sqrt, max_leaf_nodes=50, min_samples_leaf=9, splitter=random;, score=-0.092 total time=   0.0s\n",
      "[CV 1/3] END max_depth=1, max_features=sqrt, max_leaf_nodes=70, min_samples_leaf=1, splitter=best;, score=-0.064 total time=   0.0s\n",
      "[CV 2/3] END max_depth=1, max_features=sqrt, max_leaf_nodes=70, min_samples_leaf=1, splitter=best;, score=-0.091 total time=   0.0s\n",
      "[CV 3/3] END max_depth=1, max_features=sqrt, max_leaf_nodes=70, min_samples_leaf=1, splitter=best;, score=-0.091 total time=   0.0s\n",
      "[CV 1/3] END max_depth=1, max_features=sqrt, max_leaf_nodes=70, min_samples_leaf=1, splitter=random;, score=-0.090 total time=   0.0s\n",
      "[CV 2/3] END max_depth=1, max_features=sqrt, max_leaf_nodes=70, min_samples_leaf=1, splitter=random;, score=-0.090 total time=   0.0s\n",
      "[CV 3/3] END max_depth=1, max_features=sqrt, max_leaf_nodes=70, min_samples_leaf=1, splitter=random;, score=-0.092 total time=   0.0s\n",
      "[CV 1/3] END max_depth=1, max_features=sqrt, max_leaf_nodes=70, min_samples_leaf=3, splitter=best;, score=-0.094 total time=   0.0s\n",
      "[CV 2/3] END max_depth=1, max_features=sqrt, max_leaf_nodes=70, min_samples_leaf=3, splitter=best;, score=-0.074 total time=   0.0s\n",
      "[CV 3/3] END max_depth=1, max_features=sqrt, max_leaf_nodes=70, min_samples_leaf=3, splitter=best;, score=-0.091 total time=   0.0s\n",
      "[CV 1/3] END max_depth=1, max_features=sqrt, max_leaf_nodes=70, min_samples_leaf=3, splitter=random;, score=-0.095 total time=   0.0s\n",
      "[CV 2/3] END max_depth=1, max_features=sqrt, max_leaf_nodes=70, min_samples_leaf=3, splitter=random;, score=-0.092 total time=   0.0s\n",
      "[CV 3/3] END max_depth=1, max_features=sqrt, max_leaf_nodes=70, min_samples_leaf=3, splitter=random;, score=-0.092 total time=   0.0s\n",
      "[CV 1/3] END max_depth=1, max_features=sqrt, max_leaf_nodes=70, min_samples_leaf=5, splitter=best;, score=-0.094 total time=   0.0s\n",
      "[CV 2/3] END max_depth=1, max_features=sqrt, max_leaf_nodes=70, min_samples_leaf=5, splitter=best;, score=-0.063 total time=   0.0s\n"
     ]
    },
    {
     "name": "stdout",
     "output_type": "stream",
     "text": [
      "[CV 3/3] END max_depth=1, max_features=sqrt, max_leaf_nodes=70, min_samples_leaf=5, splitter=best;, score=-0.062 total time=   0.0s\n",
      "[CV 1/3] END max_depth=1, max_features=sqrt, max_leaf_nodes=70, min_samples_leaf=5, splitter=random;, score=-0.077 total time=   0.0s\n",
      "[CV 2/3] END max_depth=1, max_features=sqrt, max_leaf_nodes=70, min_samples_leaf=5, splitter=random;, score=-0.091 total time=   0.0s\n",
      "[CV 3/3] END max_depth=1, max_features=sqrt, max_leaf_nodes=70, min_samples_leaf=5, splitter=random;, score=-0.084 total time=   0.0s\n",
      "[CV 1/3] END max_depth=1, max_features=sqrt, max_leaf_nodes=70, min_samples_leaf=7, splitter=best;, score=-0.095 total time=   0.0s\n",
      "[CV 2/3] END max_depth=1, max_features=sqrt, max_leaf_nodes=70, min_samples_leaf=7, splitter=best;, score=-0.091 total time=   0.0s\n",
      "[CV 3/3] END max_depth=1, max_features=sqrt, max_leaf_nodes=70, min_samples_leaf=7, splitter=best;, score=-0.075 total time=   0.0s\n",
      "[CV 1/3] END max_depth=1, max_features=sqrt, max_leaf_nodes=70, min_samples_leaf=7, splitter=random;, score=-0.095 total time=   0.0s\n",
      "[CV 2/3] END max_depth=1, max_features=sqrt, max_leaf_nodes=70, min_samples_leaf=7, splitter=random;, score=-0.092 total time=   0.0s\n",
      "[CV 3/3] END max_depth=1, max_features=sqrt, max_leaf_nodes=70, min_samples_leaf=7, splitter=random;, score=-0.092 total time=   0.0s\n",
      "[CV 1/3] END max_depth=1, max_features=sqrt, max_leaf_nodes=70, min_samples_leaf=9, splitter=best;, score=-0.095 total time=   0.0s\n",
      "[CV 2/3] END max_depth=1, max_features=sqrt, max_leaf_nodes=70, min_samples_leaf=9, splitter=best;, score=-0.063 total time=   0.0s\n",
      "[CV 3/3] END max_depth=1, max_features=sqrt, max_leaf_nodes=70, min_samples_leaf=9, splitter=best;, score=-0.062 total time=   0.0s\n",
      "[CV 1/3] END max_depth=1, max_features=sqrt, max_leaf_nodes=70, min_samples_leaf=9, splitter=random;, score=-0.095 total time=   0.0s\n",
      "[CV 2/3] END max_depth=1, max_features=sqrt, max_leaf_nodes=70, min_samples_leaf=9, splitter=random;, score=-0.092 total time=   0.0s\n",
      "[CV 3/3] END max_depth=1, max_features=sqrt, max_leaf_nodes=70, min_samples_leaf=9, splitter=random;, score=-0.063 total time=   0.0s\n",
      "[CV 1/3] END max_depth=3, max_features=log2, max_leaf_nodes=10, min_samples_leaf=1, splitter=best;, score=-0.074 total time=   0.0s\n",
      "[CV 2/3] END max_depth=3, max_features=log2, max_leaf_nodes=10, min_samples_leaf=1, splitter=best;, score=-0.053 total time=   0.0s\n",
      "[CV 3/3] END max_depth=3, max_features=log2, max_leaf_nodes=10, min_samples_leaf=1, splitter=best;, score=-0.073 total time=   0.0s\n",
      "[CV 1/3] END max_depth=3, max_features=log2, max_leaf_nodes=10, min_samples_leaf=1, splitter=random;, score=-0.095 total time=   0.0s\n",
      "[CV 2/3] END max_depth=3, max_features=log2, max_leaf_nodes=10, min_samples_leaf=1, splitter=random;, score=-0.090 total time=   0.0s\n",
      "[CV 3/3] END max_depth=3, max_features=log2, max_leaf_nodes=10, min_samples_leaf=1, splitter=random;, score=-0.084 total time=   0.0s\n",
      "[CV 1/3] END max_depth=3, max_features=log2, max_leaf_nodes=10, min_samples_leaf=3, splitter=best;, score=-0.076 total time=   0.0s\n",
      "[CV 2/3] END max_depth=3, max_features=log2, max_leaf_nodes=10, min_samples_leaf=3, splitter=best;, score=-0.029 total time=   0.0s\n",
      "[CV 3/3] END max_depth=3, max_features=log2, max_leaf_nodes=10, min_samples_leaf=3, splitter=best;, score=-0.037 total time=   0.0s\n",
      "[CV 1/3] END max_depth=3, max_features=log2, max_leaf_nodes=10, min_samples_leaf=3, splitter=random;, score=-0.076 total time=   0.0s\n",
      "[CV 2/3] END max_depth=3, max_features=log2, max_leaf_nodes=10, min_samples_leaf=3, splitter=random;, score=-0.084 total time=   0.0s\n",
      "[CV 3/3] END max_depth=3, max_features=log2, max_leaf_nodes=10, min_samples_leaf=3, splitter=random;, score=-0.091 total time=   0.0s\n",
      "[CV 1/3] END max_depth=3, max_features=log2, max_leaf_nodes=10, min_samples_leaf=5, splitter=best;, score=-0.059 total time=   0.0s\n",
      "[CV 2/3] END max_depth=3, max_features=log2, max_leaf_nodes=10, min_samples_leaf=5, splitter=best;, score=-0.066 total time=   0.0s\n",
      "[CV 3/3] END max_depth=3, max_features=log2, max_leaf_nodes=10, min_samples_leaf=5, splitter=best;, score=-0.057 total time=   0.0s\n",
      "[CV 1/3] END max_depth=3, max_features=log2, max_leaf_nodes=10, min_samples_leaf=5, splitter=random;, score=-0.036 total time=   0.0s\n",
      "[CV 2/3] END max_depth=3, max_features=log2, max_leaf_nodes=10, min_samples_leaf=5, splitter=random;, score=-0.072 total time=   0.0s\n",
      "[CV 3/3] END max_depth=3, max_features=log2, max_leaf_nodes=10, min_samples_leaf=5, splitter=random;, score=-0.092 total time=   0.0s\n",
      "[CV 1/3] END max_depth=3, max_features=log2, max_leaf_nodes=10, min_samples_leaf=7, splitter=best;, score=-0.050 total time=   0.0s\n",
      "[CV 2/3] END max_depth=3, max_features=log2, max_leaf_nodes=10, min_samples_leaf=7, splitter=best;, score=-0.046 total time=   0.0s\n",
      "[CV 3/3] END max_depth=3, max_features=log2, max_leaf_nodes=10, min_samples_leaf=7, splitter=best;, score=-0.047 total time=   0.0s\n",
      "[CV 1/3] END max_depth=3, max_features=log2, max_leaf_nodes=10, min_samples_leaf=7, splitter=random;, score=-0.076 total time=   0.0s\n",
      "[CV 2/3] END max_depth=3, max_features=log2, max_leaf_nodes=10, min_samples_leaf=7, splitter=random;, score=-0.036 total time=   0.0s\n",
      "[CV 3/3] END max_depth=3, max_features=log2, max_leaf_nodes=10, min_samples_leaf=7, splitter=random;, score=-0.092 total time=   0.0s\n",
      "[CV 1/3] END max_depth=3, max_features=log2, max_leaf_nodes=10, min_samples_leaf=9, splitter=best;, score=-0.047 total time=   0.0s\n",
      "[CV 2/3] END max_depth=3, max_features=log2, max_leaf_nodes=10, min_samples_leaf=9, splitter=best;, score=-0.046 total time=   0.0s\n",
      "[CV 3/3] END max_depth=3, max_features=log2, max_leaf_nodes=10, min_samples_leaf=9, splitter=best;, score=-0.027 total time=   0.0s\n",
      "[CV 1/3] END max_depth=3, max_features=log2, max_leaf_nodes=10, min_samples_leaf=9, splitter=random;, score=-0.090 total time=   0.0s\n",
      "[CV 2/3] END max_depth=3, max_features=log2, max_leaf_nodes=10, min_samples_leaf=9, splitter=random;, score=-0.091 total time=   0.0s\n",
      "[CV 3/3] END max_depth=3, max_features=log2, max_leaf_nodes=10, min_samples_leaf=9, splitter=random;, score=-0.089 total time=   0.0s\n",
      "[CV 1/3] END max_depth=3, max_features=log2, max_leaf_nodes=30, min_samples_leaf=1, splitter=best;, score=-0.036 total time=   0.0s\n",
      "[CV 2/3] END max_depth=3, max_features=log2, max_leaf_nodes=30, min_samples_leaf=1, splitter=best;, score=-0.073 total time=   0.0s\n",
      "[CV 3/3] END max_depth=3, max_features=log2, max_leaf_nodes=30, min_samples_leaf=1, splitter=best;, score=-0.037 total time=   0.0s\n",
      "[CV 1/3] END max_depth=3, max_features=log2, max_leaf_nodes=30, min_samples_leaf=1, splitter=random;, score=-0.077 total time=   0.0s\n",
      "[CV 2/3] END max_depth=3, max_features=log2, max_leaf_nodes=30, min_samples_leaf=1, splitter=random;, score=-0.089 total time=   0.0s\n",
      "[CV 3/3] END max_depth=3, max_features=log2, max_leaf_nodes=30, min_samples_leaf=1, splitter=random;, score=-0.089 total time=   0.0s\n",
      "[CV 1/3] END max_depth=3, max_features=log2, max_leaf_nodes=30, min_samples_leaf=3, splitter=best;, score=-0.028 total time=   0.0s\n",
      "[CV 2/3] END max_depth=3, max_features=log2, max_leaf_nodes=30, min_samples_leaf=3, splitter=best;, score=-0.087 total time=   0.0s\n",
      "[CV 3/3] END max_depth=3, max_features=log2, max_leaf_nodes=30, min_samples_leaf=3, splitter=best;, score=-0.046 total time=   0.0s\n",
      "[CV 1/3] END max_depth=3, max_features=log2, max_leaf_nodes=30, min_samples_leaf=3, splitter=random;, score=-0.093 total time=   0.0s\n",
      "[CV 2/3] END max_depth=3, max_features=log2, max_leaf_nodes=30, min_samples_leaf=3, splitter=random;, score=-0.091 total time=   0.0s\n",
      "[CV 3/3] END max_depth=3, max_features=log2, max_leaf_nodes=30, min_samples_leaf=3, splitter=random;, score=-0.092 total time=   0.0s\n",
      "[CV 1/3] END max_depth=3, max_features=log2, max_leaf_nodes=30, min_samples_leaf=5, splitter=best;, score=-0.073 total time=   0.0s\n",
      "[CV 2/3] END max_depth=3, max_features=log2, max_leaf_nodes=30, min_samples_leaf=5, splitter=best;, score=-0.071 total time=   0.0s\n",
      "[CV 3/3] END max_depth=3, max_features=log2, max_leaf_nodes=30, min_samples_leaf=5, splitter=best;, score=-0.021 total time=   0.0s\n",
      "[CV 1/3] END max_depth=3, max_features=log2, max_leaf_nodes=30, min_samples_leaf=5, splitter=random;, score=-0.078 total time=   0.0s\n",
      "[CV 2/3] END max_depth=3, max_features=log2, max_leaf_nodes=30, min_samples_leaf=5, splitter=random;, score=-0.031 total time=   0.0s\n",
      "[CV 3/3] END max_depth=3, max_features=log2, max_leaf_nodes=30, min_samples_leaf=5, splitter=random;, score=-0.088 total time=   0.0s\n",
      "[CV 1/3] END max_depth=3, max_features=log2, max_leaf_nodes=30, min_samples_leaf=7, splitter=best;, score=-0.028 total time=   0.0s\n",
      "[CV 2/3] END max_depth=3, max_features=log2, max_leaf_nodes=30, min_samples_leaf=7, splitter=best;, score=-0.068 total time=   0.0s\n"
     ]
    },
    {
     "name": "stdout",
     "output_type": "stream",
     "text": [
      "[CV 3/3] END max_depth=3, max_features=log2, max_leaf_nodes=30, min_samples_leaf=7, splitter=best;, score=-0.089 total time=   0.0s\n",
      "[CV 1/3] END max_depth=3, max_features=log2, max_leaf_nodes=30, min_samples_leaf=7, splitter=random;, score=-0.092 total time=   0.0s\n",
      "[CV 2/3] END max_depth=3, max_features=log2, max_leaf_nodes=30, min_samples_leaf=7, splitter=random;, score=-0.080 total time=   0.0s\n",
      "[CV 3/3] END max_depth=3, max_features=log2, max_leaf_nodes=30, min_samples_leaf=7, splitter=random;, score=-0.091 total time=   0.0s\n",
      "[CV 1/3] END max_depth=3, max_features=log2, max_leaf_nodes=30, min_samples_leaf=9, splitter=best;, score=-0.074 total time=   0.0s\n",
      "[CV 2/3] END max_depth=3, max_features=log2, max_leaf_nodes=30, min_samples_leaf=9, splitter=best;, score=-0.091 total time=   0.0s\n",
      "[CV 3/3] END max_depth=3, max_features=log2, max_leaf_nodes=30, min_samples_leaf=9, splitter=best;, score=-0.047 total time=   0.0s\n",
      "[CV 1/3] END max_depth=3, max_features=log2, max_leaf_nodes=30, min_samples_leaf=9, splitter=random;, score=-0.094 total time=   0.0s\n",
      "[CV 2/3] END max_depth=3, max_features=log2, max_leaf_nodes=30, min_samples_leaf=9, splitter=random;, score=-0.089 total time=   0.0s\n",
      "[CV 3/3] END max_depth=3, max_features=log2, max_leaf_nodes=30, min_samples_leaf=9, splitter=random;, score=-0.091 total time=   0.0s\n",
      "[CV 1/3] END max_depth=3, max_features=log2, max_leaf_nodes=50, min_samples_leaf=1, splitter=best;, score=-0.047 total time=   0.0s\n",
      "[CV 2/3] END max_depth=3, max_features=log2, max_leaf_nodes=50, min_samples_leaf=1, splitter=best;, score=-0.062 total time=   0.0s\n",
      "[CV 3/3] END max_depth=3, max_features=log2, max_leaf_nodes=50, min_samples_leaf=1, splitter=best;, score=-0.047 total time=   0.0s\n",
      "[CV 1/3] END max_depth=3, max_features=log2, max_leaf_nodes=50, min_samples_leaf=1, splitter=random;, score=-0.085 total time=   0.0s\n",
      "[CV 2/3] END max_depth=3, max_features=log2, max_leaf_nodes=50, min_samples_leaf=1, splitter=random;, score=-0.074 total time=   0.0s\n",
      "[CV 3/3] END max_depth=3, max_features=log2, max_leaf_nodes=50, min_samples_leaf=1, splitter=random;, score=-0.068 total time=   0.0s\n",
      "[CV 1/3] END max_depth=3, max_features=log2, max_leaf_nodes=50, min_samples_leaf=3, splitter=best;, score=-0.021 total time=   0.0s\n",
      "[CV 2/3] END max_depth=3, max_features=log2, max_leaf_nodes=50, min_samples_leaf=3, splitter=best;, score=-0.084 total time=   0.0s\n",
      "[CV 3/3] END max_depth=3, max_features=log2, max_leaf_nodes=50, min_samples_leaf=3, splitter=best;, score=-0.045 total time=   0.0s\n",
      "[CV 1/3] END max_depth=3, max_features=log2, max_leaf_nodes=50, min_samples_leaf=3, splitter=random;, score=-0.089 total time=   0.0s\n",
      "[CV 2/3] END max_depth=3, max_features=log2, max_leaf_nodes=50, min_samples_leaf=3, splitter=random;, score=-0.091 total time=   0.0s\n",
      "[CV 3/3] END max_depth=3, max_features=log2, max_leaf_nodes=50, min_samples_leaf=3, splitter=random;, score=-0.081 total time=   0.0s\n",
      "[CV 1/3] END max_depth=3, max_features=log2, max_leaf_nodes=50, min_samples_leaf=5, splitter=best;, score=-0.061 total time=   0.0s\n",
      "[CV 2/3] END max_depth=3, max_features=log2, max_leaf_nodes=50, min_samples_leaf=5, splitter=best;, score=-0.068 total time=   0.0s\n",
      "[CV 3/3] END max_depth=3, max_features=log2, max_leaf_nodes=50, min_samples_leaf=5, splitter=best;, score=-0.088 total time=   0.0s\n",
      "[CV 1/3] END max_depth=3, max_features=log2, max_leaf_nodes=50, min_samples_leaf=5, splitter=random;, score=-0.068 total time=   0.0s\n",
      "[CV 2/3] END max_depth=3, max_features=log2, max_leaf_nodes=50, min_samples_leaf=5, splitter=random;, score=-0.090 total time=   0.0s\n",
      "[CV 3/3] END max_depth=3, max_features=log2, max_leaf_nodes=50, min_samples_leaf=5, splitter=random;, score=-0.091 total time=   0.0s\n",
      "[CV 1/3] END max_depth=3, max_features=log2, max_leaf_nodes=50, min_samples_leaf=7, splitter=best;, score=-0.075 total time=   0.0s\n",
      "[CV 2/3] END max_depth=3, max_features=log2, max_leaf_nodes=50, min_samples_leaf=7, splitter=best;, score=-0.037 total time=   0.0s\n",
      "[CV 3/3] END max_depth=3, max_features=log2, max_leaf_nodes=50, min_samples_leaf=7, splitter=best;, score=-0.027 total time=   0.0s\n",
      "[CV 1/3] END max_depth=3, max_features=log2, max_leaf_nodes=50, min_samples_leaf=7, splitter=random;, score=-0.094 total time=   0.0s\n",
      "[CV 2/3] END max_depth=3, max_features=log2, max_leaf_nodes=50, min_samples_leaf=7, splitter=random;, score=-0.069 total time=   0.0s\n",
      "[CV 3/3] END max_depth=3, max_features=log2, max_leaf_nodes=50, min_samples_leaf=7, splitter=random;, score=-0.090 total time=   0.0s\n",
      "[CV 1/3] END max_depth=3, max_features=log2, max_leaf_nodes=50, min_samples_leaf=9, splitter=best;, score=-0.061 total time=   0.0s\n",
      "[CV 2/3] END max_depth=3, max_features=log2, max_leaf_nodes=50, min_samples_leaf=9, splitter=best;, score=-0.075 total time=   0.0s\n",
      "[CV 3/3] END max_depth=3, max_features=log2, max_leaf_nodes=50, min_samples_leaf=9, splitter=best;, score=-0.051 total time=   0.0s\n",
      "[CV 1/3] END max_depth=3, max_features=log2, max_leaf_nodes=50, min_samples_leaf=9, splitter=random;, score=-0.087 total time=   0.0s\n",
      "[CV 2/3] END max_depth=3, max_features=log2, max_leaf_nodes=50, min_samples_leaf=9, splitter=random;, score=-0.089 total time=   0.0s\n",
      "[CV 3/3] END max_depth=3, max_features=log2, max_leaf_nodes=50, min_samples_leaf=9, splitter=random;, score=-0.092 total time=   0.0s\n",
      "[CV 1/3] END max_depth=3, max_features=log2, max_leaf_nodes=70, min_samples_leaf=1, splitter=best;, score=-0.050 total time=   0.0s\n",
      "[CV 2/3] END max_depth=3, max_features=log2, max_leaf_nodes=70, min_samples_leaf=1, splitter=best;, score=-0.047 total time=   0.0s\n",
      "[CV 3/3] END max_depth=3, max_features=log2, max_leaf_nodes=70, min_samples_leaf=1, splitter=best;, score=-0.045 total time=   0.0s\n",
      "[CV 1/3] END max_depth=3, max_features=log2, max_leaf_nodes=70, min_samples_leaf=1, splitter=random;, score=-0.094 total time=   0.0s\n",
      "[CV 2/3] END max_depth=3, max_features=log2, max_leaf_nodes=70, min_samples_leaf=1, splitter=random;, score=-0.091 total time=   0.0s\n",
      "[CV 3/3] END max_depth=3, max_features=log2, max_leaf_nodes=70, min_samples_leaf=1, splitter=random;, score=-0.084 total time=   0.0s\n",
      "[CV 1/3] END max_depth=3, max_features=log2, max_leaf_nodes=70, min_samples_leaf=3, splitter=best;, score=-0.065 total time=   0.0s\n",
      "[CV 2/3] END max_depth=3, max_features=log2, max_leaf_nodes=70, min_samples_leaf=3, splitter=best;, score=-0.052 total time=   0.0s\n",
      "[CV 3/3] END max_depth=3, max_features=log2, max_leaf_nodes=70, min_samples_leaf=3, splitter=best;, score=-0.046 total time=   0.0s\n",
      "[CV 1/3] END max_depth=3, max_features=log2, max_leaf_nodes=70, min_samples_leaf=3, splitter=random;, score=-0.081 total time=   0.0s\n",
      "[CV 2/3] END max_depth=3, max_features=log2, max_leaf_nodes=70, min_samples_leaf=3, splitter=random;, score=-0.084 total time=   0.0s\n",
      "[CV 3/3] END max_depth=3, max_features=log2, max_leaf_nodes=70, min_samples_leaf=3, splitter=random;, score=-0.092 total time=   0.0s\n",
      "[CV 1/3] END max_depth=3, max_features=log2, max_leaf_nodes=70, min_samples_leaf=5, splitter=best;, score=-0.073 total time=   0.0s\n",
      "[CV 2/3] END max_depth=3, max_features=log2, max_leaf_nodes=70, min_samples_leaf=5, splitter=best;, score=-0.064 total time=   0.0s\n",
      "[CV 3/3] END max_depth=3, max_features=log2, max_leaf_nodes=70, min_samples_leaf=5, splitter=best;, score=-0.037 total time=   0.0s\n",
      "[CV 1/3] END max_depth=3, max_features=log2, max_leaf_nodes=70, min_samples_leaf=5, splitter=random;, score=-0.091 total time=   0.0s\n",
      "[CV 2/3] END max_depth=3, max_features=log2, max_leaf_nodes=70, min_samples_leaf=5, splitter=random;, score=-0.045 total time=   0.0s\n",
      "[CV 3/3] END max_depth=3, max_features=log2, max_leaf_nodes=70, min_samples_leaf=5, splitter=random;, score=-0.052 total time=   0.0s\n",
      "[CV 1/3] END max_depth=3, max_features=log2, max_leaf_nodes=70, min_samples_leaf=7, splitter=best;, score=-0.049 total time=   0.0s\n",
      "[CV 2/3] END max_depth=3, max_features=log2, max_leaf_nodes=70, min_samples_leaf=7, splitter=best;, score=-0.037 total time=   0.0s\n",
      "[CV 3/3] END max_depth=3, max_features=log2, max_leaf_nodes=70, min_samples_leaf=7, splitter=best;, score=-0.045 total time=   0.0s\n",
      "[CV 1/3] END max_depth=3, max_features=log2, max_leaf_nodes=70, min_samples_leaf=7, splitter=random;, score=-0.083 total time=   0.0s\n",
      "[CV 2/3] END max_depth=3, max_features=log2, max_leaf_nodes=70, min_samples_leaf=7, splitter=random;, score=-0.091 total time=   0.0s\n",
      "[CV 3/3] END max_depth=3, max_features=log2, max_leaf_nodes=70, min_samples_leaf=7, splitter=random;, score=-0.087 total time=   0.0s\n",
      "[CV 1/3] END max_depth=3, max_features=log2, max_leaf_nodes=70, min_samples_leaf=9, splitter=best;, score=-0.054 total time=   0.0s\n",
      "[CV 2/3] END max_depth=3, max_features=log2, max_leaf_nodes=70, min_samples_leaf=9, splitter=best;, score=-0.022 total time=   0.0s\n",
      "[CV 3/3] END max_depth=3, max_features=log2, max_leaf_nodes=70, min_samples_leaf=9, splitter=best;, score=-0.088 total time=   0.0s\n"
     ]
    },
    {
     "name": "stdout",
     "output_type": "stream",
     "text": [
      "[CV 1/3] END max_depth=3, max_features=log2, max_leaf_nodes=70, min_samples_leaf=9, splitter=random;, score=-0.079 total time=   0.0s\n",
      "[CV 2/3] END max_depth=3, max_features=log2, max_leaf_nodes=70, min_samples_leaf=9, splitter=random;, score=-0.075 total time=   0.0s\n",
      "[CV 3/3] END max_depth=3, max_features=log2, max_leaf_nodes=70, min_samples_leaf=9, splitter=random;, score=-0.087 total time=   0.0s\n",
      "[CV 1/3] END max_depth=3, max_features=sqrt, max_leaf_nodes=10, min_samples_leaf=1, splitter=best;, score=-0.037 total time=   0.0s\n",
      "[CV 2/3] END max_depth=3, max_features=sqrt, max_leaf_nodes=10, min_samples_leaf=1, splitter=best;, score=-0.054 total time=   0.0s\n",
      "[CV 3/3] END max_depth=3, max_features=sqrt, max_leaf_nodes=10, min_samples_leaf=1, splitter=best;, score=-0.073 total time=   0.0s\n",
      "[CV 1/3] END max_depth=3, max_features=sqrt, max_leaf_nodes=10, min_samples_leaf=1, splitter=random;, score=-0.083 total time=   0.0s\n",
      "[CV 2/3] END max_depth=3, max_features=sqrt, max_leaf_nodes=10, min_samples_leaf=1, splitter=random;, score=-0.091 total time=   0.0s\n",
      "[CV 3/3] END max_depth=3, max_features=sqrt, max_leaf_nodes=10, min_samples_leaf=1, splitter=random;, score=-0.090 total time=   0.0s\n",
      "[CV 1/3] END max_depth=3, max_features=sqrt, max_leaf_nodes=10, min_samples_leaf=3, splitter=best;, score=-0.062 total time=   0.0s\n",
      "[CV 2/3] END max_depth=3, max_features=sqrt, max_leaf_nodes=10, min_samples_leaf=3, splitter=best;, score=-0.052 total time=   0.0s\n",
      "[CV 3/3] END max_depth=3, max_features=sqrt, max_leaf_nodes=10, min_samples_leaf=3, splitter=best;, score=-0.061 total time=   0.0s\n",
      "[CV 1/3] END max_depth=3, max_features=sqrt, max_leaf_nodes=10, min_samples_leaf=3, splitter=random;, score=-0.063 total time=   0.0s\n",
      "[CV 2/3] END max_depth=3, max_features=sqrt, max_leaf_nodes=10, min_samples_leaf=3, splitter=random;, score=-0.071 total time=   0.0s\n",
      "[CV 3/3] END max_depth=3, max_features=sqrt, max_leaf_nodes=10, min_samples_leaf=3, splitter=random;, score=-0.088 total time=   0.0s\n",
      "[CV 1/3] END max_depth=3, max_features=sqrt, max_leaf_nodes=10, min_samples_leaf=5, splitter=best;, score=-0.062 total time=   0.0s\n",
      "[CV 2/3] END max_depth=3, max_features=sqrt, max_leaf_nodes=10, min_samples_leaf=5, splitter=best;, score=-0.045 total time=   0.0s\n",
      "[CV 3/3] END max_depth=3, max_features=sqrt, max_leaf_nodes=10, min_samples_leaf=5, splitter=best;, score=-0.035 total time=   0.0s\n",
      "[CV 1/3] END max_depth=3, max_features=sqrt, max_leaf_nodes=10, min_samples_leaf=5, splitter=random;, score=-0.076 total time=   0.0s\n",
      "[CV 2/3] END max_depth=3, max_features=sqrt, max_leaf_nodes=10, min_samples_leaf=5, splitter=random;, score=-0.073 total time=   0.0s\n",
      "[CV 3/3] END max_depth=3, max_features=sqrt, max_leaf_nodes=10, min_samples_leaf=5, splitter=random;, score=-0.074 total time=   0.0s\n",
      "[CV 1/3] END max_depth=3, max_features=sqrt, max_leaf_nodes=10, min_samples_leaf=7, splitter=best;, score=-0.065 total time=   0.0s\n",
      "[CV 2/3] END max_depth=3, max_features=sqrt, max_leaf_nodes=10, min_samples_leaf=7, splitter=best;, score=-0.034 total time=   0.0s\n",
      "[CV 3/3] END max_depth=3, max_features=sqrt, max_leaf_nodes=10, min_samples_leaf=7, splitter=best;, score=-0.073 total time=   0.0s\n",
      "[CV 1/3] END max_depth=3, max_features=sqrt, max_leaf_nodes=10, min_samples_leaf=7, splitter=random;, score=-0.086 total time=   0.0s\n",
      "[CV 2/3] END max_depth=3, max_features=sqrt, max_leaf_nodes=10, min_samples_leaf=7, splitter=random;, score=-0.091 total time=   0.0s\n",
      "[CV 3/3] END max_depth=3, max_features=sqrt, max_leaf_nodes=10, min_samples_leaf=7, splitter=random;, score=-0.091 total time=   0.0s\n",
      "[CV 1/3] END max_depth=3, max_features=sqrt, max_leaf_nodes=10, min_samples_leaf=9, splitter=best;, score=-0.036 total time=   0.0s\n",
      "[CV 2/3] END max_depth=3, max_features=sqrt, max_leaf_nodes=10, min_samples_leaf=9, splitter=best;, score=-0.070 total time=   0.0s\n",
      "[CV 3/3] END max_depth=3, max_features=sqrt, max_leaf_nodes=10, min_samples_leaf=9, splitter=best;, score=-0.035 total time=   0.0s\n",
      "[CV 1/3] END max_depth=3, max_features=sqrt, max_leaf_nodes=10, min_samples_leaf=9, splitter=random;, score=-0.089 total time=   0.0s\n",
      "[CV 2/3] END max_depth=3, max_features=sqrt, max_leaf_nodes=10, min_samples_leaf=9, splitter=random;, score=-0.088 total time=   0.0s\n",
      "[CV 3/3] END max_depth=3, max_features=sqrt, max_leaf_nodes=10, min_samples_leaf=9, splitter=random;, score=-0.092 total time=   0.0s\n",
      "[CV 1/3] END max_depth=3, max_features=sqrt, max_leaf_nodes=30, min_samples_leaf=1, splitter=best;, score=-0.047 total time=   0.0s\n",
      "[CV 2/3] END max_depth=3, max_features=sqrt, max_leaf_nodes=30, min_samples_leaf=1, splitter=best;, score=-0.046 total time=   0.0s\n",
      "[CV 3/3] END max_depth=3, max_features=sqrt, max_leaf_nodes=30, min_samples_leaf=1, splitter=best;, score=-0.061 total time=   0.0s\n",
      "[CV 1/3] END max_depth=3, max_features=sqrt, max_leaf_nodes=30, min_samples_leaf=1, splitter=random;, score=-0.038 total time=   0.0s\n",
      "[CV 2/3] END max_depth=3, max_features=sqrt, max_leaf_nodes=30, min_samples_leaf=1, splitter=random;, score=-0.090 total time=   0.0s\n",
      "[CV 3/3] END max_depth=3, max_features=sqrt, max_leaf_nodes=30, min_samples_leaf=1, splitter=random;, score=-0.088 total time=   0.0s\n",
      "[CV 1/3] END max_depth=3, max_features=sqrt, max_leaf_nodes=30, min_samples_leaf=3, splitter=best;, score=-0.090 total time=   0.0s\n",
      "[CV 2/3] END max_depth=3, max_features=sqrt, max_leaf_nodes=30, min_samples_leaf=3, splitter=best;, score=-0.052 total time=   0.0s\n",
      "[CV 3/3] END max_depth=3, max_features=sqrt, max_leaf_nodes=30, min_samples_leaf=3, splitter=best;, score=-0.027 total time=   0.0s\n",
      "[CV 1/3] END max_depth=3, max_features=sqrt, max_leaf_nodes=30, min_samples_leaf=3, splitter=random;, score=-0.095 total time=   0.0s\n",
      "[CV 2/3] END max_depth=3, max_features=sqrt, max_leaf_nodes=30, min_samples_leaf=3, splitter=random;, score=-0.085 total time=   0.0s\n",
      "[CV 3/3] END max_depth=3, max_features=sqrt, max_leaf_nodes=30, min_samples_leaf=3, splitter=random;, score=-0.092 total time=   0.0s\n",
      "[CV 1/3] END max_depth=3, max_features=sqrt, max_leaf_nodes=30, min_samples_leaf=5, splitter=best;, score=-0.048 total time=   0.0s\n",
      "[CV 2/3] END max_depth=3, max_features=sqrt, max_leaf_nodes=30, min_samples_leaf=5, splitter=best;, score=-0.062 total time=   0.0s\n",
      "[CV 3/3] END max_depth=3, max_features=sqrt, max_leaf_nodes=30, min_samples_leaf=5, splitter=best;, score=-0.021 total time=   0.0s\n",
      "[CV 1/3] END max_depth=3, max_features=sqrt, max_leaf_nodes=30, min_samples_leaf=5, splitter=random;, score=-0.075 total time=   0.0s\n",
      "[CV 2/3] END max_depth=3, max_features=sqrt, max_leaf_nodes=30, min_samples_leaf=5, splitter=random;, score=-0.031 total time=   0.0s\n",
      "[CV 3/3] END max_depth=3, max_features=sqrt, max_leaf_nodes=30, min_samples_leaf=5, splitter=random;, score=-0.087 total time=   0.0s\n",
      "[CV 1/3] END max_depth=3, max_features=sqrt, max_leaf_nodes=30, min_samples_leaf=7, splitter=best;, score=-0.062 total time=   0.0s\n",
      "[CV 2/3] END max_depth=3, max_features=sqrt, max_leaf_nodes=30, min_samples_leaf=7, splitter=best;, score=-0.031 total time=   0.0s\n",
      "[CV 3/3] END max_depth=3, max_features=sqrt, max_leaf_nodes=30, min_samples_leaf=7, splitter=best;, score=-0.047 total time=   0.0s\n",
      "[CV 1/3] END max_depth=3, max_features=sqrt, max_leaf_nodes=30, min_samples_leaf=7, splitter=random;, score=-0.086 total time=   0.0s\n",
      "[CV 2/3] END max_depth=3, max_features=sqrt, max_leaf_nodes=30, min_samples_leaf=7, splitter=random;, score=-0.091 total time=   0.0s\n",
      "[CV 3/3] END max_depth=3, max_features=sqrt, max_leaf_nodes=30, min_samples_leaf=7, splitter=random;, score=-0.091 total time=   0.0s\n",
      "[CV 1/3] END max_depth=3, max_features=sqrt, max_leaf_nodes=30, min_samples_leaf=9, splitter=best;, score=-0.074 total time=   0.0s\n",
      "[CV 2/3] END max_depth=3, max_features=sqrt, max_leaf_nodes=30, min_samples_leaf=9, splitter=best;, score=-0.055 total time=   0.0s\n",
      "[CV 3/3] END max_depth=3, max_features=sqrt, max_leaf_nodes=30, min_samples_leaf=9, splitter=best;, score=-0.028 total time=   0.0s\n",
      "[CV 1/3] END max_depth=3, max_features=sqrt, max_leaf_nodes=30, min_samples_leaf=9, splitter=random;, score=-0.095 total time=   0.0s\n",
      "[CV 2/3] END max_depth=3, max_features=sqrt, max_leaf_nodes=30, min_samples_leaf=9, splitter=random;, score=-0.088 total time=   0.0s\n",
      "[CV 3/3] END max_depth=3, max_features=sqrt, max_leaf_nodes=30, min_samples_leaf=9, splitter=random;, score=-0.092 total time=   0.0s\n",
      "[CV 1/3] END max_depth=3, max_features=sqrt, max_leaf_nodes=50, min_samples_leaf=1, splitter=best;, score=-0.075 total time=   0.0s\n",
      "[CV 2/3] END max_depth=3, max_features=sqrt, max_leaf_nodes=50, min_samples_leaf=1, splitter=best;, score=-0.029 total time=   0.0s\n",
      "[CV 3/3] END max_depth=3, max_features=sqrt, max_leaf_nodes=50, min_samples_leaf=1, splitter=best;, score=-0.045 total time=   0.0s\n"
     ]
    },
    {
     "name": "stdout",
     "output_type": "stream",
     "text": [
      "[CV 1/3] END max_depth=3, max_features=sqrt, max_leaf_nodes=50, min_samples_leaf=1, splitter=random;, score=-0.080 total time=   0.0s\n",
      "[CV 2/3] END max_depth=3, max_features=sqrt, max_leaf_nodes=50, min_samples_leaf=1, splitter=random;, score=-0.080 total time=   0.0s\n",
      "[CV 3/3] END max_depth=3, max_features=sqrt, max_leaf_nodes=50, min_samples_leaf=1, splitter=random;, score=-0.086 total time=   0.0s\n",
      "[CV 1/3] END max_depth=3, max_features=sqrt, max_leaf_nodes=50, min_samples_leaf=3, splitter=best;, score=-0.052 total time=   0.0s\n",
      "[CV 2/3] END max_depth=3, max_features=sqrt, max_leaf_nodes=50, min_samples_leaf=3, splitter=best;, score=-0.053 total time=   0.0s\n",
      "[CV 3/3] END max_depth=3, max_features=sqrt, max_leaf_nodes=50, min_samples_leaf=3, splitter=best;, score=-0.048 total time=   0.0s\n",
      "[CV 1/3] END max_depth=3, max_features=sqrt, max_leaf_nodes=50, min_samples_leaf=3, splitter=random;, score=-0.089 total time=   0.0s\n",
      "[CV 2/3] END max_depth=3, max_features=sqrt, max_leaf_nodes=50, min_samples_leaf=3, splitter=random;, score=-0.089 total time=   0.0s\n",
      "[CV 3/3] END max_depth=3, max_features=sqrt, max_leaf_nodes=50, min_samples_leaf=3, splitter=random;, score=-0.092 total time=   0.0s\n",
      "[CV 1/3] END max_depth=3, max_features=sqrt, max_leaf_nodes=50, min_samples_leaf=5, splitter=best;, score=-0.047 total time=   0.0s\n",
      "[CV 2/3] END max_depth=3, max_features=sqrt, max_leaf_nodes=50, min_samples_leaf=5, splitter=best;, score=-0.062 total time=   0.0s\n",
      "[CV 3/3] END max_depth=3, max_features=sqrt, max_leaf_nodes=50, min_samples_leaf=5, splitter=best;, score=-0.046 total time=   0.0s\n",
      "[CV 1/3] END max_depth=3, max_features=sqrt, max_leaf_nodes=50, min_samples_leaf=5, splitter=random;, score=-0.083 total time=   0.0s\n",
      "[CV 2/3] END max_depth=3, max_features=sqrt, max_leaf_nodes=50, min_samples_leaf=5, splitter=random;, score=-0.079 total time=   0.0s\n",
      "[CV 3/3] END max_depth=3, max_features=sqrt, max_leaf_nodes=50, min_samples_leaf=5, splitter=random;, score=-0.090 total time=   0.0s\n",
      "[CV 1/3] END max_depth=3, max_features=sqrt, max_leaf_nodes=50, min_samples_leaf=7, splitter=best;, score=-0.063 total time=   0.0s\n",
      "[CV 2/3] END max_depth=3, max_features=sqrt, max_leaf_nodes=50, min_samples_leaf=7, splitter=best;, score=-0.067 total time=   0.0s\n",
      "[CV 3/3] END max_depth=3, max_features=sqrt, max_leaf_nodes=50, min_samples_leaf=7, splitter=best;, score=-0.046 total time=   0.0s\n",
      "[CV 1/3] END max_depth=3, max_features=sqrt, max_leaf_nodes=50, min_samples_leaf=7, splitter=random;, score=-0.065 total time=   0.0s\n",
      "[CV 2/3] END max_depth=3, max_features=sqrt, max_leaf_nodes=50, min_samples_leaf=7, splitter=random;, score=-0.091 total time=   0.0s\n",
      "[CV 3/3] END max_depth=3, max_features=sqrt, max_leaf_nodes=50, min_samples_leaf=7, splitter=random;, score=-0.092 total time=   0.0s\n",
      "[CV 1/3] END max_depth=3, max_features=sqrt, max_leaf_nodes=50, min_samples_leaf=9, splitter=best;, score=-0.063 total time=   0.0s\n",
      "[CV 2/3] END max_depth=3, max_features=sqrt, max_leaf_nodes=50, min_samples_leaf=9, splitter=best;, score=-0.061 total time=   0.0s\n",
      "[CV 3/3] END max_depth=3, max_features=sqrt, max_leaf_nodes=50, min_samples_leaf=9, splitter=best;, score=-0.067 total time=   0.0s\n",
      "[CV 1/3] END max_depth=3, max_features=sqrt, max_leaf_nodes=50, min_samples_leaf=9, splitter=random;, score=-0.094 total time=   0.0s\n",
      "[CV 2/3] END max_depth=3, max_features=sqrt, max_leaf_nodes=50, min_samples_leaf=9, splitter=random;, score=-0.091 total time=   0.0s\n",
      "[CV 3/3] END max_depth=3, max_features=sqrt, max_leaf_nodes=50, min_samples_leaf=9, splitter=random;, score=-0.090 total time=   0.0s\n",
      "[CV 1/3] END max_depth=3, max_features=sqrt, max_leaf_nodes=70, min_samples_leaf=1, splitter=best;, score=-0.046 total time=   0.0s\n",
      "[CV 2/3] END max_depth=3, max_features=sqrt, max_leaf_nodes=70, min_samples_leaf=1, splitter=best;, score=-0.047 total time=   0.0s\n",
      "[CV 3/3] END max_depth=3, max_features=sqrt, max_leaf_nodes=70, min_samples_leaf=1, splitter=best;, score=-0.091 total time=   0.0s\n",
      "[CV 1/3] END max_depth=3, max_features=sqrt, max_leaf_nodes=70, min_samples_leaf=1, splitter=random;, score=-0.094 total time=   0.0s\n",
      "[CV 2/3] END max_depth=3, max_features=sqrt, max_leaf_nodes=70, min_samples_leaf=1, splitter=random;, score=-0.091 total time=   0.0s\n",
      "[CV 3/3] END max_depth=3, max_features=sqrt, max_leaf_nodes=70, min_samples_leaf=1, splitter=random;, score=-0.052 total time=   0.0s\n",
      "[CV 1/3] END max_depth=3, max_features=sqrt, max_leaf_nodes=70, min_samples_leaf=3, splitter=best;, score=-0.073 total time=   0.0s\n",
      "[CV 2/3] END max_depth=3, max_features=sqrt, max_leaf_nodes=70, min_samples_leaf=3, splitter=best;, score=-0.046 total time=   0.0s\n",
      "[CV 3/3] END max_depth=3, max_features=sqrt, max_leaf_nodes=70, min_samples_leaf=3, splitter=best;, score=-0.061 total time=   0.0s\n",
      "[CV 1/3] END max_depth=3, max_features=sqrt, max_leaf_nodes=70, min_samples_leaf=3, splitter=random;, score=-0.076 total time=   0.0s\n",
      "[CV 2/3] END max_depth=3, max_features=sqrt, max_leaf_nodes=70, min_samples_leaf=3, splitter=random;, score=-0.086 total time=   0.0s\n",
      "[CV 3/3] END max_depth=3, max_features=sqrt, max_leaf_nodes=70, min_samples_leaf=3, splitter=random;, score=-0.091 total time=   0.0s\n",
      "[CV 1/3] END max_depth=3, max_features=sqrt, max_leaf_nodes=70, min_samples_leaf=5, splitter=best;, score=-0.043 total time=   0.0s\n",
      "[CV 2/3] END max_depth=3, max_features=sqrt, max_leaf_nodes=70, min_samples_leaf=5, splitter=best;, score=-0.064 total time=   0.0s\n",
      "[CV 3/3] END max_depth=3, max_features=sqrt, max_leaf_nodes=70, min_samples_leaf=5, splitter=best;, score=-0.032 total time=   0.0s\n",
      "[CV 1/3] END max_depth=3, max_features=sqrt, max_leaf_nodes=70, min_samples_leaf=5, splitter=random;, score=-0.086 total time=   0.0s\n",
      "[CV 2/3] END max_depth=3, max_features=sqrt, max_leaf_nodes=70, min_samples_leaf=5, splitter=random;, score=-0.091 total time=   0.0s\n",
      "[CV 3/3] END max_depth=3, max_features=sqrt, max_leaf_nodes=70, min_samples_leaf=5, splitter=random;, score=-0.055 total time=   0.0s\n",
      "[CV 1/3] END max_depth=3, max_features=sqrt, max_leaf_nodes=70, min_samples_leaf=7, splitter=best;, score=-0.048 total time=   0.0s\n",
      "[CV 2/3] END max_depth=3, max_features=sqrt, max_leaf_nodes=70, min_samples_leaf=7, splitter=best;, score=-0.026 total time=   0.0s\n",
      "[CV 3/3] END max_depth=3, max_features=sqrt, max_leaf_nodes=70, min_samples_leaf=7, splitter=best;, score=-0.091 total time=   0.0s\n",
      "[CV 1/3] END max_depth=3, max_features=sqrt, max_leaf_nodes=70, min_samples_leaf=7, splitter=random;, score=-0.090 total time=   0.0s\n",
      "[CV 2/3] END max_depth=3, max_features=sqrt, max_leaf_nodes=70, min_samples_leaf=7, splitter=random;, score=-0.091 total time=   0.0s\n",
      "[CV 3/3] END max_depth=3, max_features=sqrt, max_leaf_nodes=70, min_samples_leaf=7, splitter=random;, score=-0.091 total time=   0.0s\n",
      "[CV 1/3] END max_depth=3, max_features=sqrt, max_leaf_nodes=70, min_samples_leaf=9, splitter=best;, score=-0.062 total time=   0.0s\n",
      "[CV 2/3] END max_depth=3, max_features=sqrt, max_leaf_nodes=70, min_samples_leaf=9, splitter=best;, score=-0.035 total time=   0.0s\n",
      "[CV 3/3] END max_depth=3, max_features=sqrt, max_leaf_nodes=70, min_samples_leaf=9, splitter=best;, score=-0.072 total time=   0.0s\n",
      "[CV 1/3] END max_depth=3, max_features=sqrt, max_leaf_nodes=70, min_samples_leaf=9, splitter=random;, score=-0.094 total time=   0.0s\n",
      "[CV 2/3] END max_depth=3, max_features=sqrt, max_leaf_nodes=70, min_samples_leaf=9, splitter=random;, score=-0.072 total time=   0.0s\n",
      "[CV 3/3] END max_depth=3, max_features=sqrt, max_leaf_nodes=70, min_samples_leaf=9, splitter=random;, score=-0.086 total time=   0.0s\n",
      "[CV 1/3] END max_depth=5, max_features=log2, max_leaf_nodes=10, min_samples_leaf=1, splitter=best;, score=-0.019 total time=   0.0s\n",
      "[CV 2/3] END max_depth=5, max_features=log2, max_leaf_nodes=10, min_samples_leaf=1, splitter=best;, score=-0.026 total time=   0.0s\n",
      "[CV 3/3] END max_depth=5, max_features=log2, max_leaf_nodes=10, min_samples_leaf=1, splitter=best;, score=-0.029 total time=   0.0s\n",
      "[CV 1/3] END max_depth=5, max_features=log2, max_leaf_nodes=10, min_samples_leaf=1, splitter=random;, score=-0.094 total time=   0.0s\n",
      "[CV 2/3] END max_depth=5, max_features=log2, max_leaf_nodes=10, min_samples_leaf=1, splitter=random;, score=-0.086 total time=   0.0s\n",
      "[CV 3/3] END max_depth=5, max_features=log2, max_leaf_nodes=10, min_samples_leaf=1, splitter=random;, score=-0.029 total time=   0.0s\n",
      "[CV 1/3] END max_depth=5, max_features=log2, max_leaf_nodes=10, min_samples_leaf=3, splitter=best;, score=-0.028 total time=   0.0s\n",
      "[CV 2/3] END max_depth=5, max_features=log2, max_leaf_nodes=10, min_samples_leaf=3, splitter=best;, score=-0.044 total time=   0.0s\n"
     ]
    },
    {
     "name": "stdout",
     "output_type": "stream",
     "text": [
      "[CV 3/3] END max_depth=5, max_features=log2, max_leaf_nodes=10, min_samples_leaf=3, splitter=best;, score=-0.021 total time=   0.0s\n",
      "[CV 1/3] END max_depth=5, max_features=log2, max_leaf_nodes=10, min_samples_leaf=3, splitter=random;, score=-0.027 total time=   0.0s\n",
      "[CV 2/3] END max_depth=5, max_features=log2, max_leaf_nodes=10, min_samples_leaf=3, splitter=random;, score=-0.086 total time=   0.0s\n",
      "[CV 3/3] END max_depth=5, max_features=log2, max_leaf_nodes=10, min_samples_leaf=3, splitter=random;, score=-0.047 total time=   0.0s\n",
      "[CV 1/3] END max_depth=5, max_features=log2, max_leaf_nodes=10, min_samples_leaf=5, splitter=best;, score=-0.032 total time=   0.0s\n",
      "[CV 2/3] END max_depth=5, max_features=log2, max_leaf_nodes=10, min_samples_leaf=5, splitter=best;, score=-0.056 total time=   0.0s\n",
      "[CV 3/3] END max_depth=5, max_features=log2, max_leaf_nodes=10, min_samples_leaf=5, splitter=best;, score=-0.049 total time=   0.0s\n",
      "[CV 1/3] END max_depth=5, max_features=log2, max_leaf_nodes=10, min_samples_leaf=5, splitter=random;, score=-0.086 total time=   0.0s\n",
      "[CV 2/3] END max_depth=5, max_features=log2, max_leaf_nodes=10, min_samples_leaf=5, splitter=random;, score=-0.033 total time=   0.0s\n",
      "[CV 3/3] END max_depth=5, max_features=log2, max_leaf_nodes=10, min_samples_leaf=5, splitter=random;, score=-0.090 total time=   0.0s\n",
      "[CV 1/3] END max_depth=5, max_features=log2, max_leaf_nodes=10, min_samples_leaf=7, splitter=best;, score=-0.033 total time=   0.0s\n",
      "[CV 2/3] END max_depth=5, max_features=log2, max_leaf_nodes=10, min_samples_leaf=7, splitter=best;, score=-0.019 total time=   0.0s\n",
      "[CV 3/3] END max_depth=5, max_features=log2, max_leaf_nodes=10, min_samples_leaf=7, splitter=best;, score=-0.021 total time=   0.0s\n",
      "[CV 1/3] END max_depth=5, max_features=log2, max_leaf_nodes=10, min_samples_leaf=7, splitter=random;, score=-0.086 total time=   0.0s\n",
      "[CV 2/3] END max_depth=5, max_features=log2, max_leaf_nodes=10, min_samples_leaf=7, splitter=random;, score=-0.031 total time=   0.0s\n",
      "[CV 3/3] END max_depth=5, max_features=log2, max_leaf_nodes=10, min_samples_leaf=7, splitter=random;, score=-0.062 total time=   0.0s\n",
      "[CV 1/3] END max_depth=5, max_features=log2, max_leaf_nodes=10, min_samples_leaf=9, splitter=best;, score=-0.039 total time=   0.0s\n",
      "[CV 2/3] END max_depth=5, max_features=log2, max_leaf_nodes=10, min_samples_leaf=9, splitter=best;, score=-0.033 total time=   0.0s\n",
      "[CV 3/3] END max_depth=5, max_features=log2, max_leaf_nodes=10, min_samples_leaf=9, splitter=best;, score=-0.049 total time=   0.0s\n",
      "[CV 1/3] END max_depth=5, max_features=log2, max_leaf_nodes=10, min_samples_leaf=9, splitter=random;, score=-0.083 total time=   0.0s\n",
      "[CV 2/3] END max_depth=5, max_features=log2, max_leaf_nodes=10, min_samples_leaf=9, splitter=random;, score=-0.030 total time=   0.0s\n",
      "[CV 3/3] END max_depth=5, max_features=log2, max_leaf_nodes=10, min_samples_leaf=9, splitter=random;, score=-0.049 total time=   0.0s\n",
      "[CV 1/3] END max_depth=5, max_features=log2, max_leaf_nodes=30, min_samples_leaf=1, splitter=best;, score=-0.061 total time=   0.0s\n",
      "[CV 2/3] END max_depth=5, max_features=log2, max_leaf_nodes=30, min_samples_leaf=1, splitter=best;, score=-0.024 total time=   0.0s\n",
      "[CV 3/3] END max_depth=5, max_features=log2, max_leaf_nodes=30, min_samples_leaf=1, splitter=best;, score=-0.048 total time=   0.0s\n",
      "[CV 1/3] END max_depth=5, max_features=log2, max_leaf_nodes=30, min_samples_leaf=1, splitter=random;, score=-0.082 total time=   0.0s\n",
      "[CV 2/3] END max_depth=5, max_features=log2, max_leaf_nodes=30, min_samples_leaf=1, splitter=random;, score=-0.077 total time=   0.0s\n",
      "[CV 3/3] END max_depth=5, max_features=log2, max_leaf_nodes=30, min_samples_leaf=1, splitter=random;, score=-0.084 total time=   0.0s\n",
      "[CV 1/3] END max_depth=5, max_features=log2, max_leaf_nodes=30, min_samples_leaf=3, splitter=best;, score=-0.047 total time=   0.0s\n",
      "[CV 2/3] END max_depth=5, max_features=log2, max_leaf_nodes=30, min_samples_leaf=3, splitter=best;, score=-0.050 total time=   0.0s\n",
      "[CV 3/3] END max_depth=5, max_features=log2, max_leaf_nodes=30, min_samples_leaf=3, splitter=best;, score=-0.040 total time=   0.0s\n",
      "[CV 1/3] END max_depth=5, max_features=log2, max_leaf_nodes=30, min_samples_leaf=3, splitter=random;, score=-0.083 total time=   0.0s\n",
      "[CV 2/3] END max_depth=5, max_features=log2, max_leaf_nodes=30, min_samples_leaf=3, splitter=random;, score=-0.030 total time=   0.0s\n",
      "[CV 3/3] END max_depth=5, max_features=log2, max_leaf_nodes=30, min_samples_leaf=3, splitter=random;, score=-0.082 total time=   0.0s\n",
      "[CV 1/3] END max_depth=5, max_features=log2, max_leaf_nodes=30, min_samples_leaf=5, splitter=best;, score=-0.028 total time=   0.0s\n",
      "[CV 2/3] END max_depth=5, max_features=log2, max_leaf_nodes=30, min_samples_leaf=5, splitter=best;, score=-0.042 total time=   0.0s\n",
      "[CV 3/3] END max_depth=5, max_features=log2, max_leaf_nodes=30, min_samples_leaf=5, splitter=best;, score=-0.053 total time=   0.0s\n",
      "[CV 1/3] END max_depth=5, max_features=log2, max_leaf_nodes=30, min_samples_leaf=5, splitter=random;, score=-0.082 total time=   0.0s\n",
      "[CV 2/3] END max_depth=5, max_features=log2, max_leaf_nodes=30, min_samples_leaf=5, splitter=random;, score=-0.031 total time=   0.0s\n",
      "[CV 3/3] END max_depth=5, max_features=log2, max_leaf_nodes=30, min_samples_leaf=5, splitter=random;, score=-0.048 total time=   0.0s\n",
      "[CV 1/3] END max_depth=5, max_features=log2, max_leaf_nodes=30, min_samples_leaf=7, splitter=best;, score=-0.069 total time=   0.0s\n",
      "[CV 2/3] END max_depth=5, max_features=log2, max_leaf_nodes=30, min_samples_leaf=7, splitter=best;, score=-0.049 total time=   0.0s\n",
      "[CV 3/3] END max_depth=5, max_features=log2, max_leaf_nodes=30, min_samples_leaf=7, splitter=best;, score=-0.062 total time=   0.0s\n",
      "[CV 1/3] END max_depth=5, max_features=log2, max_leaf_nodes=30, min_samples_leaf=7, splitter=random;, score=-0.091 total time=   0.0s\n",
      "[CV 2/3] END max_depth=5, max_features=log2, max_leaf_nodes=30, min_samples_leaf=7, splitter=random;, score=-0.063 total time=   0.0s\n",
      "[CV 3/3] END max_depth=5, max_features=log2, max_leaf_nodes=30, min_samples_leaf=7, splitter=random;, score=-0.058 total time=   0.0s\n",
      "[CV 1/3] END max_depth=5, max_features=log2, max_leaf_nodes=30, min_samples_leaf=9, splitter=best;, score=-0.010 total time=   0.0s\n",
      "[CV 2/3] END max_depth=5, max_features=log2, max_leaf_nodes=30, min_samples_leaf=9, splitter=best;, score=-0.024 total time=   0.0s\n",
      "[CV 3/3] END max_depth=5, max_features=log2, max_leaf_nodes=30, min_samples_leaf=9, splitter=best;, score=-0.067 total time=   0.0s\n",
      "[CV 1/3] END max_depth=5, max_features=log2, max_leaf_nodes=30, min_samples_leaf=9, splitter=random;, score=-0.085 total time=   0.0s\n",
      "[CV 2/3] END max_depth=5, max_features=log2, max_leaf_nodes=30, min_samples_leaf=9, splitter=random;, score=-0.027 total time=   0.0s\n",
      "[CV 3/3] END max_depth=5, max_features=log2, max_leaf_nodes=30, min_samples_leaf=9, splitter=random;, score=-0.090 total time=   0.0s\n",
      "[CV 1/3] END max_depth=5, max_features=log2, max_leaf_nodes=50, min_samples_leaf=1, splitter=best;, score=-0.026 total time=   0.0s\n",
      "[CV 2/3] END max_depth=5, max_features=log2, max_leaf_nodes=50, min_samples_leaf=1, splitter=best;, score=-0.044 total time=   0.0s\n",
      "[CV 3/3] END max_depth=5, max_features=log2, max_leaf_nodes=50, min_samples_leaf=1, splitter=best;, score=-0.026 total time=   0.0s\n",
      "[CV 1/3] END max_depth=5, max_features=log2, max_leaf_nodes=50, min_samples_leaf=1, splitter=random;, score=-0.094 total time=   0.0s\n",
      "[CV 2/3] END max_depth=5, max_features=log2, max_leaf_nodes=50, min_samples_leaf=1, splitter=random;, score=-0.072 total time=   0.0s\n",
      "[CV 3/3] END max_depth=5, max_features=log2, max_leaf_nodes=50, min_samples_leaf=1, splitter=random;, score=-0.057 total time=   0.0s\n",
      "[CV 1/3] END max_depth=5, max_features=log2, max_leaf_nodes=50, min_samples_leaf=3, splitter=best;, score=-0.044 total time=   0.0s\n",
      "[CV 2/3] END max_depth=5, max_features=log2, max_leaf_nodes=50, min_samples_leaf=3, splitter=best;, score=-0.025 total time=   0.0s\n",
      "[CV 3/3] END max_depth=5, max_features=log2, max_leaf_nodes=50, min_samples_leaf=3, splitter=best;, score=-0.062 total time=   0.0s\n",
      "[CV 1/3] END max_depth=5, max_features=log2, max_leaf_nodes=50, min_samples_leaf=3, splitter=random;, score=-0.082 total time=   0.0s\n",
      "[CV 2/3] END max_depth=5, max_features=log2, max_leaf_nodes=50, min_samples_leaf=3, splitter=random;, score=-0.054 total time=   0.0s\n"
     ]
    },
    {
     "name": "stdout",
     "output_type": "stream",
     "text": [
      "[CV 3/3] END max_depth=5, max_features=log2, max_leaf_nodes=50, min_samples_leaf=3, splitter=random;, score=-0.050 total time=   0.0s\n",
      "[CV 1/3] END max_depth=5, max_features=log2, max_leaf_nodes=50, min_samples_leaf=5, splitter=best;, score=-0.040 total time=   0.0s\n",
      "[CV 2/3] END max_depth=5, max_features=log2, max_leaf_nodes=50, min_samples_leaf=5, splitter=best;, score=-0.020 total time=   0.0s\n",
      "[CV 3/3] END max_depth=5, max_features=log2, max_leaf_nodes=50, min_samples_leaf=5, splitter=best;, score=-0.044 total time=   0.0s\n",
      "[CV 1/3] END max_depth=5, max_features=log2, max_leaf_nodes=50, min_samples_leaf=5, splitter=random;, score=-0.088 total time=   0.0s\n",
      "[CV 2/3] END max_depth=5, max_features=log2, max_leaf_nodes=50, min_samples_leaf=5, splitter=random;, score=-0.072 total time=   0.0s\n",
      "[CV 3/3] END max_depth=5, max_features=log2, max_leaf_nodes=50, min_samples_leaf=5, splitter=random;, score=-0.082 total time=   0.0s\n",
      "[CV 1/3] END max_depth=5, max_features=log2, max_leaf_nodes=50, min_samples_leaf=7, splitter=best;, score=-0.031 total time=   0.0s\n",
      "[CV 2/3] END max_depth=5, max_features=log2, max_leaf_nodes=50, min_samples_leaf=7, splitter=best;, score=-0.044 total time=   0.0s\n",
      "[CV 3/3] END max_depth=5, max_features=log2, max_leaf_nodes=50, min_samples_leaf=7, splitter=best;, score=-0.019 total time=   0.0s\n",
      "[CV 1/3] END max_depth=5, max_features=log2, max_leaf_nodes=50, min_samples_leaf=7, splitter=random;, score=-0.071 total time=   0.0s\n",
      "[CV 2/3] END max_depth=5, max_features=log2, max_leaf_nodes=50, min_samples_leaf=7, splitter=random;, score=-0.037 total time=   0.0s\n",
      "[CV 3/3] END max_depth=5, max_features=log2, max_leaf_nodes=50, min_samples_leaf=7, splitter=random;, score=-0.083 total time=   0.0s\n",
      "[CV 1/3] END max_depth=5, max_features=log2, max_leaf_nodes=50, min_samples_leaf=9, splitter=best;, score=-0.045 total time=   0.0s\n",
      "[CV 2/3] END max_depth=5, max_features=log2, max_leaf_nodes=50, min_samples_leaf=9, splitter=best;, score=-0.018 total time=   0.0s\n",
      "[CV 3/3] END max_depth=5, max_features=log2, max_leaf_nodes=50, min_samples_leaf=9, splitter=best;, score=-0.053 total time=   0.0s\n",
      "[CV 1/3] END max_depth=5, max_features=log2, max_leaf_nodes=50, min_samples_leaf=9, splitter=random;, score=-0.064 total time=   0.0s\n",
      "[CV 2/3] END max_depth=5, max_features=log2, max_leaf_nodes=50, min_samples_leaf=9, splitter=random;, score=-0.051 total time=   0.0s\n",
      "[CV 3/3] END max_depth=5, max_features=log2, max_leaf_nodes=50, min_samples_leaf=9, splitter=random;, score=-0.090 total time=   0.0s\n",
      "[CV 1/3] END max_depth=5, max_features=log2, max_leaf_nodes=70, min_samples_leaf=1, splitter=best;, score=-0.040 total time=   0.0s\n",
      "[CV 2/3] END max_depth=5, max_features=log2, max_leaf_nodes=70, min_samples_leaf=1, splitter=best;, score=-0.067 total time=   0.0s\n",
      "[CV 3/3] END max_depth=5, max_features=log2, max_leaf_nodes=70, min_samples_leaf=1, splitter=best;, score=-0.008 total time=   0.0s\n",
      "[CV 1/3] END max_depth=5, max_features=log2, max_leaf_nodes=70, min_samples_leaf=1, splitter=random;, score=-0.075 total time=   0.0s\n",
      "[CV 2/3] END max_depth=5, max_features=log2, max_leaf_nodes=70, min_samples_leaf=1, splitter=random;, score=-0.039 total time=   0.0s\n",
      "[CV 3/3] END max_depth=5, max_features=log2, max_leaf_nodes=70, min_samples_leaf=1, splitter=random;, score=-0.051 total time=   0.0s\n",
      "[CV 1/3] END max_depth=5, max_features=log2, max_leaf_nodes=70, min_samples_leaf=3, splitter=best;, score=-0.061 total time=   0.0s\n",
      "[CV 2/3] END max_depth=5, max_features=log2, max_leaf_nodes=70, min_samples_leaf=3, splitter=best;, score=-0.034 total time=   0.0s\n",
      "[CV 3/3] END max_depth=5, max_features=log2, max_leaf_nodes=70, min_samples_leaf=3, splitter=best;, score=-0.043 total time=   0.0s\n",
      "[CV 1/3] END max_depth=5, max_features=log2, max_leaf_nodes=70, min_samples_leaf=3, splitter=random;, score=-0.093 total time=   0.0s\n",
      "[CV 2/3] END max_depth=5, max_features=log2, max_leaf_nodes=70, min_samples_leaf=3, splitter=random;, score=-0.073 total time=   0.0s\n",
      "[CV 3/3] END max_depth=5, max_features=log2, max_leaf_nodes=70, min_samples_leaf=3, splitter=random;, score=-0.090 total time=   0.0s\n",
      "[CV 1/3] END max_depth=5, max_features=log2, max_leaf_nodes=70, min_samples_leaf=5, splitter=best;, score=-0.035 total time=   0.0s\n",
      "[CV 2/3] END max_depth=5, max_features=log2, max_leaf_nodes=70, min_samples_leaf=5, splitter=best;, score=-0.044 total time=   0.0s\n",
      "[CV 3/3] END max_depth=5, max_features=log2, max_leaf_nodes=70, min_samples_leaf=5, splitter=best;, score=-0.016 total time=   0.0s\n",
      "[CV 1/3] END max_depth=5, max_features=log2, max_leaf_nodes=70, min_samples_leaf=5, splitter=random;, score=-0.077 total time=   0.0s\n",
      "[CV 2/3] END max_depth=5, max_features=log2, max_leaf_nodes=70, min_samples_leaf=5, splitter=random;, score=-0.048 total time=   0.0s\n",
      "[CV 3/3] END max_depth=5, max_features=log2, max_leaf_nodes=70, min_samples_leaf=5, splitter=random;, score=-0.068 total time=   0.0s\n",
      "[CV 1/3] END max_depth=5, max_features=log2, max_leaf_nodes=70, min_samples_leaf=7, splitter=best;, score=-0.025 total time=   0.0s\n",
      "[CV 2/3] END max_depth=5, max_features=log2, max_leaf_nodes=70, min_samples_leaf=7, splitter=best;, score=-0.050 total time=   0.0s\n",
      "[CV 3/3] END max_depth=5, max_features=log2, max_leaf_nodes=70, min_samples_leaf=7, splitter=best;, score=-0.031 total time=   0.0s\n",
      "[CV 1/3] END max_depth=5, max_features=log2, max_leaf_nodes=70, min_samples_leaf=7, splitter=random;, score=-0.094 total time=   0.0s\n",
      "[CV 2/3] END max_depth=5, max_features=log2, max_leaf_nodes=70, min_samples_leaf=7, splitter=random;, score=-0.052 total time=   0.0s\n",
      "[CV 3/3] END max_depth=5, max_features=log2, max_leaf_nodes=70, min_samples_leaf=7, splitter=random;, score=-0.086 total time=   0.0s\n",
      "[CV 1/3] END max_depth=5, max_features=log2, max_leaf_nodes=70, min_samples_leaf=9, splitter=best;, score=-0.026 total time=   0.0s\n",
      "[CV 2/3] END max_depth=5, max_features=log2, max_leaf_nodes=70, min_samples_leaf=9, splitter=best;, score=-0.020 total time=   0.0s\n",
      "[CV 3/3] END max_depth=5, max_features=log2, max_leaf_nodes=70, min_samples_leaf=9, splitter=best;, score=-0.024 total time=   0.0s\n",
      "[CV 1/3] END max_depth=5, max_features=log2, max_leaf_nodes=70, min_samples_leaf=9, splitter=random;, score=-0.086 total time=   0.0s\n",
      "[CV 2/3] END max_depth=5, max_features=log2, max_leaf_nodes=70, min_samples_leaf=9, splitter=random;, score=-0.090 total time=   0.0s\n",
      "[CV 3/3] END max_depth=5, max_features=log2, max_leaf_nodes=70, min_samples_leaf=9, splitter=random;, score=-0.083 total time=   0.0s\n",
      "[CV 1/3] END max_depth=5, max_features=sqrt, max_leaf_nodes=10, min_samples_leaf=1, splitter=best;, score=-0.051 total time=   0.0s\n",
      "[CV 2/3] END max_depth=5, max_features=sqrt, max_leaf_nodes=10, min_samples_leaf=1, splitter=best;, score=-0.060 total time=   0.0s\n",
      "[CV 3/3] END max_depth=5, max_features=sqrt, max_leaf_nodes=10, min_samples_leaf=1, splitter=best;, score=-0.051 total time=   0.0s\n",
      "[CV 1/3] END max_depth=5, max_features=sqrt, max_leaf_nodes=10, min_samples_leaf=1, splitter=random;, score=-0.080 total time=   0.0s\n",
      "[CV 2/3] END max_depth=5, max_features=sqrt, max_leaf_nodes=10, min_samples_leaf=1, splitter=random;, score=-0.091 total time=   0.0s\n",
      "[CV 3/3] END max_depth=5, max_features=sqrt, max_leaf_nodes=10, min_samples_leaf=1, splitter=random;, score=-0.091 total time=   0.0s\n",
      "[CV 1/3] END max_depth=5, max_features=sqrt, max_leaf_nodes=10, min_samples_leaf=3, splitter=best;, score=-0.014 total time=   0.0s\n",
      "[CV 2/3] END max_depth=5, max_features=sqrt, max_leaf_nodes=10, min_samples_leaf=3, splitter=best;, score=-0.036 total time=   0.0s\n",
      "[CV 3/3] END max_depth=5, max_features=sqrt, max_leaf_nodes=10, min_samples_leaf=3, splitter=best;, score=-0.040 total time=   0.0s\n",
      "[CV 1/3] END max_depth=5, max_features=sqrt, max_leaf_nodes=10, min_samples_leaf=3, splitter=random;, score=-0.092 total time=   0.0s\n",
      "[CV 2/3] END max_depth=5, max_features=sqrt, max_leaf_nodes=10, min_samples_leaf=3, splitter=random;, score=-0.085 total time=   0.0s\n",
      "[CV 3/3] END max_depth=5, max_features=sqrt, max_leaf_nodes=10, min_samples_leaf=3, splitter=random;, score=-0.083 total time=   0.0s\n",
      "[CV 1/3] END max_depth=5, max_features=sqrt, max_leaf_nodes=10, min_samples_leaf=5, splitter=best;, score=-0.028 total time=   0.0s\n",
      "[CV 2/3] END max_depth=5, max_features=sqrt, max_leaf_nodes=10, min_samples_leaf=5, splitter=best;, score=-0.029 total time=   0.0s\n",
      "[CV 3/3] END max_depth=5, max_features=sqrt, max_leaf_nodes=10, min_samples_leaf=5, splitter=best;, score=-0.028 total time=   0.0s\n",
      "[CV 1/3] END max_depth=5, max_features=sqrt, max_leaf_nodes=10, min_samples_leaf=5, splitter=random;, score=-0.054 total time=   0.0s\n",
      "[CV 2/3] END max_depth=5, max_features=sqrt, max_leaf_nodes=10, min_samples_leaf=5, splitter=random;, score=-0.091 total time=   0.0s\n",
      "[CV 3/3] END max_depth=5, max_features=sqrt, max_leaf_nodes=10, min_samples_leaf=5, splitter=random;, score=-0.087 total time=   0.0s\n"
     ]
    },
    {
     "name": "stdout",
     "output_type": "stream",
     "text": [
      "[CV 1/3] END max_depth=5, max_features=sqrt, max_leaf_nodes=10, min_samples_leaf=7, splitter=best;, score=-0.050 total time=   0.0s\n",
      "[CV 2/3] END max_depth=5, max_features=sqrt, max_leaf_nodes=10, min_samples_leaf=7, splitter=best;, score=-0.019 total time=   0.0s\n",
      "[CV 3/3] END max_depth=5, max_features=sqrt, max_leaf_nodes=10, min_samples_leaf=7, splitter=best;, score=-0.057 total time=   0.0s\n",
      "[CV 1/3] END max_depth=5, max_features=sqrt, max_leaf_nodes=10, min_samples_leaf=7, splitter=random;, score=-0.091 total time=   0.0s\n",
      "[CV 2/3] END max_depth=5, max_features=sqrt, max_leaf_nodes=10, min_samples_leaf=7, splitter=random;, score=-0.068 total time=   0.0s\n",
      "[CV 3/3] END max_depth=5, max_features=sqrt, max_leaf_nodes=10, min_samples_leaf=7, splitter=random;, score=-0.091 total time=   0.0s\n",
      "[CV 1/3] END max_depth=5, max_features=sqrt, max_leaf_nodes=10, min_samples_leaf=9, splitter=best;, score=-0.041 total time=   0.0s\n",
      "[CV 2/3] END max_depth=5, max_features=sqrt, max_leaf_nodes=10, min_samples_leaf=9, splitter=best;, score=-0.018 total time=   0.0s\n",
      "[CV 3/3] END max_depth=5, max_features=sqrt, max_leaf_nodes=10, min_samples_leaf=9, splitter=best;, score=-0.068 total time=   0.0s\n",
      "[CV 1/3] END max_depth=5, max_features=sqrt, max_leaf_nodes=10, min_samples_leaf=9, splitter=random;, score=-0.094 total time=   0.0s\n",
      "[CV 2/3] END max_depth=5, max_features=sqrt, max_leaf_nodes=10, min_samples_leaf=9, splitter=random;, score=-0.079 total time=   0.0s\n",
      "[CV 3/3] END max_depth=5, max_features=sqrt, max_leaf_nodes=10, min_samples_leaf=9, splitter=random;, score=-0.065 total time=   0.0s\n",
      "[CV 1/3] END max_depth=5, max_features=sqrt, max_leaf_nodes=30, min_samples_leaf=1, splitter=best;, score=-0.043 total time=   0.0s\n",
      "[CV 2/3] END max_depth=5, max_features=sqrt, max_leaf_nodes=30, min_samples_leaf=1, splitter=best;, score=-0.043 total time=   0.0s\n",
      "[CV 3/3] END max_depth=5, max_features=sqrt, max_leaf_nodes=30, min_samples_leaf=1, splitter=best;, score=-0.062 total time=   0.0s\n",
      "[CV 1/3] END max_depth=5, max_features=sqrt, max_leaf_nodes=30, min_samples_leaf=1, splitter=random;, score=-0.086 total time=   0.0s\n",
      "[CV 2/3] END max_depth=5, max_features=sqrt, max_leaf_nodes=30, min_samples_leaf=1, splitter=random;, score=-0.031 total time=   0.0s\n",
      "[CV 3/3] END max_depth=5, max_features=sqrt, max_leaf_nodes=30, min_samples_leaf=1, splitter=random;, score=-0.085 total time=   0.0s\n",
      "[CV 1/3] END max_depth=5, max_features=sqrt, max_leaf_nodes=30, min_samples_leaf=3, splitter=best;, score=-0.010 total time=   0.0s\n",
      "[CV 2/3] END max_depth=5, max_features=sqrt, max_leaf_nodes=30, min_samples_leaf=3, splitter=best;, score=-0.058 total time=   0.0s\n",
      "[CV 3/3] END max_depth=5, max_features=sqrt, max_leaf_nodes=30, min_samples_leaf=3, splitter=best;, score=-0.047 total time=   0.0s\n",
      "[CV 1/3] END max_depth=5, max_features=sqrt, max_leaf_nodes=30, min_samples_leaf=3, splitter=random;, score=-0.089 total time=   0.0s\n",
      "[CV 2/3] END max_depth=5, max_features=sqrt, max_leaf_nodes=30, min_samples_leaf=3, splitter=random;, score=-0.080 total time=   0.0s\n",
      "[CV 3/3] END max_depth=5, max_features=sqrt, max_leaf_nodes=30, min_samples_leaf=3, splitter=random;, score=-0.087 total time=   0.0s\n",
      "[CV 1/3] END max_depth=5, max_features=sqrt, max_leaf_nodes=30, min_samples_leaf=5, splitter=best;, score=-0.026 total time=   0.0s\n",
      "[CV 2/3] END max_depth=5, max_features=sqrt, max_leaf_nodes=30, min_samples_leaf=5, splitter=best;, score=-0.027 total time=   0.0s\n",
      "[CV 3/3] END max_depth=5, max_features=sqrt, max_leaf_nodes=30, min_samples_leaf=5, splitter=best;, score=-0.025 total time=   0.0s\n",
      "[CV 1/3] END max_depth=5, max_features=sqrt, max_leaf_nodes=30, min_samples_leaf=5, splitter=random;, score=-0.086 total time=   0.0s\n",
      "[CV 2/3] END max_depth=5, max_features=sqrt, max_leaf_nodes=30, min_samples_leaf=5, splitter=random;, score=-0.072 total time=   0.0s\n",
      "[CV 3/3] END max_depth=5, max_features=sqrt, max_leaf_nodes=30, min_samples_leaf=5, splitter=random;, score=-0.071 total time=   0.0s\n",
      "[CV 1/3] END max_depth=5, max_features=sqrt, max_leaf_nodes=30, min_samples_leaf=7, splitter=best;, score=-0.045 total time=   0.0s\n",
      "[CV 2/3] END max_depth=5, max_features=sqrt, max_leaf_nodes=30, min_samples_leaf=7, splitter=best;, score=-0.025 total time=   0.0s\n",
      "[CV 3/3] END max_depth=5, max_features=sqrt, max_leaf_nodes=30, min_samples_leaf=7, splitter=best;, score=-0.028 total time=   0.0s\n",
      "[CV 1/3] END max_depth=5, max_features=sqrt, max_leaf_nodes=30, min_samples_leaf=7, splitter=random;, score=-0.090 total time=   0.0s\n",
      "[CV 2/3] END max_depth=5, max_features=sqrt, max_leaf_nodes=30, min_samples_leaf=7, splitter=random;, score=-0.073 total time=   0.0s\n",
      "[CV 3/3] END max_depth=5, max_features=sqrt, max_leaf_nodes=30, min_samples_leaf=7, splitter=random;, score=-0.072 total time=   0.0s\n",
      "[CV 1/3] END max_depth=5, max_features=sqrt, max_leaf_nodes=30, min_samples_leaf=9, splitter=best;, score=-0.036 total time=   0.0s\n",
      "[CV 2/3] END max_depth=5, max_features=sqrt, max_leaf_nodes=30, min_samples_leaf=9, splitter=best;, score=-0.032 total time=   0.0s\n",
      "[CV 3/3] END max_depth=5, max_features=sqrt, max_leaf_nodes=30, min_samples_leaf=9, splitter=best;, score=-0.013 total time=   0.0s\n",
      "[CV 1/3] END max_depth=5, max_features=sqrt, max_leaf_nodes=30, min_samples_leaf=9, splitter=random;, score=-0.054 total time=   0.0s\n",
      "[CV 2/3] END max_depth=5, max_features=sqrt, max_leaf_nodes=30, min_samples_leaf=9, splitter=random;, score=-0.064 total time=   0.0s\n",
      "[CV 3/3] END max_depth=5, max_features=sqrt, max_leaf_nodes=30, min_samples_leaf=9, splitter=random;, score=-0.083 total time=   0.0s\n",
      "[CV 1/3] END max_depth=5, max_features=sqrt, max_leaf_nodes=50, min_samples_leaf=1, splitter=best;, score=-0.033 total time=   0.0s\n",
      "[CV 2/3] END max_depth=5, max_features=sqrt, max_leaf_nodes=50, min_samples_leaf=1, splitter=best;, score=-0.049 total time=   0.0s\n",
      "[CV 3/3] END max_depth=5, max_features=sqrt, max_leaf_nodes=50, min_samples_leaf=1, splitter=best;, score=-0.017 total time=   0.0s\n",
      "[CV 1/3] END max_depth=5, max_features=sqrt, max_leaf_nodes=50, min_samples_leaf=1, splitter=random;, score=-0.080 total time=   0.0s\n",
      "[CV 2/3] END max_depth=5, max_features=sqrt, max_leaf_nodes=50, min_samples_leaf=1, splitter=random;, score=-0.069 total time=   0.0s\n",
      "[CV 3/3] END max_depth=5, max_features=sqrt, max_leaf_nodes=50, min_samples_leaf=1, splitter=random;, score=-0.028 total time=   0.0s\n",
      "[CV 1/3] END max_depth=5, max_features=sqrt, max_leaf_nodes=50, min_samples_leaf=3, splitter=best;, score=-0.040 total time=   0.0s\n",
      "[CV 2/3] END max_depth=5, max_features=sqrt, max_leaf_nodes=50, min_samples_leaf=3, splitter=best;, score=-0.037 total time=   0.0s\n",
      "[CV 3/3] END max_depth=5, max_features=sqrt, max_leaf_nodes=50, min_samples_leaf=3, splitter=best;, score=-0.025 total time=   0.0s\n",
      "[CV 1/3] END max_depth=5, max_features=sqrt, max_leaf_nodes=50, min_samples_leaf=3, splitter=random;, score=-0.092 total time=   0.0s\n",
      "[CV 2/3] END max_depth=5, max_features=sqrt, max_leaf_nodes=50, min_samples_leaf=3, splitter=random;, score=-0.088 total time=   0.0s\n",
      "[CV 3/3] END max_depth=5, max_features=sqrt, max_leaf_nodes=50, min_samples_leaf=3, splitter=random;, score=-0.084 total time=   0.0s\n",
      "[CV 1/3] END max_depth=5, max_features=sqrt, max_leaf_nodes=50, min_samples_leaf=5, splitter=best;, score=-0.025 total time=   0.0s\n",
      "[CV 2/3] END max_depth=5, max_features=sqrt, max_leaf_nodes=50, min_samples_leaf=5, splitter=best;, score=-0.046 total time=   0.0s\n",
      "[CV 3/3] END max_depth=5, max_features=sqrt, max_leaf_nodes=50, min_samples_leaf=5, splitter=best;, score=-0.044 total time=   0.0s\n",
      "[CV 1/3] END max_depth=5, max_features=sqrt, max_leaf_nodes=50, min_samples_leaf=5, splitter=random;, score=-0.061 total time=   0.0s\n",
      "[CV 2/3] END max_depth=5, max_features=sqrt, max_leaf_nodes=50, min_samples_leaf=5, splitter=random;, score=-0.068 total time=   0.0s\n",
      "[CV 3/3] END max_depth=5, max_features=sqrt, max_leaf_nodes=50, min_samples_leaf=5, splitter=random;, score=-0.079 total time=   0.0s\n",
      "[CV 1/3] END max_depth=5, max_features=sqrt, max_leaf_nodes=50, min_samples_leaf=7, splitter=best;, score=-0.024 total time=   0.0s\n",
      "[CV 2/3] END max_depth=5, max_features=sqrt, max_leaf_nodes=50, min_samples_leaf=7, splitter=best;, score=-0.038 total time=   0.0s\n",
      "[CV 3/3] END max_depth=5, max_features=sqrt, max_leaf_nodes=50, min_samples_leaf=7, splitter=best;, score=-0.029 total time=   0.0s\n",
      "[CV 1/3] END max_depth=5, max_features=sqrt, max_leaf_nodes=50, min_samples_leaf=7, splitter=random;, score=-0.069 total time=   0.0s\n",
      "[CV 2/3] END max_depth=5, max_features=sqrt, max_leaf_nodes=50, min_samples_leaf=7, splitter=random;, score=-0.072 total time=   0.0s\n",
      "[CV 3/3] END max_depth=5, max_features=sqrt, max_leaf_nodes=50, min_samples_leaf=7, splitter=random;, score=-0.065 total time=   0.0s\n",
      "[CV 1/3] END max_depth=5, max_features=sqrt, max_leaf_nodes=50, min_samples_leaf=9, splitter=best;, score=-0.045 total time=   0.0s\n"
     ]
    },
    {
     "name": "stdout",
     "output_type": "stream",
     "text": [
      "[CV 2/3] END max_depth=5, max_features=sqrt, max_leaf_nodes=50, min_samples_leaf=9, splitter=best;, score=-0.018 total time=   0.0s\n",
      "[CV 3/3] END max_depth=5, max_features=sqrt, max_leaf_nodes=50, min_samples_leaf=9, splitter=best;, score=-0.048 total time=   0.0s\n",
      "[CV 1/3] END max_depth=5, max_features=sqrt, max_leaf_nodes=50, min_samples_leaf=9, splitter=random;, score=-0.033 total time=   0.0s\n",
      "[CV 2/3] END max_depth=5, max_features=sqrt, max_leaf_nodes=50, min_samples_leaf=9, splitter=random;, score=-0.033 total time=   0.0s\n",
      "[CV 3/3] END max_depth=5, max_features=sqrt, max_leaf_nodes=50, min_samples_leaf=9, splitter=random;, score=-0.036 total time=   0.0s\n",
      "[CV 1/3] END max_depth=5, max_features=sqrt, max_leaf_nodes=70, min_samples_leaf=1, splitter=best;, score=-0.066 total time=   0.0s\n",
      "[CV 2/3] END max_depth=5, max_features=sqrt, max_leaf_nodes=70, min_samples_leaf=1, splitter=best;, score=-0.032 total time=   0.0s\n",
      "[CV 3/3] END max_depth=5, max_features=sqrt, max_leaf_nodes=70, min_samples_leaf=1, splitter=best;, score=-0.018 total time=   0.0s\n",
      "[CV 1/3] END max_depth=5, max_features=sqrt, max_leaf_nodes=70, min_samples_leaf=1, splitter=random;, score=-0.092 total time=   0.0s\n",
      "[CV 2/3] END max_depth=5, max_features=sqrt, max_leaf_nodes=70, min_samples_leaf=1, splitter=random;, score=-0.030 total time=   0.0s\n",
      "[CV 3/3] END max_depth=5, max_features=sqrt, max_leaf_nodes=70, min_samples_leaf=1, splitter=random;, score=-0.085 total time=   0.0s\n",
      "[CV 1/3] END max_depth=5, max_features=sqrt, max_leaf_nodes=70, min_samples_leaf=3, splitter=best;, score=-0.041 total time=   0.0s\n",
      "[CV 2/3] END max_depth=5, max_features=sqrt, max_leaf_nodes=70, min_samples_leaf=3, splitter=best;, score=-0.009 total time=   0.0s\n",
      "[CV 3/3] END max_depth=5, max_features=sqrt, max_leaf_nodes=70, min_samples_leaf=3, splitter=best;, score=-0.050 total time=   0.0s\n",
      "[CV 1/3] END max_depth=5, max_features=sqrt, max_leaf_nodes=70, min_samples_leaf=3, splitter=random;, score=-0.074 total time=   0.0s\n",
      "[CV 2/3] END max_depth=5, max_features=sqrt, max_leaf_nodes=70, min_samples_leaf=3, splitter=random;, score=-0.049 total time=   0.0s\n",
      "[CV 3/3] END max_depth=5, max_features=sqrt, max_leaf_nodes=70, min_samples_leaf=3, splitter=random;, score=-0.034 total time=   0.0s\n",
      "[CV 1/3] END max_depth=5, max_features=sqrt, max_leaf_nodes=70, min_samples_leaf=5, splitter=best;, score=-0.035 total time=   0.0s\n",
      "[CV 2/3] END max_depth=5, max_features=sqrt, max_leaf_nodes=70, min_samples_leaf=5, splitter=best;, score=-0.049 total time=   0.0s\n",
      "[CV 3/3] END max_depth=5, max_features=sqrt, max_leaf_nodes=70, min_samples_leaf=5, splitter=best;, score=-0.040 total time=   0.0s\n",
      "[CV 1/3] END max_depth=5, max_features=sqrt, max_leaf_nodes=70, min_samples_leaf=5, splitter=random;, score=-0.051 total time=   0.0s\n",
      "[CV 2/3] END max_depth=5, max_features=sqrt, max_leaf_nodes=70, min_samples_leaf=5, splitter=random;, score=-0.043 total time=   0.0s\n",
      "[CV 3/3] END max_depth=5, max_features=sqrt, max_leaf_nodes=70, min_samples_leaf=5, splitter=random;, score=-0.085 total time=   0.0s\n",
      "[CV 1/3] END max_depth=5, max_features=sqrt, max_leaf_nodes=70, min_samples_leaf=7, splitter=best;, score=-0.026 total time=   0.0s\n",
      "[CV 2/3] END max_depth=5, max_features=sqrt, max_leaf_nodes=70, min_samples_leaf=7, splitter=best;, score=-0.025 total time=   0.0s\n",
      "[CV 3/3] END max_depth=5, max_features=sqrt, max_leaf_nodes=70, min_samples_leaf=7, splitter=best;, score=-0.024 total time=   0.0s\n",
      "[CV 1/3] END max_depth=5, max_features=sqrt, max_leaf_nodes=70, min_samples_leaf=7, splitter=random;, score=-0.030 total time=   0.0s\n",
      "[CV 2/3] END max_depth=5, max_features=sqrt, max_leaf_nodes=70, min_samples_leaf=7, splitter=random;, score=-0.028 total time=   0.0s\n",
      "[CV 3/3] END max_depth=5, max_features=sqrt, max_leaf_nodes=70, min_samples_leaf=7, splitter=random;, score=-0.068 total time=   0.0s\n",
      "[CV 1/3] END max_depth=5, max_features=sqrt, max_leaf_nodes=70, min_samples_leaf=9, splitter=best;, score=-0.036 total time=   0.0s\n",
      "[CV 2/3] END max_depth=5, max_features=sqrt, max_leaf_nodes=70, min_samples_leaf=9, splitter=best;, score=-0.042 total time=   0.0s\n",
      "[CV 3/3] END max_depth=5, max_features=sqrt, max_leaf_nodes=70, min_samples_leaf=9, splitter=best;, score=-0.031 total time=   0.0s\n",
      "[CV 1/3] END max_depth=5, max_features=sqrt, max_leaf_nodes=70, min_samples_leaf=9, splitter=random;, score=-0.082 total time=   0.0s\n",
      "[CV 2/3] END max_depth=5, max_features=sqrt, max_leaf_nodes=70, min_samples_leaf=9, splitter=random;, score=-0.088 total time=   0.0s\n",
      "[CV 3/3] END max_depth=5, max_features=sqrt, max_leaf_nodes=70, min_samples_leaf=9, splitter=random;, score=-0.061 total time=   0.0s\n",
      "[CV 1/3] END max_depth=7, max_features=log2, max_leaf_nodes=10, min_samples_leaf=1, splitter=best;, score=-0.027 total time=   0.0s\n",
      "[CV 2/3] END max_depth=7, max_features=log2, max_leaf_nodes=10, min_samples_leaf=1, splitter=best;, score=-0.032 total time=   0.0s\n",
      "[CV 3/3] END max_depth=7, max_features=log2, max_leaf_nodes=10, min_samples_leaf=1, splitter=best;, score=-0.064 total time=   0.0s\n",
      "[CV 1/3] END max_depth=7, max_features=log2, max_leaf_nodes=10, min_samples_leaf=1, splitter=random;, score=-0.061 total time=   0.0s\n",
      "[CV 2/3] END max_depth=7, max_features=log2, max_leaf_nodes=10, min_samples_leaf=1, splitter=random;, score=-0.082 total time=   0.0s\n",
      "[CV 3/3] END max_depth=7, max_features=log2, max_leaf_nodes=10, min_samples_leaf=1, splitter=random;, score=-0.049 total time=   0.0s\n",
      "[CV 1/3] END max_depth=7, max_features=log2, max_leaf_nodes=10, min_samples_leaf=3, splitter=best;, score=-0.041 total time=   0.0s\n",
      "[CV 2/3] END max_depth=7, max_features=log2, max_leaf_nodes=10, min_samples_leaf=3, splitter=best;, score=-0.029 total time=   0.0s\n",
      "[CV 3/3] END max_depth=7, max_features=log2, max_leaf_nodes=10, min_samples_leaf=3, splitter=best;, score=-0.083 total time=   0.0s\n",
      "[CV 1/3] END max_depth=7, max_features=log2, max_leaf_nodes=10, min_samples_leaf=3, splitter=random;, score=-0.089 total time=   0.0s\n",
      "[CV 2/3] END max_depth=7, max_features=log2, max_leaf_nodes=10, min_samples_leaf=3, splitter=random;, score=-0.083 total time=   0.0s\n",
      "[CV 3/3] END max_depth=7, max_features=log2, max_leaf_nodes=10, min_samples_leaf=3, splitter=random;, score=-0.085 total time=   0.0s\n",
      "[CV 1/3] END max_depth=7, max_features=log2, max_leaf_nodes=10, min_samples_leaf=5, splitter=best;, score=-0.046 total time=   0.0s\n",
      "[CV 2/3] END max_depth=7, max_features=log2, max_leaf_nodes=10, min_samples_leaf=5, splitter=best;, score=-0.039 total time=   0.0s\n",
      "[CV 3/3] END max_depth=7, max_features=log2, max_leaf_nodes=10, min_samples_leaf=5, splitter=best;, score=-0.019 total time=   0.0s\n",
      "[CV 1/3] END max_depth=7, max_features=log2, max_leaf_nodes=10, min_samples_leaf=5, splitter=random;, score=-0.079 total time=   0.0s\n",
      "[CV 2/3] END max_depth=7, max_features=log2, max_leaf_nodes=10, min_samples_leaf=5, splitter=random;, score=-0.088 total time=   0.0s\n",
      "[CV 3/3] END max_depth=7, max_features=log2, max_leaf_nodes=10, min_samples_leaf=5, splitter=random;, score=-0.080 total time=   0.0s\n",
      "[CV 1/3] END max_depth=7, max_features=log2, max_leaf_nodes=10, min_samples_leaf=7, splitter=best;, score=-0.015 total time=   0.0s\n",
      "[CV 2/3] END max_depth=7, max_features=log2, max_leaf_nodes=10, min_samples_leaf=7, splitter=best;, score=-0.011 total time=   0.0s\n",
      "[CV 3/3] END max_depth=7, max_features=log2, max_leaf_nodes=10, min_samples_leaf=7, splitter=best;, score=-0.038 total time=   0.0s\n",
      "[CV 1/3] END max_depth=7, max_features=log2, max_leaf_nodes=10, min_samples_leaf=7, splitter=random;, score=-0.048 total time=   0.0s\n",
      "[CV 2/3] END max_depth=7, max_features=log2, max_leaf_nodes=10, min_samples_leaf=7, splitter=random;, score=-0.078 total time=   0.0s\n",
      "[CV 3/3] END max_depth=7, max_features=log2, max_leaf_nodes=10, min_samples_leaf=7, splitter=random;, score=-0.073 total time=   0.0s\n",
      "[CV 1/3] END max_depth=7, max_features=log2, max_leaf_nodes=10, min_samples_leaf=9, splitter=best;, score=-0.011 total time=   0.0s\n",
      "[CV 2/3] END max_depth=7, max_features=log2, max_leaf_nodes=10, min_samples_leaf=9, splitter=best;, score=-0.082 total time=   0.0s\n",
      "[CV 3/3] END max_depth=7, max_features=log2, max_leaf_nodes=10, min_samples_leaf=9, splitter=best;, score=-0.028 total time=   0.0s\n"
     ]
    },
    {
     "name": "stdout",
     "output_type": "stream",
     "text": [
      "[CV 1/3] END max_depth=7, max_features=log2, max_leaf_nodes=10, min_samples_leaf=9, splitter=random;, score=-0.070 total time=   0.0s\n",
      "[CV 2/3] END max_depth=7, max_features=log2, max_leaf_nodes=10, min_samples_leaf=9, splitter=random;, score=-0.091 total time=   0.0s\n",
      "[CV 3/3] END max_depth=7, max_features=log2, max_leaf_nodes=10, min_samples_leaf=9, splitter=random;, score=-0.087 total time=   0.0s\n",
      "[CV 1/3] END max_depth=7, max_features=log2, max_leaf_nodes=30, min_samples_leaf=1, splitter=best;, score=-0.011 total time=   0.0s\n",
      "[CV 2/3] END max_depth=7, max_features=log2, max_leaf_nodes=30, min_samples_leaf=1, splitter=best;, score=-0.013 total time=   0.0s\n",
      "[CV 3/3] END max_depth=7, max_features=log2, max_leaf_nodes=30, min_samples_leaf=1, splitter=best;, score=-0.011 total time=   0.0s\n",
      "[CV 1/3] END max_depth=7, max_features=log2, max_leaf_nodes=30, min_samples_leaf=1, splitter=random;, score=-0.048 total time=   0.0s\n",
      "[CV 2/3] END max_depth=7, max_features=log2, max_leaf_nodes=30, min_samples_leaf=1, splitter=random;, score=-0.072 total time=   0.0s\n",
      "[CV 3/3] END max_depth=7, max_features=log2, max_leaf_nodes=30, min_samples_leaf=1, splitter=random;, score=-0.087 total time=   0.0s\n",
      "[CV 1/3] END max_depth=7, max_features=log2, max_leaf_nodes=30, min_samples_leaf=3, splitter=best;, score=-0.033 total time=   0.0s\n",
      "[CV 2/3] END max_depth=7, max_features=log2, max_leaf_nodes=30, min_samples_leaf=3, splitter=best;, score=-0.047 total time=   0.0s\n",
      "[CV 3/3] END max_depth=7, max_features=log2, max_leaf_nodes=30, min_samples_leaf=3, splitter=best;, score=-0.060 total time=   0.0s\n",
      "[CV 1/3] END max_depth=7, max_features=log2, max_leaf_nodes=30, min_samples_leaf=3, splitter=random;, score=-0.032 total time=   0.0s\n",
      "[CV 2/3] END max_depth=7, max_features=log2, max_leaf_nodes=30, min_samples_leaf=3, splitter=random;, score=-0.081 total time=   0.0s\n",
      "[CV 3/3] END max_depth=7, max_features=log2, max_leaf_nodes=30, min_samples_leaf=3, splitter=random;, score=-0.082 total time=   0.0s\n",
      "[CV 1/3] END max_depth=7, max_features=log2, max_leaf_nodes=30, min_samples_leaf=5, splitter=best;, score=-0.024 total time=   0.0s\n",
      "[CV 2/3] END max_depth=7, max_features=log2, max_leaf_nodes=30, min_samples_leaf=5, splitter=best;, score=-0.022 total time=   0.0s\n",
      "[CV 3/3] END max_depth=7, max_features=log2, max_leaf_nodes=30, min_samples_leaf=5, splitter=best;, score=-0.064 total time=   0.0s\n",
      "[CV 1/3] END max_depth=7, max_features=log2, max_leaf_nodes=30, min_samples_leaf=5, splitter=random;, score=-0.070 total time=   0.0s\n",
      "[CV 2/3] END max_depth=7, max_features=log2, max_leaf_nodes=30, min_samples_leaf=5, splitter=random;, score=-0.031 total time=   0.0s\n",
      "[CV 3/3] END max_depth=7, max_features=log2, max_leaf_nodes=30, min_samples_leaf=5, splitter=random;, score=-0.076 total time=   0.0s\n",
      "[CV 1/3] END max_depth=7, max_features=log2, max_leaf_nodes=30, min_samples_leaf=7, splitter=best;, score=-0.037 total time=   0.0s\n",
      "[CV 2/3] END max_depth=7, max_features=log2, max_leaf_nodes=30, min_samples_leaf=7, splitter=best;, score=-0.004 total time=   0.0s\n",
      "[CV 3/3] END max_depth=7, max_features=log2, max_leaf_nodes=30, min_samples_leaf=7, splitter=best;, score=-0.029 total time=   0.0s\n",
      "[CV 1/3] END max_depth=7, max_features=log2, max_leaf_nodes=30, min_samples_leaf=7, splitter=random;, score=-0.031 total time=   0.0s\n",
      "[CV 2/3] END max_depth=7, max_features=log2, max_leaf_nodes=30, min_samples_leaf=7, splitter=random;, score=-0.079 total time=   0.0s\n",
      "[CV 3/3] END max_depth=7, max_features=log2, max_leaf_nodes=30, min_samples_leaf=7, splitter=random;, score=-0.027 total time=   0.0s\n",
      "[CV 1/3] END max_depth=7, max_features=log2, max_leaf_nodes=30, min_samples_leaf=9, splitter=best;, score=-0.032 total time=   0.0s\n",
      "[CV 2/3] END max_depth=7, max_features=log2, max_leaf_nodes=30, min_samples_leaf=9, splitter=best;, score=-0.030 total time=   0.0s\n",
      "[CV 3/3] END max_depth=7, max_features=log2, max_leaf_nodes=30, min_samples_leaf=9, splitter=best;, score=-0.010 total time=   0.0s\n",
      "[CV 1/3] END max_depth=7, max_features=log2, max_leaf_nodes=30, min_samples_leaf=9, splitter=random;, score=-0.091 total time=   0.0s\n",
      "[CV 2/3] END max_depth=7, max_features=log2, max_leaf_nodes=30, min_samples_leaf=9, splitter=random;, score=-0.071 total time=   0.0s\n",
      "[CV 3/3] END max_depth=7, max_features=log2, max_leaf_nodes=30, min_samples_leaf=9, splitter=random;, score=-0.034 total time=   0.0s\n",
      "[CV 1/3] END max_depth=7, max_features=log2, max_leaf_nodes=50, min_samples_leaf=1, splitter=best;, score=-0.024 total time=   0.0s\n",
      "[CV 2/3] END max_depth=7, max_features=log2, max_leaf_nodes=50, min_samples_leaf=1, splitter=best;, score=-0.020 total time=   0.0s\n",
      "[CV 3/3] END max_depth=7, max_features=log2, max_leaf_nodes=50, min_samples_leaf=1, splitter=best;, score=-0.018 total time=   0.0s\n",
      "[CV 1/3] END max_depth=7, max_features=log2, max_leaf_nodes=50, min_samples_leaf=1, splitter=random;, score=-0.061 total time=   0.0s\n",
      "[CV 2/3] END max_depth=7, max_features=log2, max_leaf_nodes=50, min_samples_leaf=1, splitter=random;, score=-0.024 total time=   0.0s\n",
      "[CV 3/3] END max_depth=7, max_features=log2, max_leaf_nodes=50, min_samples_leaf=1, splitter=random;, score=-0.066 total time=   0.0s\n",
      "[CV 1/3] END max_depth=7, max_features=log2, max_leaf_nodes=50, min_samples_leaf=3, splitter=best;, score=-0.032 total time=   0.0s\n",
      "[CV 2/3] END max_depth=7, max_features=log2, max_leaf_nodes=50, min_samples_leaf=3, splitter=best;, score=-0.029 total time=   0.0s\n",
      "[CV 3/3] END max_depth=7, max_features=log2, max_leaf_nodes=50, min_samples_leaf=3, splitter=best;, score=-0.006 total time=   0.0s\n",
      "[CV 1/3] END max_depth=7, max_features=log2, max_leaf_nodes=50, min_samples_leaf=3, splitter=random;, score=-0.026 total time=   0.0s\n",
      "[CV 2/3] END max_depth=7, max_features=log2, max_leaf_nodes=50, min_samples_leaf=3, splitter=random;, score=-0.081 total time=   0.0s\n",
      "[CV 3/3] END max_depth=7, max_features=log2, max_leaf_nodes=50, min_samples_leaf=3, splitter=random;, score=-0.056 total time=   0.0s\n",
      "[CV 1/3] END max_depth=7, max_features=log2, max_leaf_nodes=50, min_samples_leaf=5, splitter=best;, score=-0.031 total time=   0.0s\n",
      "[CV 2/3] END max_depth=7, max_features=log2, max_leaf_nodes=50, min_samples_leaf=5, splitter=best;, score=-0.041 total time=   0.0s\n",
      "[CV 3/3] END max_depth=7, max_features=log2, max_leaf_nodes=50, min_samples_leaf=5, splitter=best;, score=-0.008 total time=   0.0s\n",
      "[CV 1/3] END max_depth=7, max_features=log2, max_leaf_nodes=50, min_samples_leaf=5, splitter=random;, score=-0.057 total time=   0.0s\n",
      "[CV 2/3] END max_depth=7, max_features=log2, max_leaf_nodes=50, min_samples_leaf=5, splitter=random;, score=-0.074 total time=   0.0s\n",
      "[CV 3/3] END max_depth=7, max_features=log2, max_leaf_nodes=50, min_samples_leaf=5, splitter=random;, score=-0.074 total time=   0.0s\n",
      "[CV 1/3] END max_depth=7, max_features=log2, max_leaf_nodes=50, min_samples_leaf=7, splitter=best;, score=-0.014 total time=   0.0s\n",
      "[CV 2/3] END max_depth=7, max_features=log2, max_leaf_nodes=50, min_samples_leaf=7, splitter=best;, score=-0.025 total time=   0.0s\n",
      "[CV 3/3] END max_depth=7, max_features=log2, max_leaf_nodes=50, min_samples_leaf=7, splitter=best;, score=-0.017 total time=   0.0s\n",
      "[CV 1/3] END max_depth=7, max_features=log2, max_leaf_nodes=50, min_samples_leaf=7, splitter=random;, score=-0.027 total time=   0.0s\n",
      "[CV 2/3] END max_depth=7, max_features=log2, max_leaf_nodes=50, min_samples_leaf=7, splitter=random;, score=-0.070 total time=   0.0s\n",
      "[CV 3/3] END max_depth=7, max_features=log2, max_leaf_nodes=50, min_samples_leaf=7, splitter=random;, score=-0.066 total time=   0.0s\n",
      "[CV 1/3] END max_depth=7, max_features=log2, max_leaf_nodes=50, min_samples_leaf=9, splitter=best;, score=-0.020 total time=   0.0s\n",
      "[CV 2/3] END max_depth=7, max_features=log2, max_leaf_nodes=50, min_samples_leaf=9, splitter=best;, score=-0.009 total time=   0.0s\n",
      "[CV 3/3] END max_depth=7, max_features=log2, max_leaf_nodes=50, min_samples_leaf=9, splitter=best;, score=-0.002 total time=   0.0s\n",
      "[CV 1/3] END max_depth=7, max_features=log2, max_leaf_nodes=50, min_samples_leaf=9, splitter=random;, score=-0.084 total time=   0.0s\n",
      "[CV 2/3] END max_depth=7, max_features=log2, max_leaf_nodes=50, min_samples_leaf=9, splitter=random;, score=-0.082 total time=   0.0s\n",
      "[CV 3/3] END max_depth=7, max_features=log2, max_leaf_nodes=50, min_samples_leaf=9, splitter=random;, score=-0.029 total time=   0.0s\n",
      "[CV 1/3] END max_depth=7, max_features=log2, max_leaf_nodes=70, min_samples_leaf=1, splitter=best;, score=-0.023 total time=   0.0s\n",
      "[CV 2/3] END max_depth=7, max_features=log2, max_leaf_nodes=70, min_samples_leaf=1, splitter=best;, score=-0.020 total time=   0.0s\n",
      "[CV 3/3] END max_depth=7, max_features=log2, max_leaf_nodes=70, min_samples_leaf=1, splitter=best;, score=-0.025 total time=   0.0s\n",
      "[CV 1/3] END max_depth=7, max_features=log2, max_leaf_nodes=70, min_samples_leaf=1, splitter=random;, score=-0.061 total time=   0.0s\n",
      "[CV 2/3] END max_depth=7, max_features=log2, max_leaf_nodes=70, min_samples_leaf=1, splitter=random;, score=-0.014 total time=   0.0s\n",
      "[CV 3/3] END max_depth=7, max_features=log2, max_leaf_nodes=70, min_samples_leaf=1, splitter=random;, score=-0.073 total time=   0.0s\n",
      "[CV 1/3] END max_depth=7, max_features=log2, max_leaf_nodes=70, min_samples_leaf=3, splitter=best;, score=-0.047 total time=   0.0s\n"
     ]
    },
    {
     "name": "stdout",
     "output_type": "stream",
     "text": [
      "[CV 2/3] END max_depth=7, max_features=log2, max_leaf_nodes=70, min_samples_leaf=3, splitter=best;, score=-0.003 total time=   0.0s\n",
      "[CV 3/3] END max_depth=7, max_features=log2, max_leaf_nodes=70, min_samples_leaf=3, splitter=best;, score=-0.028 total time=   0.0s\n",
      "[CV 1/3] END max_depth=7, max_features=log2, max_leaf_nodes=70, min_samples_leaf=3, splitter=random;, score=-0.014 total time=   0.0s\n",
      "[CV 2/3] END max_depth=7, max_features=log2, max_leaf_nodes=70, min_samples_leaf=3, splitter=random;, score=-0.056 total time=   0.0s\n",
      "[CV 3/3] END max_depth=7, max_features=log2, max_leaf_nodes=70, min_samples_leaf=3, splitter=random;, score=-0.082 total time=   0.0s\n",
      "[CV 1/3] END max_depth=7, max_features=log2, max_leaf_nodes=70, min_samples_leaf=5, splitter=best;, score=-0.004 total time=   0.0s\n",
      "[CV 2/3] END max_depth=7, max_features=log2, max_leaf_nodes=70, min_samples_leaf=5, splitter=best;, score=-0.011 total time=   0.0s\n",
      "[CV 3/3] END max_depth=7, max_features=log2, max_leaf_nodes=70, min_samples_leaf=5, splitter=best;, score=-0.032 total time=   0.0s\n",
      "[CV 1/3] END max_depth=7, max_features=log2, max_leaf_nodes=70, min_samples_leaf=5, splitter=random;, score=-0.053 total time=   0.0s\n",
      "[CV 2/3] END max_depth=7, max_features=log2, max_leaf_nodes=70, min_samples_leaf=5, splitter=random;, score=-0.068 total time=   0.0s\n",
      "[CV 3/3] END max_depth=7, max_features=log2, max_leaf_nodes=70, min_samples_leaf=5, splitter=random;, score=-0.024 total time=   0.0s\n",
      "[CV 1/3] END max_depth=7, max_features=log2, max_leaf_nodes=70, min_samples_leaf=7, splitter=best;, score=-0.023 total time=   0.0s\n",
      "[CV 2/3] END max_depth=7, max_features=log2, max_leaf_nodes=70, min_samples_leaf=7, splitter=best;, score=-0.013 total time=   0.0s\n",
      "[CV 3/3] END max_depth=7, max_features=log2, max_leaf_nodes=70, min_samples_leaf=7, splitter=best;, score=-0.031 total time=   0.0s\n",
      "[CV 1/3] END max_depth=7, max_features=log2, max_leaf_nodes=70, min_samples_leaf=7, splitter=random;, score=-0.078 total time=   0.0s\n",
      "[CV 2/3] END max_depth=7, max_features=log2, max_leaf_nodes=70, min_samples_leaf=7, splitter=random;, score=-0.078 total time=   0.0s\n",
      "[CV 3/3] END max_depth=7, max_features=log2, max_leaf_nodes=70, min_samples_leaf=7, splitter=random;, score=-0.070 total time=   0.0s\n",
      "[CV 1/3] END max_depth=7, max_features=log2, max_leaf_nodes=70, min_samples_leaf=9, splitter=best;, score=-0.004 total time=   0.0s\n",
      "[CV 2/3] END max_depth=7, max_features=log2, max_leaf_nodes=70, min_samples_leaf=9, splitter=best;, score=-0.003 total time=   0.0s\n",
      "[CV 3/3] END max_depth=7, max_features=log2, max_leaf_nodes=70, min_samples_leaf=9, splitter=best;, score=-0.027 total time=   0.0s\n",
      "[CV 1/3] END max_depth=7, max_features=log2, max_leaf_nodes=70, min_samples_leaf=9, splitter=random;, score=-0.075 total time=   0.0s\n",
      "[CV 2/3] END max_depth=7, max_features=log2, max_leaf_nodes=70, min_samples_leaf=9, splitter=random;, score=-0.083 total time=   0.0s\n",
      "[CV 3/3] END max_depth=7, max_features=log2, max_leaf_nodes=70, min_samples_leaf=9, splitter=random;, score=-0.067 total time=   0.0s\n",
      "[CV 1/3] END max_depth=7, max_features=sqrt, max_leaf_nodes=10, min_samples_leaf=1, splitter=best;, score=-0.011 total time=   0.0s\n",
      "[CV 2/3] END max_depth=7, max_features=sqrt, max_leaf_nodes=10, min_samples_leaf=1, splitter=best;, score=-0.067 total time=   0.0s\n",
      "[CV 3/3] END max_depth=7, max_features=sqrt, max_leaf_nodes=10, min_samples_leaf=1, splitter=best;, score=-0.028 total time=   0.0s\n",
      "[CV 1/3] END max_depth=7, max_features=sqrt, max_leaf_nodes=10, min_samples_leaf=1, splitter=random;, score=-0.084 total time=   0.0s\n",
      "[CV 2/3] END max_depth=7, max_features=sqrt, max_leaf_nodes=10, min_samples_leaf=1, splitter=random;, score=-0.076 total time=   0.0s\n",
      "[CV 3/3] END max_depth=7, max_features=sqrt, max_leaf_nodes=10, min_samples_leaf=1, splitter=random;, score=-0.090 total time=   0.0s\n",
      "[CV 1/3] END max_depth=7, max_features=sqrt, max_leaf_nodes=10, min_samples_leaf=3, splitter=best;, score=-0.028 total time=   0.0s\n",
      "[CV 2/3] END max_depth=7, max_features=sqrt, max_leaf_nodes=10, min_samples_leaf=3, splitter=best;, score=-0.050 total time=   0.0s\n",
      "[CV 3/3] END max_depth=7, max_features=sqrt, max_leaf_nodes=10, min_samples_leaf=3, splitter=best;, score=-0.055 total time=   0.0s\n",
      "[CV 1/3] END max_depth=7, max_features=sqrt, max_leaf_nodes=10, min_samples_leaf=3, splitter=random;, score=-0.033 total time=   0.0s\n",
      "[CV 2/3] END max_depth=7, max_features=sqrt, max_leaf_nodes=10, min_samples_leaf=3, splitter=random;, score=-0.064 total time=   0.0s\n",
      "[CV 3/3] END max_depth=7, max_features=sqrt, max_leaf_nodes=10, min_samples_leaf=3, splitter=random;, score=-0.051 total time=   0.0s\n",
      "[CV 1/3] END max_depth=7, max_features=sqrt, max_leaf_nodes=10, min_samples_leaf=5, splitter=best;, score=-0.074 total time=   0.0s\n",
      "[CV 2/3] END max_depth=7, max_features=sqrt, max_leaf_nodes=10, min_samples_leaf=5, splitter=best;, score=-0.051 total time=   0.0s\n",
      "[CV 3/3] END max_depth=7, max_features=sqrt, max_leaf_nodes=10, min_samples_leaf=5, splitter=best;, score=-0.040 total time=   0.0s\n",
      "[CV 1/3] END max_depth=7, max_features=sqrt, max_leaf_nodes=10, min_samples_leaf=5, splitter=random;, score=-0.083 total time=   0.0s\n",
      "[CV 2/3] END max_depth=7, max_features=sqrt, max_leaf_nodes=10, min_samples_leaf=5, splitter=random;, score=-0.090 total time=   0.0s\n",
      "[CV 3/3] END max_depth=7, max_features=sqrt, max_leaf_nodes=10, min_samples_leaf=5, splitter=random;, score=-0.067 total time=   0.0s\n",
      "[CV 1/3] END max_depth=7, max_features=sqrt, max_leaf_nodes=10, min_samples_leaf=7, splitter=best;, score=-0.029 total time=   0.0s\n",
      "[CV 2/3] END max_depth=7, max_features=sqrt, max_leaf_nodes=10, min_samples_leaf=7, splitter=best;, score=-0.044 total time=   0.0s\n",
      "[CV 3/3] END max_depth=7, max_features=sqrt, max_leaf_nodes=10, min_samples_leaf=7, splitter=best;, score=-0.044 total time=   0.0s\n",
      "[CV 1/3] END max_depth=7, max_features=sqrt, max_leaf_nodes=10, min_samples_leaf=7, splitter=random;, score=-0.076 total time=   0.0s\n",
      "[CV 2/3] END max_depth=7, max_features=sqrt, max_leaf_nodes=10, min_samples_leaf=7, splitter=random;, score=-0.089 total time=   0.0s\n",
      "[CV 3/3] END max_depth=7, max_features=sqrt, max_leaf_nodes=10, min_samples_leaf=7, splitter=random;, score=-0.021 total time=   0.0s\n",
      "[CV 1/3] END max_depth=7, max_features=sqrt, max_leaf_nodes=10, min_samples_leaf=9, splitter=best;, score=-0.065 total time=   0.0s\n",
      "[CV 2/3] END max_depth=7, max_features=sqrt, max_leaf_nodes=10, min_samples_leaf=9, splitter=best;, score=-0.043 total time=   0.0s\n",
      "[CV 3/3] END max_depth=7, max_features=sqrt, max_leaf_nodes=10, min_samples_leaf=9, splitter=best;, score=-0.082 total time=   0.0s\n",
      "[CV 1/3] END max_depth=7, max_features=sqrt, max_leaf_nodes=10, min_samples_leaf=9, splitter=random;, score=-0.053 total time=   0.0s\n",
      "[CV 2/3] END max_depth=7, max_features=sqrt, max_leaf_nodes=10, min_samples_leaf=9, splitter=random;, score=-0.090 total time=   0.0s\n",
      "[CV 3/3] END max_depth=7, max_features=sqrt, max_leaf_nodes=10, min_samples_leaf=9, splitter=random;, score=-0.076 total time=   0.0s\n",
      "[CV 1/3] END max_depth=7, max_features=sqrt, max_leaf_nodes=30, min_samples_leaf=1, splitter=best;, score=-0.047 total time=   0.0s\n",
      "[CV 2/3] END max_depth=7, max_features=sqrt, max_leaf_nodes=30, min_samples_leaf=1, splitter=best;, score=-0.018 total time=   0.0s\n",
      "[CV 3/3] END max_depth=7, max_features=sqrt, max_leaf_nodes=30, min_samples_leaf=1, splitter=best;, score=-0.015 total time=   0.0s\n",
      "[CV 1/3] END max_depth=7, max_features=sqrt, max_leaf_nodes=30, min_samples_leaf=1, splitter=random;, score=-0.049 total time=   0.0s\n",
      "[CV 2/3] END max_depth=7, max_features=sqrt, max_leaf_nodes=30, min_samples_leaf=1, splitter=random;, score=-0.036 total time=   0.0s\n",
      "[CV 3/3] END max_depth=7, max_features=sqrt, max_leaf_nodes=30, min_samples_leaf=1, splitter=random;, score=-0.073 total time=   0.0s\n",
      "[CV 1/3] END max_depth=7, max_features=sqrt, max_leaf_nodes=30, min_samples_leaf=3, splitter=best;, score=-0.012 total time=   0.0s\n",
      "[CV 2/3] END max_depth=7, max_features=sqrt, max_leaf_nodes=30, min_samples_leaf=3, splitter=best;, score=-0.027 total time=   0.0s\n",
      "[CV 3/3] END max_depth=7, max_features=sqrt, max_leaf_nodes=30, min_samples_leaf=3, splitter=best;, score=-0.014 total time=   0.0s\n"
     ]
    },
    {
     "name": "stdout",
     "output_type": "stream",
     "text": [
      "[CV 1/3] END max_depth=7, max_features=sqrt, max_leaf_nodes=30, min_samples_leaf=3, splitter=random;, score=-0.089 total time=   0.0s\n",
      "[CV 2/3] END max_depth=7, max_features=sqrt, max_leaf_nodes=30, min_samples_leaf=3, splitter=random;, score=-0.074 total time=   0.0s\n",
      "[CV 3/3] END max_depth=7, max_features=sqrt, max_leaf_nodes=30, min_samples_leaf=3, splitter=random;, score=-0.077 total time=   0.0s\n",
      "[CV 1/3] END max_depth=7, max_features=sqrt, max_leaf_nodes=30, min_samples_leaf=5, splitter=best;, score=-0.016 total time=   0.0s\n",
      "[CV 2/3] END max_depth=7, max_features=sqrt, max_leaf_nodes=30, min_samples_leaf=5, splitter=best;, score=-0.019 total time=   0.0s\n",
      "[CV 3/3] END max_depth=7, max_features=sqrt, max_leaf_nodes=30, min_samples_leaf=5, splitter=best;, score=-0.007 total time=   0.0s\n",
      "[CV 1/3] END max_depth=7, max_features=sqrt, max_leaf_nodes=30, min_samples_leaf=5, splitter=random;, score=-0.092 total time=   0.0s\n",
      "[CV 2/3] END max_depth=7, max_features=sqrt, max_leaf_nodes=30, min_samples_leaf=5, splitter=random;, score=-0.090 total time=   0.0s\n",
      "[CV 3/3] END max_depth=7, max_features=sqrt, max_leaf_nodes=30, min_samples_leaf=5, splitter=random;, score=-0.050 total time=   0.0s\n",
      "[CV 1/3] END max_depth=7, max_features=sqrt, max_leaf_nodes=30, min_samples_leaf=7, splitter=best;, score=-0.017 total time=   0.0s\n",
      "[CV 2/3] END max_depth=7, max_features=sqrt, max_leaf_nodes=30, min_samples_leaf=7, splitter=best;, score=-0.045 total time=   0.0s\n",
      "[CV 3/3] END max_depth=7, max_features=sqrt, max_leaf_nodes=30, min_samples_leaf=7, splitter=best;, score=-0.026 total time=   0.0s\n",
      "[CV 1/3] END max_depth=7, max_features=sqrt, max_leaf_nodes=30, min_samples_leaf=7, splitter=random;, score=-0.065 total time=   0.0s\n",
      "[CV 2/3] END max_depth=7, max_features=sqrt, max_leaf_nodes=30, min_samples_leaf=7, splitter=random;, score=-0.045 total time=   0.0s\n",
      "[CV 3/3] END max_depth=7, max_features=sqrt, max_leaf_nodes=30, min_samples_leaf=7, splitter=random;, score=-0.070 total time=   0.0s\n",
      "[CV 1/3] END max_depth=7, max_features=sqrt, max_leaf_nodes=30, min_samples_leaf=9, splitter=best;, score=-0.050 total time=   0.0s\n",
      "[CV 2/3] END max_depth=7, max_features=sqrt, max_leaf_nodes=30, min_samples_leaf=9, splitter=best;, score=-0.037 total time=   0.0s\n",
      "[CV 3/3] END max_depth=7, max_features=sqrt, max_leaf_nodes=30, min_samples_leaf=9, splitter=best;, score=-0.039 total time=   0.0s\n",
      "[CV 1/3] END max_depth=7, max_features=sqrt, max_leaf_nodes=30, min_samples_leaf=9, splitter=random;, score=-0.028 total time=   0.0s\n",
      "[CV 2/3] END max_depth=7, max_features=sqrt, max_leaf_nodes=30, min_samples_leaf=9, splitter=random;, score=-0.052 total time=   0.0s\n",
      "[CV 3/3] END max_depth=7, max_features=sqrt, max_leaf_nodes=30, min_samples_leaf=9, splitter=random;, score=-0.087 total time=   0.0s\n",
      "[CV 1/3] END max_depth=7, max_features=sqrt, max_leaf_nodes=50, min_samples_leaf=1, splitter=best;, score=-0.018 total time=   0.0s\n",
      "[CV 2/3] END max_depth=7, max_features=sqrt, max_leaf_nodes=50, min_samples_leaf=1, splitter=best;, score=-0.003 total time=   0.0s\n",
      "[CV 3/3] END max_depth=7, max_features=sqrt, max_leaf_nodes=50, min_samples_leaf=1, splitter=best;, score=-0.020 total time=   0.0s\n",
      "[CV 1/3] END max_depth=7, max_features=sqrt, max_leaf_nodes=50, min_samples_leaf=1, splitter=random;, score=-0.033 total time=   0.0s\n",
      "[CV 2/3] END max_depth=7, max_features=sqrt, max_leaf_nodes=50, min_samples_leaf=1, splitter=random;, score=-0.028 total time=   0.0s\n",
      "[CV 3/3] END max_depth=7, max_features=sqrt, max_leaf_nodes=50, min_samples_leaf=1, splitter=random;, score=-0.060 total time=   0.0s\n",
      "[CV 1/3] END max_depth=7, max_features=sqrt, max_leaf_nodes=50, min_samples_leaf=3, splitter=best;, score=-0.006 total time=   0.0s\n",
      "[CV 2/3] END max_depth=7, max_features=sqrt, max_leaf_nodes=50, min_samples_leaf=3, splitter=best;, score=-0.017 total time=   0.0s\n",
      "[CV 3/3] END max_depth=7, max_features=sqrt, max_leaf_nodes=50, min_samples_leaf=3, splitter=best;, score=-0.038 total time=   0.0s\n",
      "[CV 1/3] END max_depth=7, max_features=sqrt, max_leaf_nodes=50, min_samples_leaf=3, splitter=random;, score=-0.026 total time=   0.0s\n",
      "[CV 2/3] END max_depth=7, max_features=sqrt, max_leaf_nodes=50, min_samples_leaf=3, splitter=random;, score=-0.061 total time=   0.0s\n",
      "[CV 3/3] END max_depth=7, max_features=sqrt, max_leaf_nodes=50, min_samples_leaf=3, splitter=random;, score=-0.038 total time=   0.0s\n",
      "[CV 1/3] END max_depth=7, max_features=sqrt, max_leaf_nodes=50, min_samples_leaf=5, splitter=best;, score=-0.023 total time=   0.0s\n",
      "[CV 2/3] END max_depth=7, max_features=sqrt, max_leaf_nodes=50, min_samples_leaf=5, splitter=best;, score=-0.019 total time=   0.0s\n",
      "[CV 3/3] END max_depth=7, max_features=sqrt, max_leaf_nodes=50, min_samples_leaf=5, splitter=best;, score=-0.039 total time=   0.0s\n",
      "[CV 1/3] END max_depth=7, max_features=sqrt, max_leaf_nodes=50, min_samples_leaf=5, splitter=random;, score=-0.082 total time=   0.0s\n",
      "[CV 2/3] END max_depth=7, max_features=sqrt, max_leaf_nodes=50, min_samples_leaf=5, splitter=random;, score=-0.064 total time=   0.0s\n",
      "[CV 3/3] END max_depth=7, max_features=sqrt, max_leaf_nodes=50, min_samples_leaf=5, splitter=random;, score=-0.027 total time=   0.0s\n",
      "[CV 1/3] END max_depth=7, max_features=sqrt, max_leaf_nodes=50, min_samples_leaf=7, splitter=best;, score=-0.024 total time=   0.0s\n",
      "[CV 2/3] END max_depth=7, max_features=sqrt, max_leaf_nodes=50, min_samples_leaf=7, splitter=best;, score=-0.030 total time=   0.0s\n",
      "[CV 3/3] END max_depth=7, max_features=sqrt, max_leaf_nodes=50, min_samples_leaf=7, splitter=best;, score=-0.022 total time=   0.0s\n",
      "[CV 1/3] END max_depth=7, max_features=sqrt, max_leaf_nodes=50, min_samples_leaf=7, splitter=random;, score=-0.023 total time=   0.0s\n",
      "[CV 2/3] END max_depth=7, max_features=sqrt, max_leaf_nodes=50, min_samples_leaf=7, splitter=random;, score=-0.067 total time=   0.0s\n",
      "[CV 3/3] END max_depth=7, max_features=sqrt, max_leaf_nodes=50, min_samples_leaf=7, splitter=random;, score=-0.028 total time=   0.0s\n",
      "[CV 1/3] END max_depth=7, max_features=sqrt, max_leaf_nodes=50, min_samples_leaf=9, splitter=best;, score=-0.027 total time=   0.0s\n",
      "[CV 2/3] END max_depth=7, max_features=sqrt, max_leaf_nodes=50, min_samples_leaf=9, splitter=best;, score=-0.055 total time=   0.0s\n",
      "[CV 3/3] END max_depth=7, max_features=sqrt, max_leaf_nodes=50, min_samples_leaf=9, splitter=best;, score=-0.016 total time=   0.0s\n",
      "[CV 1/3] END max_depth=7, max_features=sqrt, max_leaf_nodes=50, min_samples_leaf=9, splitter=random;, score=-0.053 total time=   0.0s\n",
      "[CV 2/3] END max_depth=7, max_features=sqrt, max_leaf_nodes=50, min_samples_leaf=9, splitter=random;, score=-0.032 total time=   0.0s\n",
      "[CV 3/3] END max_depth=7, max_features=sqrt, max_leaf_nodes=50, min_samples_leaf=9, splitter=random;, score=-0.015 total time=   0.0s\n",
      "[CV 1/3] END max_depth=7, max_features=sqrt, max_leaf_nodes=70, min_samples_leaf=1, splitter=best;, score=-0.025 total time=   0.0s\n",
      "[CV 2/3] END max_depth=7, max_features=sqrt, max_leaf_nodes=70, min_samples_leaf=1, splitter=best;, score=-0.020 total time=   0.0s\n",
      "[CV 3/3] END max_depth=7, max_features=sqrt, max_leaf_nodes=70, min_samples_leaf=1, splitter=best;, score=-0.035 total time=   0.0s\n",
      "[CV 1/3] END max_depth=7, max_features=sqrt, max_leaf_nodes=70, min_samples_leaf=1, splitter=random;, score=-0.090 total time=   0.0s\n",
      "[CV 2/3] END max_depth=7, max_features=sqrt, max_leaf_nodes=70, min_samples_leaf=1, splitter=random;, score=-0.050 total time=   0.0s\n",
      "[CV 3/3] END max_depth=7, max_features=sqrt, max_leaf_nodes=70, min_samples_leaf=1, splitter=random;, score=-0.062 total time=   0.0s\n",
      "[CV 1/3] END max_depth=7, max_features=sqrt, max_leaf_nodes=70, min_samples_leaf=3, splitter=best;, score=-0.022 total time=   0.0s\n",
      "[CV 2/3] END max_depth=7, max_features=sqrt, max_leaf_nodes=70, min_samples_leaf=3, splitter=best;, score=-0.006 total time=   0.0s\n",
      "[CV 3/3] END max_depth=7, max_features=sqrt, max_leaf_nodes=70, min_samples_leaf=3, splitter=best;, score=-0.034 total time=   0.0s\n",
      "[CV 1/3] END max_depth=7, max_features=sqrt, max_leaf_nodes=70, min_samples_leaf=3, splitter=random;, score=-0.047 total time=   0.0s\n",
      "[CV 2/3] END max_depth=7, max_features=sqrt, max_leaf_nodes=70, min_samples_leaf=3, splitter=random;, score=-0.057 total time=   0.0s\n",
      "[CV 3/3] END max_depth=7, max_features=sqrt, max_leaf_nodes=70, min_samples_leaf=3, splitter=random;, score=-0.074 total time=   0.0s\n",
      "[CV 1/3] END max_depth=7, max_features=sqrt, max_leaf_nodes=70, min_samples_leaf=5, splitter=best;, score=-0.040 total time=   0.0s\n",
      "[CV 2/3] END max_depth=7, max_features=sqrt, max_leaf_nodes=70, min_samples_leaf=5, splitter=best;, score=-0.018 total time=   0.0s\n"
     ]
    },
    {
     "name": "stdout",
     "output_type": "stream",
     "text": [
      "[CV 3/3] END max_depth=7, max_features=sqrt, max_leaf_nodes=70, min_samples_leaf=5, splitter=best;, score=-0.014 total time=   0.0s\n",
      "[CV 1/3] END max_depth=7, max_features=sqrt, max_leaf_nodes=70, min_samples_leaf=5, splitter=random;, score=-0.062 total time=   0.0s\n",
      "[CV 2/3] END max_depth=7, max_features=sqrt, max_leaf_nodes=70, min_samples_leaf=5, splitter=random;, score=-0.075 total time=   0.0s\n",
      "[CV 3/3] END max_depth=7, max_features=sqrt, max_leaf_nodes=70, min_samples_leaf=5, splitter=random;, score=-0.025 total time=   0.0s\n",
      "[CV 1/3] END max_depth=7, max_features=sqrt, max_leaf_nodes=70, min_samples_leaf=7, splitter=best;, score=-0.011 total time=   0.0s\n",
      "[CV 2/3] END max_depth=7, max_features=sqrt, max_leaf_nodes=70, min_samples_leaf=7, splitter=best;, score=-0.007 total time=   0.0s\n",
      "[CV 3/3] END max_depth=7, max_features=sqrt, max_leaf_nodes=70, min_samples_leaf=7, splitter=best;, score=-0.036 total time=   0.0s\n",
      "[CV 1/3] END max_depth=7, max_features=sqrt, max_leaf_nodes=70, min_samples_leaf=7, splitter=random;, score=-0.069 total time=   0.0s\n",
      "[CV 2/3] END max_depth=7, max_features=sqrt, max_leaf_nodes=70, min_samples_leaf=7, splitter=random;, score=-0.049 total time=   0.0s\n",
      "[CV 3/3] END max_depth=7, max_features=sqrt, max_leaf_nodes=70, min_samples_leaf=7, splitter=random;, score=-0.074 total time=   0.0s\n",
      "[CV 1/3] END max_depth=7, max_features=sqrt, max_leaf_nodes=70, min_samples_leaf=9, splitter=best;, score=-0.029 total time=   0.0s\n",
      "[CV 2/3] END max_depth=7, max_features=sqrt, max_leaf_nodes=70, min_samples_leaf=9, splitter=best;, score=-0.031 total time=   0.0s\n",
      "[CV 3/3] END max_depth=7, max_features=sqrt, max_leaf_nodes=70, min_samples_leaf=9, splitter=best;, score=-0.028 total time=   0.0s\n",
      "[CV 1/3] END max_depth=7, max_features=sqrt, max_leaf_nodes=70, min_samples_leaf=9, splitter=random;, score=-0.029 total time=   0.0s\n",
      "[CV 2/3] END max_depth=7, max_features=sqrt, max_leaf_nodes=70, min_samples_leaf=9, splitter=random;, score=-0.082 total time=   0.0s\n",
      "[CV 3/3] END max_depth=7, max_features=sqrt, max_leaf_nodes=70, min_samples_leaf=9, splitter=random;, score=-0.065 total time=   0.0s\n",
      "[CV 1/3] END max_depth=9, max_features=log2, max_leaf_nodes=10, min_samples_leaf=1, splitter=best;, score=-0.027 total time=   0.0s\n",
      "[CV 2/3] END max_depth=9, max_features=log2, max_leaf_nodes=10, min_samples_leaf=1, splitter=best;, score=-0.038 total time=   0.0s\n",
      "[CV 3/3] END max_depth=9, max_features=log2, max_leaf_nodes=10, min_samples_leaf=1, splitter=best;, score=-0.027 total time=   0.0s\n",
      "[CV 1/3] END max_depth=9, max_features=log2, max_leaf_nodes=10, min_samples_leaf=1, splitter=random;, score=-0.050 total time=   0.0s\n",
      "[CV 2/3] END max_depth=9, max_features=log2, max_leaf_nodes=10, min_samples_leaf=1, splitter=random;, score=-0.080 total time=   0.0s\n",
      "[CV 3/3] END max_depth=9, max_features=log2, max_leaf_nodes=10, min_samples_leaf=1, splitter=random;, score=-0.046 total time=   0.0s\n",
      "[CV 1/3] END max_depth=9, max_features=log2, max_leaf_nodes=10, min_samples_leaf=3, splitter=best;, score=-0.066 total time=   0.0s\n",
      "[CV 2/3] END max_depth=9, max_features=log2, max_leaf_nodes=10, min_samples_leaf=3, splitter=best;, score=-0.036 total time=   0.0s\n",
      "[CV 3/3] END max_depth=9, max_features=log2, max_leaf_nodes=10, min_samples_leaf=3, splitter=best;, score=-0.041 total time=   0.0s\n",
      "[CV 1/3] END max_depth=9, max_features=log2, max_leaf_nodes=10, min_samples_leaf=3, splitter=random;, score=-0.032 total time=   0.0s\n",
      "[CV 2/3] END max_depth=9, max_features=log2, max_leaf_nodes=10, min_samples_leaf=3, splitter=random;, score=-0.088 total time=   0.0s\n",
      "[CV 3/3] END max_depth=9, max_features=log2, max_leaf_nodes=10, min_samples_leaf=3, splitter=random;, score=-0.089 total time=   0.0s\n",
      "[CV 1/3] END max_depth=9, max_features=log2, max_leaf_nodes=10, min_samples_leaf=5, splitter=best;, score=-0.020 total time=   0.0s\n",
      "[CV 2/3] END max_depth=9, max_features=log2, max_leaf_nodes=10, min_samples_leaf=5, splitter=best;, score=-0.019 total time=   0.0s\n",
      "[CV 3/3] END max_depth=9, max_features=log2, max_leaf_nodes=10, min_samples_leaf=5, splitter=best;, score=-0.021 total time=   0.0s\n",
      "[CV 1/3] END max_depth=9, max_features=log2, max_leaf_nodes=10, min_samples_leaf=5, splitter=random;, score=-0.087 total time=   0.0s\n",
      "[CV 2/3] END max_depth=9, max_features=log2, max_leaf_nodes=10, min_samples_leaf=5, splitter=random;, score=-0.090 total time=   0.0s\n",
      "[CV 3/3] END max_depth=9, max_features=log2, max_leaf_nodes=10, min_samples_leaf=5, splitter=random;, score=-0.066 total time=   0.0s\n",
      "[CV 1/3] END max_depth=9, max_features=log2, max_leaf_nodes=10, min_samples_leaf=7, splitter=best;, score=-0.007 total time=   0.0s\n",
      "[CV 2/3] END max_depth=9, max_features=log2, max_leaf_nodes=10, min_samples_leaf=7, splitter=best;, score=-0.060 total time=   0.0s\n",
      "[CV 3/3] END max_depth=9, max_features=log2, max_leaf_nodes=10, min_samples_leaf=7, splitter=best;, score=-0.069 total time=   0.0s\n",
      "[CV 1/3] END max_depth=9, max_features=log2, max_leaf_nodes=10, min_samples_leaf=7, splitter=random;, score=-0.088 total time=   0.0s\n",
      "[CV 2/3] END max_depth=9, max_features=log2, max_leaf_nodes=10, min_samples_leaf=7, splitter=random;, score=-0.075 total time=   0.0s\n",
      "[CV 3/3] END max_depth=9, max_features=log2, max_leaf_nodes=10, min_samples_leaf=7, splitter=random;, score=-0.044 total time=   0.0s\n",
      "[CV 1/3] END max_depth=9, max_features=log2, max_leaf_nodes=10, min_samples_leaf=9, splitter=best;, score=-0.030 total time=   0.0s\n",
      "[CV 2/3] END max_depth=9, max_features=log2, max_leaf_nodes=10, min_samples_leaf=9, splitter=best;, score=-0.029 total time=   0.0s\n",
      "[CV 3/3] END max_depth=9, max_features=log2, max_leaf_nodes=10, min_samples_leaf=9, splitter=best;, score=-0.018 total time=   0.0s\n",
      "[CV 1/3] END max_depth=9, max_features=log2, max_leaf_nodes=10, min_samples_leaf=9, splitter=random;, score=-0.054 total time=   0.0s\n",
      "[CV 2/3] END max_depth=9, max_features=log2, max_leaf_nodes=10, min_samples_leaf=9, splitter=random;, score=-0.049 total time=   0.0s\n",
      "[CV 3/3] END max_depth=9, max_features=log2, max_leaf_nodes=10, min_samples_leaf=9, splitter=random;, score=-0.028 total time=   0.0s\n",
      "[CV 1/3] END max_depth=9, max_features=log2, max_leaf_nodes=30, min_samples_leaf=1, splitter=best;, score=-0.004 total time=   0.0s\n",
      "[CV 2/3] END max_depth=9, max_features=log2, max_leaf_nodes=30, min_samples_leaf=1, splitter=best;, score=-0.011 total time=   0.0s\n",
      "[CV 3/3] END max_depth=9, max_features=log2, max_leaf_nodes=30, min_samples_leaf=1, splitter=best;, score=-0.035 total time=   0.0s\n",
      "[CV 1/3] END max_depth=9, max_features=log2, max_leaf_nodes=30, min_samples_leaf=1, splitter=random;, score=-0.021 total time=   0.0s\n",
      "[CV 2/3] END max_depth=9, max_features=log2, max_leaf_nodes=30, min_samples_leaf=1, splitter=random;, score=-0.050 total time=   0.0s\n",
      "[CV 3/3] END max_depth=9, max_features=log2, max_leaf_nodes=30, min_samples_leaf=1, splitter=random;, score=-0.055 total time=   0.0s\n",
      "[CV 1/3] END max_depth=9, max_features=log2, max_leaf_nodes=30, min_samples_leaf=3, splitter=best;, score=-0.045 total time=   0.0s\n",
      "[CV 2/3] END max_depth=9, max_features=log2, max_leaf_nodes=30, min_samples_leaf=3, splitter=best;, score=-0.021 total time=   0.0s\n",
      "[CV 3/3] END max_depth=9, max_features=log2, max_leaf_nodes=30, min_samples_leaf=3, splitter=best;, score=-0.072 total time=   0.0s\n",
      "[CV 1/3] END max_depth=9, max_features=log2, max_leaf_nodes=30, min_samples_leaf=3, splitter=random;, score=-0.029 total time=   0.0s\n",
      "[CV 2/3] END max_depth=9, max_features=log2, max_leaf_nodes=30, min_samples_leaf=3, splitter=random;, score=-0.066 total time=   0.0s\n",
      "[CV 3/3] END max_depth=9, max_features=log2, max_leaf_nodes=30, min_samples_leaf=3, splitter=random;, score=-0.072 total time=   0.0s\n",
      "[CV 1/3] END max_depth=9, max_features=log2, max_leaf_nodes=30, min_samples_leaf=5, splitter=best;, score=-0.022 total time=   0.0s\n",
      "[CV 2/3] END max_depth=9, max_features=log2, max_leaf_nodes=30, min_samples_leaf=5, splitter=best;, score=-0.018 total time=   0.0s\n",
      "[CV 3/3] END max_depth=9, max_features=log2, max_leaf_nodes=30, min_samples_leaf=5, splitter=best;, score=-0.007 total time=   0.0s\n",
      "[CV 1/3] END max_depth=9, max_features=log2, max_leaf_nodes=30, min_samples_leaf=5, splitter=random;, score=-0.084 total time=   0.0s\n",
      "[CV 2/3] END max_depth=9, max_features=log2, max_leaf_nodes=30, min_samples_leaf=5, splitter=random;, score=-0.050 total time=   0.0s\n",
      "[CV 3/3] END max_depth=9, max_features=log2, max_leaf_nodes=30, min_samples_leaf=5, splitter=random;, score=-0.025 total time=   0.0s\n",
      "[CV 1/3] END max_depth=9, max_features=log2, max_leaf_nodes=30, min_samples_leaf=7, splitter=best;, score=-0.013 total time=   0.0s\n",
      "[CV 2/3] END max_depth=9, max_features=log2, max_leaf_nodes=30, min_samples_leaf=7, splitter=best;, score=-0.017 total time=   0.0s\n",
      "[CV 3/3] END max_depth=9, max_features=log2, max_leaf_nodes=30, min_samples_leaf=7, splitter=best;, score=-0.033 total time=   0.0s\n",
      "[CV 1/3] END max_depth=9, max_features=log2, max_leaf_nodes=30, min_samples_leaf=7, splitter=random;, score=-0.079 total time=   0.0s\n",
      "[CV 2/3] END max_depth=9, max_features=log2, max_leaf_nodes=30, min_samples_leaf=7, splitter=random;, score=-0.020 total time=   0.0s\n",
      "[CV 3/3] END max_depth=9, max_features=log2, max_leaf_nodes=30, min_samples_leaf=7, splitter=random;, score=-0.078 total time=   0.0s\n",
      "[CV 1/3] END max_depth=9, max_features=log2, max_leaf_nodes=30, min_samples_leaf=9, splitter=best;, score=-0.055 total time=   0.0s\n",
      "[CV 2/3] END max_depth=9, max_features=log2, max_leaf_nodes=30, min_samples_leaf=9, splitter=best;, score=-0.035 total time=   0.0s\n",
      "[CV 3/3] END max_depth=9, max_features=log2, max_leaf_nodes=30, min_samples_leaf=9, splitter=best;, score=-0.014 total time=   0.0s\n",
      "[CV 1/3] END max_depth=9, max_features=log2, max_leaf_nodes=30, min_samples_leaf=9, splitter=random;, score=-0.031 total time=   0.0s\n",
      "[CV 2/3] END max_depth=9, max_features=log2, max_leaf_nodes=30, min_samples_leaf=9, splitter=random;, score=-0.047 total time=   0.0s\n",
      "[CV 3/3] END max_depth=9, max_features=log2, max_leaf_nodes=30, min_samples_leaf=9, splitter=random;, score=-0.071 total time=   0.0s\n",
      "[CV 1/3] END max_depth=9, max_features=log2, max_leaf_nodes=50, min_samples_leaf=1, splitter=best;, score=-0.022 total time=   0.0s\n"
     ]
    },
    {
     "name": "stdout",
     "output_type": "stream",
     "text": [
      "[CV 2/3] END max_depth=9, max_features=log2, max_leaf_nodes=50, min_samples_leaf=1, splitter=best;, score=-0.035 total time=   0.0s\n",
      "[CV 3/3] END max_depth=9, max_features=log2, max_leaf_nodes=50, min_samples_leaf=1, splitter=best;, score=-0.038 total time=   0.0s\n",
      "[CV 1/3] END max_depth=9, max_features=log2, max_leaf_nodes=50, min_samples_leaf=1, splitter=random;, score=-0.064 total time=   0.0s\n",
      "[CV 2/3] END max_depth=9, max_features=log2, max_leaf_nodes=50, min_samples_leaf=1, splitter=random;, score=-0.089 total time=   0.0s\n",
      "[CV 3/3] END max_depth=9, max_features=log2, max_leaf_nodes=50, min_samples_leaf=1, splitter=random;, score=-0.029 total time=   0.0s\n",
      "[CV 1/3] END max_depth=9, max_features=log2, max_leaf_nodes=50, min_samples_leaf=3, splitter=best;, score=-0.016 total time=   0.0s\n",
      "[CV 2/3] END max_depth=9, max_features=log2, max_leaf_nodes=50, min_samples_leaf=3, splitter=best;, score=-0.020 total time=   0.0s\n",
      "[CV 3/3] END max_depth=9, max_features=log2, max_leaf_nodes=50, min_samples_leaf=3, splitter=best;, score=-0.017 total time=   0.0s\n",
      "[CV 1/3] END max_depth=9, max_features=log2, max_leaf_nodes=50, min_samples_leaf=3, splitter=random;, score=-0.027 total time=   0.0s\n",
      "[CV 2/3] END max_depth=9, max_features=log2, max_leaf_nodes=50, min_samples_leaf=3, splitter=random;, score=-0.038 total time=   0.0s\n",
      "[CV 3/3] END max_depth=9, max_features=log2, max_leaf_nodes=50, min_samples_leaf=3, splitter=random;, score=-0.037 total time=   0.0s\n",
      "[CV 1/3] END max_depth=9, max_features=log2, max_leaf_nodes=50, min_samples_leaf=5, splitter=best;, score=-0.005 total time=   0.0s\n",
      "[CV 2/3] END max_depth=9, max_features=log2, max_leaf_nodes=50, min_samples_leaf=5, splitter=best;, score=-0.029 total time=   0.0s\n",
      "[CV 3/3] END max_depth=9, max_features=log2, max_leaf_nodes=50, min_samples_leaf=5, splitter=best;, score=-0.001 total time=   0.0s\n",
      "[CV 1/3] END max_depth=9, max_features=log2, max_leaf_nodes=50, min_samples_leaf=5, splitter=random;, score=-0.057 total time=   0.0s\n",
      "[CV 2/3] END max_depth=9, max_features=log2, max_leaf_nodes=50, min_samples_leaf=5, splitter=random;, score=-0.069 total time=   0.0s\n",
      "[CV 3/3] END max_depth=9, max_features=log2, max_leaf_nodes=50, min_samples_leaf=5, splitter=random;, score=-0.022 total time=   0.0s\n",
      "[CV 1/3] END max_depth=9, max_features=log2, max_leaf_nodes=50, min_samples_leaf=7, splitter=best;, score=-0.019 total time=   0.0s\n",
      "[CV 2/3] END max_depth=9, max_features=log2, max_leaf_nodes=50, min_samples_leaf=7, splitter=best;, score=-0.003 total time=   0.0s\n",
      "[CV 3/3] END max_depth=9, max_features=log2, max_leaf_nodes=50, min_samples_leaf=7, splitter=best;, score=-0.007 total time=   0.0s\n",
      "[CV 1/3] END max_depth=9, max_features=log2, max_leaf_nodes=50, min_samples_leaf=7, splitter=random;, score=-0.028 total time=   0.0s\n",
      "[CV 2/3] END max_depth=9, max_features=log2, max_leaf_nodes=50, min_samples_leaf=7, splitter=random;, score=-0.027 total time=   0.0s\n",
      "[CV 3/3] END max_depth=9, max_features=log2, max_leaf_nodes=50, min_samples_leaf=7, splitter=random;, score=-0.072 total time=   0.0s\n",
      "[CV 1/3] END max_depth=9, max_features=log2, max_leaf_nodes=50, min_samples_leaf=9, splitter=best;, score=-0.005 total time=   0.0s\n",
      "[CV 2/3] END max_depth=9, max_features=log2, max_leaf_nodes=50, min_samples_leaf=9, splitter=best;, score=-0.032 total time=   0.0s\n",
      "[CV 3/3] END max_depth=9, max_features=log2, max_leaf_nodes=50, min_samples_leaf=9, splitter=best;, score=-0.045 total time=   0.0s\n",
      "[CV 1/3] END max_depth=9, max_features=log2, max_leaf_nodes=50, min_samples_leaf=9, splitter=random;, score=-0.052 total time=   0.0s\n",
      "[CV 2/3] END max_depth=9, max_features=log2, max_leaf_nodes=50, min_samples_leaf=9, splitter=random;, score=-0.008 total time=   0.0s\n",
      "[CV 3/3] END max_depth=9, max_features=log2, max_leaf_nodes=50, min_samples_leaf=9, splitter=random;, score=-0.060 total time=   0.0s\n",
      "[CV 1/3] END max_depth=9, max_features=log2, max_leaf_nodes=70, min_samples_leaf=1, splitter=best;, score=-0.011 total time=   0.0s\n",
      "[CV 2/3] END max_depth=9, max_features=log2, max_leaf_nodes=70, min_samples_leaf=1, splitter=best;, score=-0.009 total time=   0.0s\n",
      "[CV 3/3] END max_depth=9, max_features=log2, max_leaf_nodes=70, min_samples_leaf=1, splitter=best;, score=-0.010 total time=   0.0s\n",
      "[CV 1/3] END max_depth=9, max_features=log2, max_leaf_nodes=70, min_samples_leaf=1, splitter=random;, score=-0.082 total time=   0.0s\n",
      "[CV 2/3] END max_depth=9, max_features=log2, max_leaf_nodes=70, min_samples_leaf=1, splitter=random;, score=-0.038 total time=   0.0s\n",
      "[CV 3/3] END max_depth=9, max_features=log2, max_leaf_nodes=70, min_samples_leaf=1, splitter=random;, score=-0.024 total time=   0.0s\n",
      "[CV 1/3] END max_depth=9, max_features=log2, max_leaf_nodes=70, min_samples_leaf=3, splitter=best;, score=-0.013 total time=   0.0s\n",
      "[CV 2/3] END max_depth=9, max_features=log2, max_leaf_nodes=70, min_samples_leaf=3, splitter=best;, score=-0.015 total time=   0.0s\n",
      "[CV 3/3] END max_depth=9, max_features=log2, max_leaf_nodes=70, min_samples_leaf=3, splitter=best;, score=-0.010 total time=   0.0s\n",
      "[CV 1/3] END max_depth=9, max_features=log2, max_leaf_nodes=70, min_samples_leaf=3, splitter=random;, score=-0.049 total time=   0.0s\n",
      "[CV 2/3] END max_depth=9, max_features=log2, max_leaf_nodes=70, min_samples_leaf=3, splitter=random;, score=-0.062 total time=   0.0s\n",
      "[CV 3/3] END max_depth=9, max_features=log2, max_leaf_nodes=70, min_samples_leaf=3, splitter=random;, score=-0.065 total time=   0.0s\n",
      "[CV 1/3] END max_depth=9, max_features=log2, max_leaf_nodes=70, min_samples_leaf=5, splitter=best;, score=-0.005 total time=   0.0s\n",
      "[CV 2/3] END max_depth=9, max_features=log2, max_leaf_nodes=70, min_samples_leaf=5, splitter=best;, score=-0.035 total time=   0.0s\n",
      "[CV 3/3] END max_depth=9, max_features=log2, max_leaf_nodes=70, min_samples_leaf=5, splitter=best;, score=-0.003 total time=   0.0s\n",
      "[CV 1/3] END max_depth=9, max_features=log2, max_leaf_nodes=70, min_samples_leaf=5, splitter=random;, score=-0.031 total time=   0.0s\n",
      "[CV 2/3] END max_depth=9, max_features=log2, max_leaf_nodes=70, min_samples_leaf=5, splitter=random;, score=-0.039 total time=   0.0s\n",
      "[CV 3/3] END max_depth=9, max_features=log2, max_leaf_nodes=70, min_samples_leaf=5, splitter=random;, score=-0.071 total time=   0.0s\n",
      "[CV 1/3] END max_depth=9, max_features=log2, max_leaf_nodes=70, min_samples_leaf=7, splitter=best;, score=-0.027 total time=   0.0s\n",
      "[CV 2/3] END max_depth=9, max_features=log2, max_leaf_nodes=70, min_samples_leaf=7, splitter=best;, score=-0.002 total time=   0.0s\n",
      "[CV 3/3] END max_depth=9, max_features=log2, max_leaf_nodes=70, min_samples_leaf=7, splitter=best;, score=-0.029 total time=   0.0s\n",
      "[CV 1/3] END max_depth=9, max_features=log2, max_leaf_nodes=70, min_samples_leaf=7, splitter=random;, score=-0.058 total time=   0.0s\n",
      "[CV 2/3] END max_depth=9, max_features=log2, max_leaf_nodes=70, min_samples_leaf=7, splitter=random;, score=-0.041 total time=   0.0s\n",
      "[CV 3/3] END max_depth=9, max_features=log2, max_leaf_nodes=70, min_samples_leaf=7, splitter=random;, score=-0.076 total time=   0.0s\n",
      "[CV 1/3] END max_depth=9, max_features=log2, max_leaf_nodes=70, min_samples_leaf=9, splitter=best;, score=-0.022 total time=   0.0s\n",
      "[CV 2/3] END max_depth=9, max_features=log2, max_leaf_nodes=70, min_samples_leaf=9, splitter=best;, score=-0.023 total time=   0.0s\n",
      "[CV 3/3] END max_depth=9, max_features=log2, max_leaf_nodes=70, min_samples_leaf=9, splitter=best;, score=-0.012 total time=   0.0s\n",
      "[CV 1/3] END max_depth=9, max_features=log2, max_leaf_nodes=70, min_samples_leaf=9, splitter=random;, score=-0.024 total time=   0.0s\n",
      "[CV 2/3] END max_depth=9, max_features=log2, max_leaf_nodes=70, min_samples_leaf=9, splitter=random;, score=-0.030 total time=   0.0s\n",
      "[CV 3/3] END max_depth=9, max_features=log2, max_leaf_nodes=70, min_samples_leaf=9, splitter=random;, score=-0.057 total time=   0.0s\n",
      "[CV 1/3] END max_depth=9, max_features=sqrt, max_leaf_nodes=10, min_samples_leaf=1, splitter=best;, score=-0.078 total time=   0.0s\n",
      "[CV 2/3] END max_depth=9, max_features=sqrt, max_leaf_nodes=10, min_samples_leaf=1, splitter=best;, score=-0.005 total time=   0.0s\n",
      "[CV 3/3] END max_depth=9, max_features=sqrt, max_leaf_nodes=10, min_samples_leaf=1, splitter=best;, score=-0.019 total time=   0.0s\n",
      "[CV 1/3] END max_depth=9, max_features=sqrt, max_leaf_nodes=10, min_samples_leaf=1, splitter=random;, score=-0.051 total time=   0.0s\n",
      "[CV 2/3] END max_depth=9, max_features=sqrt, max_leaf_nodes=10, min_samples_leaf=1, splitter=random;, score=-0.091 total time=   0.0s\n",
      "[CV 3/3] END max_depth=9, max_features=sqrt, max_leaf_nodes=10, min_samples_leaf=1, splitter=random;, score=-0.090 total time=   0.0s\n",
      "[CV 1/3] END max_depth=9, max_features=sqrt, max_leaf_nodes=10, min_samples_leaf=3, splitter=best;, score=-0.016 total time=   0.0s\n"
     ]
    },
    {
     "name": "stdout",
     "output_type": "stream",
     "text": [
      "[CV 2/3] END max_depth=9, max_features=sqrt, max_leaf_nodes=10, min_samples_leaf=3, splitter=best;, score=-0.050 total time=   0.0s\n",
      "[CV 3/3] END max_depth=9, max_features=sqrt, max_leaf_nodes=10, min_samples_leaf=3, splitter=best;, score=-0.050 total time=   0.0s\n",
      "[CV 1/3] END max_depth=9, max_features=sqrt, max_leaf_nodes=10, min_samples_leaf=3, splitter=random;, score=-0.034 total time=   0.0s\n",
      "[CV 2/3] END max_depth=9, max_features=sqrt, max_leaf_nodes=10, min_samples_leaf=3, splitter=random;, score=-0.088 total time=   0.0s\n",
      "[CV 3/3] END max_depth=9, max_features=sqrt, max_leaf_nodes=10, min_samples_leaf=3, splitter=random;, score=-0.073 total time=   0.0s\n",
      "[CV 1/3] END max_depth=9, max_features=sqrt, max_leaf_nodes=10, min_samples_leaf=5, splitter=best;, score=-0.039 total time=   0.0s\n",
      "[CV 2/3] END max_depth=9, max_features=sqrt, max_leaf_nodes=10, min_samples_leaf=5, splitter=best;, score=-0.058 total time=   0.0s\n",
      "[CV 3/3] END max_depth=9, max_features=sqrt, max_leaf_nodes=10, min_samples_leaf=5, splitter=best;, score=-0.007 total time=   0.0s\n",
      "[CV 1/3] END max_depth=9, max_features=sqrt, max_leaf_nodes=10, min_samples_leaf=5, splitter=random;, score=-0.061 total time=   0.0s\n",
      "[CV 2/3] END max_depth=9, max_features=sqrt, max_leaf_nodes=10, min_samples_leaf=5, splitter=random;, score=-0.057 total time=   0.0s\n",
      "[CV 3/3] END max_depth=9, max_features=sqrt, max_leaf_nodes=10, min_samples_leaf=5, splitter=random;, score=-0.035 total time=   0.0s\n",
      "[CV 1/3] END max_depth=9, max_features=sqrt, max_leaf_nodes=10, min_samples_leaf=7, splitter=best;, score=-0.012 total time=   0.0s\n",
      "[CV 2/3] END max_depth=9, max_features=sqrt, max_leaf_nodes=10, min_samples_leaf=7, splitter=best;, score=-0.041 total time=   0.0s\n",
      "[CV 3/3] END max_depth=9, max_features=sqrt, max_leaf_nodes=10, min_samples_leaf=7, splitter=best;, score=-0.049 total time=   0.0s\n",
      "[CV 1/3] END max_depth=9, max_features=sqrt, max_leaf_nodes=10, min_samples_leaf=7, splitter=random;, score=-0.044 total time=   0.0s\n",
      "[CV 2/3] END max_depth=9, max_features=sqrt, max_leaf_nodes=10, min_samples_leaf=7, splitter=random;, score=-0.076 total time=   0.0s\n",
      "[CV 3/3] END max_depth=9, max_features=sqrt, max_leaf_nodes=10, min_samples_leaf=7, splitter=random;, score=-0.089 total time=   0.0s\n",
      "[CV 1/3] END max_depth=9, max_features=sqrt, max_leaf_nodes=10, min_samples_leaf=9, splitter=best;, score=-0.027 total time=   0.0s\n",
      "[CV 2/3] END max_depth=9, max_features=sqrt, max_leaf_nodes=10, min_samples_leaf=9, splitter=best;, score=-0.018 total time=   0.0s\n",
      "[CV 3/3] END max_depth=9, max_features=sqrt, max_leaf_nodes=10, min_samples_leaf=9, splitter=best;, score=-0.038 total time=   0.0s\n",
      "[CV 1/3] END max_depth=9, max_features=sqrt, max_leaf_nodes=10, min_samples_leaf=9, splitter=random;, score=-0.050 total time=   0.0s\n",
      "[CV 2/3] END max_depth=9, max_features=sqrt, max_leaf_nodes=10, min_samples_leaf=9, splitter=random;, score=-0.080 total time=   0.0s\n",
      "[CV 3/3] END max_depth=9, max_features=sqrt, max_leaf_nodes=10, min_samples_leaf=9, splitter=random;, score=-0.089 total time=   0.0s\n",
      "[CV 1/3] END max_depth=9, max_features=sqrt, max_leaf_nodes=30, min_samples_leaf=1, splitter=best;, score=-0.026 total time=   0.0s\n",
      "[CV 2/3] END max_depth=9, max_features=sqrt, max_leaf_nodes=30, min_samples_leaf=1, splitter=best;, score=-0.011 total time=   0.0s\n",
      "[CV 3/3] END max_depth=9, max_features=sqrt, max_leaf_nodes=30, min_samples_leaf=1, splitter=best;, score=-0.015 total time=   0.0s\n",
      "[CV 1/3] END max_depth=9, max_features=sqrt, max_leaf_nodes=30, min_samples_leaf=1, splitter=random;, score=-0.085 total time=   0.0s\n",
      "[CV 2/3] END max_depth=9, max_features=sqrt, max_leaf_nodes=30, min_samples_leaf=1, splitter=random;, score=-0.026 total time=   0.0s\n",
      "[CV 3/3] END max_depth=9, max_features=sqrt, max_leaf_nodes=30, min_samples_leaf=1, splitter=random;, score=-0.027 total time=   0.0s\n",
      "[CV 1/3] END max_depth=9, max_features=sqrt, max_leaf_nodes=30, min_samples_leaf=3, splitter=best;, score=-0.031 total time=   0.0s\n",
      "[CV 2/3] END max_depth=9, max_features=sqrt, max_leaf_nodes=30, min_samples_leaf=3, splitter=best;, score=-0.003 total time=   0.0s\n",
      "[CV 3/3] END max_depth=9, max_features=sqrt, max_leaf_nodes=30, min_samples_leaf=3, splitter=best;, score=-0.008 total time=   0.0s\n",
      "[CV 1/3] END max_depth=9, max_features=sqrt, max_leaf_nodes=30, min_samples_leaf=3, splitter=random;, score=-0.070 total time=   0.0s\n",
      "[CV 2/3] END max_depth=9, max_features=sqrt, max_leaf_nodes=30, min_samples_leaf=3, splitter=random;, score=-0.084 total time=   0.0s\n",
      "[CV 3/3] END max_depth=9, max_features=sqrt, max_leaf_nodes=30, min_samples_leaf=3, splitter=random;, score=-0.058 total time=   0.0s\n",
      "[CV 1/3] END max_depth=9, max_features=sqrt, max_leaf_nodes=30, min_samples_leaf=5, splitter=best;, score=-0.023 total time=   0.0s\n",
      "[CV 2/3] END max_depth=9, max_features=sqrt, max_leaf_nodes=30, min_samples_leaf=5, splitter=best;, score=-0.023 total time=   0.0s\n",
      "[CV 3/3] END max_depth=9, max_features=sqrt, max_leaf_nodes=30, min_samples_leaf=5, splitter=best;, score=-0.019 total time=   0.0s\n",
      "[CV 1/3] END max_depth=9, max_features=sqrt, max_leaf_nodes=30, min_samples_leaf=5, splitter=random;, score=-0.064 total time=   0.0s\n",
      "[CV 2/3] END max_depth=9, max_features=sqrt, max_leaf_nodes=30, min_samples_leaf=5, splitter=random;, score=-0.079 total time=   0.0s\n",
      "[CV 3/3] END max_depth=9, max_features=sqrt, max_leaf_nodes=30, min_samples_leaf=5, splitter=random;, score=-0.052 total time=   0.0s\n",
      "[CV 1/3] END max_depth=9, max_features=sqrt, max_leaf_nodes=30, min_samples_leaf=7, splitter=best;, score=-0.022 total time=   0.0s\n",
      "[CV 2/3] END max_depth=9, max_features=sqrt, max_leaf_nodes=30, min_samples_leaf=7, splitter=best;, score=-0.030 total time=   0.0s\n",
      "[CV 3/3] END max_depth=9, max_features=sqrt, max_leaf_nodes=30, min_samples_leaf=7, splitter=best;, score=-0.049 total time=   0.0s\n",
      "[CV 1/3] END max_depth=9, max_features=sqrt, max_leaf_nodes=30, min_samples_leaf=7, splitter=random;, score=-0.035 total time=   0.0s\n",
      "[CV 2/3] END max_depth=9, max_features=sqrt, max_leaf_nodes=30, min_samples_leaf=7, splitter=random;, score=-0.015 total time=   0.0s\n",
      "[CV 3/3] END max_depth=9, max_features=sqrt, max_leaf_nodes=30, min_samples_leaf=7, splitter=random;, score=-0.078 total time=   0.0s\n",
      "[CV 1/3] END max_depth=9, max_features=sqrt, max_leaf_nodes=30, min_samples_leaf=9, splitter=best;, score=-0.007 total time=   0.0s\n",
      "[CV 2/3] END max_depth=9, max_features=sqrt, max_leaf_nodes=30, min_samples_leaf=9, splitter=best;, score=-0.019 total time=   0.0s\n",
      "[CV 3/3] END max_depth=9, max_features=sqrt, max_leaf_nodes=30, min_samples_leaf=9, splitter=best;, score=-0.012 total time=   0.0s\n",
      "[CV 1/3] END max_depth=9, max_features=sqrt, max_leaf_nodes=30, min_samples_leaf=9, splitter=random;, score=-0.044 total time=   0.0s\n",
      "[CV 2/3] END max_depth=9, max_features=sqrt, max_leaf_nodes=30, min_samples_leaf=9, splitter=random;, score=-0.075 total time=   0.0s\n",
      "[CV 3/3] END max_depth=9, max_features=sqrt, max_leaf_nodes=30, min_samples_leaf=9, splitter=random;, score=-0.069 total time=   0.0s\n",
      "[CV 1/3] END max_depth=9, max_features=sqrt, max_leaf_nodes=50, min_samples_leaf=1, splitter=best;, score=-0.017 total time=   0.0s\n",
      "[CV 2/3] END max_depth=9, max_features=sqrt, max_leaf_nodes=50, min_samples_leaf=1, splitter=best;, score=-0.010 total time=   0.0s\n",
      "[CV 3/3] END max_depth=9, max_features=sqrt, max_leaf_nodes=50, min_samples_leaf=1, splitter=best;, score=-0.026 total time=   0.0s\n",
      "[CV 1/3] END max_depth=9, max_features=sqrt, max_leaf_nodes=50, min_samples_leaf=1, splitter=random;, score=-0.059 total time=   0.0s\n",
      "[CV 2/3] END max_depth=9, max_features=sqrt, max_leaf_nodes=50, min_samples_leaf=1, splitter=random;, score=-0.076 total time=   0.0s\n",
      "[CV 3/3] END max_depth=9, max_features=sqrt, max_leaf_nodes=50, min_samples_leaf=1, splitter=random;, score=-0.063 total time=   0.0s\n",
      "[CV 1/3] END max_depth=9, max_features=sqrt, max_leaf_nodes=50, min_samples_leaf=3, splitter=best;, score=-0.020 total time=   0.0s\n",
      "[CV 2/3] END max_depth=9, max_features=sqrt, max_leaf_nodes=50, min_samples_leaf=3, splitter=best;, score=-0.009 total time=   0.0s\n",
      "[CV 3/3] END max_depth=9, max_features=sqrt, max_leaf_nodes=50, min_samples_leaf=3, splitter=best;, score=-0.005 total time=   0.0s\n",
      "[CV 1/3] END max_depth=9, max_features=sqrt, max_leaf_nodes=50, min_samples_leaf=3, splitter=random;, score=-0.017 total time=   0.0s\n",
      "[CV 2/3] END max_depth=9, max_features=sqrt, max_leaf_nodes=50, min_samples_leaf=3, splitter=random;, score=-0.030 total time=   0.0s\n",
      "[CV 3/3] END max_depth=9, max_features=sqrt, max_leaf_nodes=50, min_samples_leaf=3, splitter=random;, score=-0.052 total time=   0.0s\n",
      "[CV 1/3] END max_depth=9, max_features=sqrt, max_leaf_nodes=50, min_samples_leaf=5, splitter=best;, score=-0.024 total time=   0.0s\n",
      "[CV 2/3] END max_depth=9, max_features=sqrt, max_leaf_nodes=50, min_samples_leaf=5, splitter=best;, score=-0.004 total time=   0.0s\n"
     ]
    },
    {
     "name": "stdout",
     "output_type": "stream",
     "text": [
      "[CV 3/3] END max_depth=9, max_features=sqrt, max_leaf_nodes=50, min_samples_leaf=5, splitter=best;, score=-0.011 total time=   0.0s\n",
      "[CV 1/3] END max_depth=9, max_features=sqrt, max_leaf_nodes=50, min_samples_leaf=5, splitter=random;, score=-0.033 total time=   0.0s\n",
      "[CV 2/3] END max_depth=9, max_features=sqrt, max_leaf_nodes=50, min_samples_leaf=5, splitter=random;, score=-0.041 total time=   0.0s\n",
      "[CV 3/3] END max_depth=9, max_features=sqrt, max_leaf_nodes=50, min_samples_leaf=5, splitter=random;, score=-0.076 total time=   0.0s\n",
      "[CV 1/3] END max_depth=9, max_features=sqrt, max_leaf_nodes=50, min_samples_leaf=7, splitter=best;, score=-0.036 total time=   0.0s\n",
      "[CV 2/3] END max_depth=9, max_features=sqrt, max_leaf_nodes=50, min_samples_leaf=7, splitter=best;, score=-0.029 total time=   0.0s\n",
      "[CV 3/3] END max_depth=9, max_features=sqrt, max_leaf_nodes=50, min_samples_leaf=7, splitter=best;, score=-0.019 total time=   0.0s\n",
      "[CV 1/3] END max_depth=9, max_features=sqrt, max_leaf_nodes=50, min_samples_leaf=7, splitter=random;, score=-0.034 total time=   0.0s\n",
      "[CV 2/3] END max_depth=9, max_features=sqrt, max_leaf_nodes=50, min_samples_leaf=7, splitter=random;, score=-0.073 total time=   0.0s\n",
      "[CV 3/3] END max_depth=9, max_features=sqrt, max_leaf_nodes=50, min_samples_leaf=7, splitter=random;, score=-0.050 total time=   0.0s\n",
      "[CV 1/3] END max_depth=9, max_features=sqrt, max_leaf_nodes=50, min_samples_leaf=9, splitter=best;, score=-0.015 total time=   0.0s\n",
      "[CV 2/3] END max_depth=9, max_features=sqrt, max_leaf_nodes=50, min_samples_leaf=9, splitter=best;, score=-0.011 total time=   0.0s\n",
      "[CV 3/3] END max_depth=9, max_features=sqrt, max_leaf_nodes=50, min_samples_leaf=9, splitter=best;, score=-0.009 total time=   0.0s\n",
      "[CV 1/3] END max_depth=9, max_features=sqrt, max_leaf_nodes=50, min_samples_leaf=9, splitter=random;, score=-0.049 total time=   0.0s\n",
      "[CV 2/3] END max_depth=9, max_features=sqrt, max_leaf_nodes=50, min_samples_leaf=9, splitter=random;, score=-0.068 total time=   0.0s\n",
      "[CV 3/3] END max_depth=9, max_features=sqrt, max_leaf_nodes=50, min_samples_leaf=9, splitter=random;, score=-0.049 total time=   0.0s\n",
      "[CV 1/3] END max_depth=9, max_features=sqrt, max_leaf_nodes=70, min_samples_leaf=1, splitter=best;, score=-0.016 total time=   0.0s\n",
      "[CV 2/3] END max_depth=9, max_features=sqrt, max_leaf_nodes=70, min_samples_leaf=1, splitter=best;, score=-0.009 total time=   0.0s\n",
      "[CV 3/3] END max_depth=9, max_features=sqrt, max_leaf_nodes=70, min_samples_leaf=1, splitter=best;, score=-0.016 total time=   0.0s\n",
      "[CV 1/3] END max_depth=9, max_features=sqrt, max_leaf_nodes=70, min_samples_leaf=1, splitter=random;, score=-0.021 total time=   0.0s\n",
      "[CV 2/3] END max_depth=9, max_features=sqrt, max_leaf_nodes=70, min_samples_leaf=1, splitter=random;, score=-0.058 total time=   0.0s\n",
      "[CV 3/3] END max_depth=9, max_features=sqrt, max_leaf_nodes=70, min_samples_leaf=1, splitter=random;, score=-0.037 total time=   0.0s\n",
      "[CV 1/3] END max_depth=9, max_features=sqrt, max_leaf_nodes=70, min_samples_leaf=3, splitter=best;, score=-0.006 total time=   0.0s\n",
      "[CV 2/3] END max_depth=9, max_features=sqrt, max_leaf_nodes=70, min_samples_leaf=3, splitter=best;, score=-0.019 total time=   0.0s\n",
      "[CV 3/3] END max_depth=9, max_features=sqrt, max_leaf_nodes=70, min_samples_leaf=3, splitter=best;, score=-0.003 total time=   0.0s\n",
      "[CV 1/3] END max_depth=9, max_features=sqrt, max_leaf_nodes=70, min_samples_leaf=3, splitter=random;, score=-0.065 total time=   0.0s\n",
      "[CV 2/3] END max_depth=9, max_features=sqrt, max_leaf_nodes=70, min_samples_leaf=3, splitter=random;, score=-0.025 total time=   0.0s\n",
      "[CV 3/3] END max_depth=9, max_features=sqrt, max_leaf_nodes=70, min_samples_leaf=3, splitter=random;, score=-0.039 total time=   0.0s\n",
      "[CV 1/3] END max_depth=9, max_features=sqrt, max_leaf_nodes=70, min_samples_leaf=5, splitter=best;, score=-0.025 total time=   0.0s\n",
      "[CV 2/3] END max_depth=9, max_features=sqrt, max_leaf_nodes=70, min_samples_leaf=5, splitter=best;, score=-0.029 total time=   0.0s\n",
      "[CV 3/3] END max_depth=9, max_features=sqrt, max_leaf_nodes=70, min_samples_leaf=5, splitter=best;, score=-0.016 total time=   0.0s\n",
      "[CV 1/3] END max_depth=9, max_features=sqrt, max_leaf_nodes=70, min_samples_leaf=5, splitter=random;, score=-0.029 total time=   0.0s\n",
      "[CV 2/3] END max_depth=9, max_features=sqrt, max_leaf_nodes=70, min_samples_leaf=5, splitter=random;, score=-0.073 total time=   0.0s\n",
      "[CV 3/3] END max_depth=9, max_features=sqrt, max_leaf_nodes=70, min_samples_leaf=5, splitter=random;, score=-0.070 total time=   0.0s\n",
      "[CV 1/3] END max_depth=9, max_features=sqrt, max_leaf_nodes=70, min_samples_leaf=7, splitter=best;, score=-0.005 total time=   0.0s\n",
      "[CV 2/3] END max_depth=9, max_features=sqrt, max_leaf_nodes=70, min_samples_leaf=7, splitter=best;, score=-0.018 total time=   0.0s\n",
      "[CV 3/3] END max_depth=9, max_features=sqrt, max_leaf_nodes=70, min_samples_leaf=7, splitter=best;, score=-0.010 total time=   0.0s\n",
      "[CV 1/3] END max_depth=9, max_features=sqrt, max_leaf_nodes=70, min_samples_leaf=7, splitter=random;, score=-0.061 total time=   0.0s\n",
      "[CV 2/3] END max_depth=9, max_features=sqrt, max_leaf_nodes=70, min_samples_leaf=7, splitter=random;, score=-0.062 total time=   0.0s\n",
      "[CV 3/3] END max_depth=9, max_features=sqrt, max_leaf_nodes=70, min_samples_leaf=7, splitter=random;, score=-0.060 total time=   0.0s\n",
      "[CV 1/3] END max_depth=9, max_features=sqrt, max_leaf_nodes=70, min_samples_leaf=9, splitter=best;, score=-0.006 total time=   0.0s\n",
      "[CV 2/3] END max_depth=9, max_features=sqrt, max_leaf_nodes=70, min_samples_leaf=9, splitter=best;, score=-0.007 total time=   0.0s\n",
      "[CV 3/3] END max_depth=9, max_features=sqrt, max_leaf_nodes=70, min_samples_leaf=9, splitter=best;, score=-0.012 total time=   0.0s\n",
      "[CV 1/3] END max_depth=9, max_features=sqrt, max_leaf_nodes=70, min_samples_leaf=9, splitter=random;, score=-0.046 total time=   0.0s\n",
      "[CV 2/3] END max_depth=9, max_features=sqrt, max_leaf_nodes=70, min_samples_leaf=9, splitter=random;, score=-0.057 total time=   0.0s\n",
      "[CV 3/3] END max_depth=9, max_features=sqrt, max_leaf_nodes=70, min_samples_leaf=9, splitter=random;, score=-0.046 total time=   0.0s\n",
      "[CV 1/3] END max_depth=11, max_features=log2, max_leaf_nodes=10, min_samples_leaf=1, splitter=best;, score=-0.046 total time=   0.0s\n",
      "[CV 2/3] END max_depth=11, max_features=log2, max_leaf_nodes=10, min_samples_leaf=1, splitter=best;, score=-0.047 total time=   0.0s\n",
      "[CV 3/3] END max_depth=11, max_features=log2, max_leaf_nodes=10, min_samples_leaf=1, splitter=best;, score=-0.056 total time=   0.0s\n",
      "[CV 1/3] END max_depth=11, max_features=log2, max_leaf_nodes=10, min_samples_leaf=1, splitter=random;, score=-0.082 total time=   0.0s\n",
      "[CV 2/3] END max_depth=11, max_features=log2, max_leaf_nodes=10, min_samples_leaf=1, splitter=random;, score=-0.091 total time=   0.0s\n",
      "[CV 3/3] END max_depth=11, max_features=log2, max_leaf_nodes=10, min_samples_leaf=1, splitter=random;, score=-0.061 total time=   0.0s\n",
      "[CV 1/3] END max_depth=11, max_features=log2, max_leaf_nodes=10, min_samples_leaf=3, splitter=best;, score=-0.019 total time=   0.0s\n",
      "[CV 2/3] END max_depth=11, max_features=log2, max_leaf_nodes=10, min_samples_leaf=3, splitter=best;, score=-0.046 total time=   0.0s\n",
      "[CV 3/3] END max_depth=11, max_features=log2, max_leaf_nodes=10, min_samples_leaf=3, splitter=best;, score=-0.043 total time=   0.0s\n",
      "[CV 1/3] END max_depth=11, max_features=log2, max_leaf_nodes=10, min_samples_leaf=3, splitter=random;, score=-0.024 total time=   0.0s\n",
      "[CV 2/3] END max_depth=11, max_features=log2, max_leaf_nodes=10, min_samples_leaf=3, splitter=random;, score=-0.018 total time=   0.0s\n",
      "[CV 3/3] END max_depth=11, max_features=log2, max_leaf_nodes=10, min_samples_leaf=3, splitter=random;, score=-0.030 total time=   0.0s\n",
      "[CV 1/3] END max_depth=11, max_features=log2, max_leaf_nodes=10, min_samples_leaf=5, splitter=best;, score=-0.011 total time=   0.0s\n",
      "[CV 2/3] END max_depth=11, max_features=log2, max_leaf_nodes=10, min_samples_leaf=5, splitter=best;, score=-0.029 total time=   0.0s\n",
      "[CV 3/3] END max_depth=11, max_features=log2, max_leaf_nodes=10, min_samples_leaf=5, splitter=best;, score=-0.049 total time=   0.0s\n",
      "[CV 1/3] END max_depth=11, max_features=log2, max_leaf_nodes=10, min_samples_leaf=5, splitter=random;, score=-0.039 total time=   0.0s\n",
      "[CV 2/3] END max_depth=11, max_features=log2, max_leaf_nodes=10, min_samples_leaf=5, splitter=random;, score=-0.037 total time=   0.0s\n",
      "[CV 3/3] END max_depth=11, max_features=log2, max_leaf_nodes=10, min_samples_leaf=5, splitter=random;, score=-0.024 total time=   0.0s\n",
      "[CV 1/3] END max_depth=11, max_features=log2, max_leaf_nodes=10, min_samples_leaf=7, splitter=best;, score=-0.065 total time=   0.0s\n",
      "[CV 2/3] END max_depth=11, max_features=log2, max_leaf_nodes=10, min_samples_leaf=7, splitter=best;, score=-0.029 total time=   0.0s\n",
      "[CV 3/3] END max_depth=11, max_features=log2, max_leaf_nodes=10, min_samples_leaf=7, splitter=best;, score=-0.045 total time=   0.0s\n",
      "[CV 1/3] END max_depth=11, max_features=log2, max_leaf_nodes=10, min_samples_leaf=7, splitter=random;, score=-0.055 total time=   0.0s\n",
      "[CV 2/3] END max_depth=11, max_features=log2, max_leaf_nodes=10, min_samples_leaf=7, splitter=random;, score=-0.044 total time=   0.0s\n",
      "[CV 3/3] END max_depth=11, max_features=log2, max_leaf_nodes=10, min_samples_leaf=7, splitter=random;, score=-0.087 total time=   0.0s\n",
      "[CV 1/3] END max_depth=11, max_features=log2, max_leaf_nodes=10, min_samples_leaf=9, splitter=best;, score=-0.028 total time=   0.0s\n",
      "[CV 2/3] END max_depth=11, max_features=log2, max_leaf_nodes=10, min_samples_leaf=9, splitter=best;, score=-0.008 total time=   0.0s\n",
      "[CV 3/3] END max_depth=11, max_features=log2, max_leaf_nodes=10, min_samples_leaf=9, splitter=best;, score=-0.016 total time=   0.0s\n",
      "[CV 1/3] END max_depth=11, max_features=log2, max_leaf_nodes=10, min_samples_leaf=9, splitter=random;, score=-0.086 total time=   0.0s\n",
      "[CV 2/3] END max_depth=11, max_features=log2, max_leaf_nodes=10, min_samples_leaf=9, splitter=random;, score=-0.053 total time=   0.0s\n"
     ]
    },
    {
     "name": "stdout",
     "output_type": "stream",
     "text": [
      "[CV 3/3] END max_depth=11, max_features=log2, max_leaf_nodes=10, min_samples_leaf=9, splitter=random;, score=-0.086 total time=   0.0s\n",
      "[CV 1/3] END max_depth=11, max_features=log2, max_leaf_nodes=30, min_samples_leaf=1, splitter=best;, score=-0.005 total time=   0.0s\n",
      "[CV 2/3] END max_depth=11, max_features=log2, max_leaf_nodes=30, min_samples_leaf=1, splitter=best;, score=-0.032 total time=   0.0s\n",
      "[CV 3/3] END max_depth=11, max_features=log2, max_leaf_nodes=30, min_samples_leaf=1, splitter=best;, score=-0.032 total time=   0.0s\n",
      "[CV 1/3] END max_depth=11, max_features=log2, max_leaf_nodes=30, min_samples_leaf=1, splitter=random;, score=-0.086 total time=   0.0s\n",
      "[CV 2/3] END max_depth=11, max_features=log2, max_leaf_nodes=30, min_samples_leaf=1, splitter=random;, score=-0.079 total time=   0.0s\n",
      "[CV 3/3] END max_depth=11, max_features=log2, max_leaf_nodes=30, min_samples_leaf=1, splitter=random;, score=-0.082 total time=   0.0s\n",
      "[CV 1/3] END max_depth=11, max_features=log2, max_leaf_nodes=30, min_samples_leaf=3, splitter=best;, score=-0.019 total time=   0.0s\n",
      "[CV 2/3] END max_depth=11, max_features=log2, max_leaf_nodes=30, min_samples_leaf=3, splitter=best;, score=-0.010 total time=   0.0s\n",
      "[CV 3/3] END max_depth=11, max_features=log2, max_leaf_nodes=30, min_samples_leaf=3, splitter=best;, score=-0.015 total time=   0.0s\n",
      "[CV 1/3] END max_depth=11, max_features=log2, max_leaf_nodes=30, min_samples_leaf=3, splitter=random;, score=-0.029 total time=   0.0s\n",
      "[CV 2/3] END max_depth=11, max_features=log2, max_leaf_nodes=30, min_samples_leaf=3, splitter=random;, score=-0.067 total time=   0.0s\n",
      "[CV 3/3] END max_depth=11, max_features=log2, max_leaf_nodes=30, min_samples_leaf=3, splitter=random;, score=-0.025 total time=   0.0s\n",
      "[CV 1/3] END max_depth=11, max_features=log2, max_leaf_nodes=30, min_samples_leaf=5, splitter=best;, score=-0.011 total time=   0.0s\n",
      "[CV 2/3] END max_depth=11, max_features=log2, max_leaf_nodes=30, min_samples_leaf=5, splitter=best;, score=-0.019 total time=   0.0s\n",
      "[CV 3/3] END max_depth=11, max_features=log2, max_leaf_nodes=30, min_samples_leaf=5, splitter=best;, score=-0.012 total time=   0.0s\n",
      "[CV 1/3] END max_depth=11, max_features=log2, max_leaf_nodes=30, min_samples_leaf=5, splitter=random;, score=-0.073 total time=   0.0s\n",
      "[CV 2/3] END max_depth=11, max_features=log2, max_leaf_nodes=30, min_samples_leaf=5, splitter=random;, score=-0.077 total time=   0.0s\n",
      "[CV 3/3] END max_depth=11, max_features=log2, max_leaf_nodes=30, min_samples_leaf=5, splitter=random;, score=-0.033 total time=   0.0s\n",
      "[CV 1/3] END max_depth=11, max_features=log2, max_leaf_nodes=30, min_samples_leaf=7, splitter=best;, score=-0.015 total time=   0.0s\n",
      "[CV 2/3] END max_depth=11, max_features=log2, max_leaf_nodes=30, min_samples_leaf=7, splitter=best;, score=-0.008 total time=   0.0s\n",
      "[CV 3/3] END max_depth=11, max_features=log2, max_leaf_nodes=30, min_samples_leaf=7, splitter=best;, score=-0.016 total time=   0.0s\n",
      "[CV 1/3] END max_depth=11, max_features=log2, max_leaf_nodes=30, min_samples_leaf=7, splitter=random;, score=-0.075 total time=   0.0s\n",
      "[CV 2/3] END max_depth=11, max_features=log2, max_leaf_nodes=30, min_samples_leaf=7, splitter=random;, score=-0.028 total time=   0.0s\n",
      "[CV 3/3] END max_depth=11, max_features=log2, max_leaf_nodes=30, min_samples_leaf=7, splitter=random;, score=-0.079 total time=   0.0s\n",
      "[CV 1/3] END max_depth=11, max_features=log2, max_leaf_nodes=30, min_samples_leaf=9, splitter=best;, score=-0.014 total time=   0.0s\n",
      "[CV 2/3] END max_depth=11, max_features=log2, max_leaf_nodes=30, min_samples_leaf=9, splitter=best;, score=-0.009 total time=   0.0s\n",
      "[CV 3/3] END max_depth=11, max_features=log2, max_leaf_nodes=30, min_samples_leaf=9, splitter=best;, score=-0.022 total time=   0.0s\n",
      "[CV 1/3] END max_depth=11, max_features=log2, max_leaf_nodes=30, min_samples_leaf=9, splitter=random;, score=-0.025 total time=   0.0s\n",
      "[CV 2/3] END max_depth=11, max_features=log2, max_leaf_nodes=30, min_samples_leaf=9, splitter=random;, score=-0.038 total time=   0.0s\n",
      "[CV 3/3] END max_depth=11, max_features=log2, max_leaf_nodes=30, min_samples_leaf=9, splitter=random;, score=-0.078 total time=   0.0s\n",
      "[CV 1/3] END max_depth=11, max_features=log2, max_leaf_nodes=50, min_samples_leaf=1, splitter=best;, score=-0.014 total time=   0.0s\n",
      "[CV 2/3] END max_depth=11, max_features=log2, max_leaf_nodes=50, min_samples_leaf=1, splitter=best;, score=-0.015 total time=   0.0s\n",
      "[CV 3/3] END max_depth=11, max_features=log2, max_leaf_nodes=50, min_samples_leaf=1, splitter=best;, score=-0.024 total time=   0.0s\n",
      "[CV 1/3] END max_depth=11, max_features=log2, max_leaf_nodes=50, min_samples_leaf=1, splitter=random;, score=-0.076 total time=   0.0s\n",
      "[CV 2/3] END max_depth=11, max_features=log2, max_leaf_nodes=50, min_samples_leaf=1, splitter=random;, score=-0.017 total time=   0.0s\n",
      "[CV 3/3] END max_depth=11, max_features=log2, max_leaf_nodes=50, min_samples_leaf=1, splitter=random;, score=-0.069 total time=   0.0s\n",
      "[CV 1/3] END max_depth=11, max_features=log2, max_leaf_nodes=50, min_samples_leaf=3, splitter=best;, score=-0.003 total time=   0.0s\n",
      "[CV 2/3] END max_depth=11, max_features=log2, max_leaf_nodes=50, min_samples_leaf=3, splitter=best;, score=-0.002 total time=   0.0s\n",
      "[CV 3/3] END max_depth=11, max_features=log2, max_leaf_nodes=50, min_samples_leaf=3, splitter=best;, score=-0.025 total time=   0.0s\n",
      "[CV 1/3] END max_depth=11, max_features=log2, max_leaf_nodes=50, min_samples_leaf=3, splitter=random;, score=-0.058 total time=   0.0s\n",
      "[CV 2/3] END max_depth=11, max_features=log2, max_leaf_nodes=50, min_samples_leaf=3, splitter=random;, score=-0.049 total time=   0.0s\n",
      "[CV 3/3] END max_depth=11, max_features=log2, max_leaf_nodes=50, min_samples_leaf=3, splitter=random;, score=-0.063 total time=   0.0s\n",
      "[CV 1/3] END max_depth=11, max_features=log2, max_leaf_nodes=50, min_samples_leaf=5, splitter=best;, score=-0.009 total time=   0.0s\n",
      "[CV 2/3] END max_depth=11, max_features=log2, max_leaf_nodes=50, min_samples_leaf=5, splitter=best;, score=-0.033 total time=   0.0s\n",
      "[CV 3/3] END max_depth=11, max_features=log2, max_leaf_nodes=50, min_samples_leaf=5, splitter=best;, score=-0.006 total time=   0.0s\n",
      "[CV 1/3] END max_depth=11, max_features=log2, max_leaf_nodes=50, min_samples_leaf=5, splitter=random;, score=-0.074 total time=   0.0s\n",
      "[CV 2/3] END max_depth=11, max_features=log2, max_leaf_nodes=50, min_samples_leaf=5, splitter=random;, score=-0.018 total time=   0.0s\n",
      "[CV 3/3] END max_depth=11, max_features=log2, max_leaf_nodes=50, min_samples_leaf=5, splitter=random;, score=-0.057 total time=   0.0s\n",
      "[CV 1/3] END max_depth=11, max_features=log2, max_leaf_nodes=50, min_samples_leaf=7, splitter=best;, score=-0.034 total time=   0.0s\n",
      "[CV 2/3] END max_depth=11, max_features=log2, max_leaf_nodes=50, min_samples_leaf=7, splitter=best;, score=-0.009 total time=   0.0s\n",
      "[CV 3/3] END max_depth=11, max_features=log2, max_leaf_nodes=50, min_samples_leaf=7, splitter=best;, score=-0.013 total time=   0.0s\n",
      "[CV 1/3] END max_depth=11, max_features=log2, max_leaf_nodes=50, min_samples_leaf=7, splitter=random;, score=-0.046 total time=   0.0s\n",
      "[CV 2/3] END max_depth=11, max_features=log2, max_leaf_nodes=50, min_samples_leaf=7, splitter=random;, score=-0.017 total time=   0.0s\n",
      "[CV 3/3] END max_depth=11, max_features=log2, max_leaf_nodes=50, min_samples_leaf=7, splitter=random;, score=-0.067 total time=   0.0s\n",
      "[CV 1/3] END max_depth=11, max_features=log2, max_leaf_nodes=50, min_samples_leaf=9, splitter=best;, score=-0.021 total time=   0.0s\n",
      "[CV 2/3] END max_depth=11, max_features=log2, max_leaf_nodes=50, min_samples_leaf=9, splitter=best;, score=-0.017 total time=   0.0s\n",
      "[CV 3/3] END max_depth=11, max_features=log2, max_leaf_nodes=50, min_samples_leaf=9, splitter=best;, score=-0.027 total time=   0.0s\n",
      "[CV 1/3] END max_depth=11, max_features=log2, max_leaf_nodes=50, min_samples_leaf=9, splitter=random;, score=-0.021 total time=   0.0s\n",
      "[CV 2/3] END max_depth=11, max_features=log2, max_leaf_nodes=50, min_samples_leaf=9, splitter=random;, score=-0.022 total time=   0.0s\n",
      "[CV 3/3] END max_depth=11, max_features=log2, max_leaf_nodes=50, min_samples_leaf=9, splitter=random;, score=-0.068 total time=   0.0s\n",
      "[CV 1/3] END max_depth=11, max_features=log2, max_leaf_nodes=70, min_samples_leaf=1, splitter=best;, score=-0.004 total time=   0.0s\n",
      "[CV 2/3] END max_depth=11, max_features=log2, max_leaf_nodes=70, min_samples_leaf=1, splitter=best;, score=-0.015 total time=   0.0s\n",
      "[CV 3/3] END max_depth=11, max_features=log2, max_leaf_nodes=70, min_samples_leaf=1, splitter=best;, score=-0.028 total time=   0.0s\n",
      "[CV 1/3] END max_depth=11, max_features=log2, max_leaf_nodes=70, min_samples_leaf=1, splitter=random;, score=-0.064 total time=   0.0s\n",
      "[CV 2/3] END max_depth=11, max_features=log2, max_leaf_nodes=70, min_samples_leaf=1, splitter=random;, score=-0.060 total time=   0.0s\n",
      "[CV 3/3] END max_depth=11, max_features=log2, max_leaf_nodes=70, min_samples_leaf=1, splitter=random;, score=-0.047 total time=   0.0s\n",
      "[CV 1/3] END max_depth=11, max_features=log2, max_leaf_nodes=70, min_samples_leaf=3, splitter=best;, score=-0.004 total time=   0.0s\n",
      "[CV 2/3] END max_depth=11, max_features=log2, max_leaf_nodes=70, min_samples_leaf=3, splitter=best;, score=-0.013 total time=   0.0s\n",
      "[CV 3/3] END max_depth=11, max_features=log2, max_leaf_nodes=70, min_samples_leaf=3, splitter=best;, score=-0.019 total time=   0.0s\n",
      "[CV 1/3] END max_depth=11, max_features=log2, max_leaf_nodes=70, min_samples_leaf=3, splitter=random;, score=-0.051 total time=   0.0s\n",
      "[CV 2/3] END max_depth=11, max_features=log2, max_leaf_nodes=70, min_samples_leaf=3, splitter=random;, score=-0.033 total time=   0.0s\n",
      "[CV 3/3] END max_depth=11, max_features=log2, max_leaf_nodes=70, min_samples_leaf=3, splitter=random;, score=-0.058 total time=   0.0s\n",
      "[CV 1/3] END max_depth=11, max_features=log2, max_leaf_nodes=70, min_samples_leaf=5, splitter=best;, score=-0.015 total time=   0.0s\n",
      "[CV 2/3] END max_depth=11, max_features=log2, max_leaf_nodes=70, min_samples_leaf=5, splitter=best;, score=-0.017 total time=   0.0s\n"
     ]
    },
    {
     "name": "stdout",
     "output_type": "stream",
     "text": [
      "[CV 3/3] END max_depth=11, max_features=log2, max_leaf_nodes=70, min_samples_leaf=5, splitter=best;, score=-0.008 total time=   0.0s\n",
      "[CV 1/3] END max_depth=11, max_features=log2, max_leaf_nodes=70, min_samples_leaf=5, splitter=random;, score=-0.051 total time=   0.0s\n",
      "[CV 2/3] END max_depth=11, max_features=log2, max_leaf_nodes=70, min_samples_leaf=5, splitter=random;, score=-0.035 total time=   0.0s\n",
      "[CV 3/3] END max_depth=11, max_features=log2, max_leaf_nodes=70, min_samples_leaf=5, splitter=random;, score=-0.034 total time=   0.0s\n",
      "[CV 1/3] END max_depth=11, max_features=log2, max_leaf_nodes=70, min_samples_leaf=7, splitter=best;, score=-0.024 total time=   0.0s\n",
      "[CV 2/3] END max_depth=11, max_features=log2, max_leaf_nodes=70, min_samples_leaf=7, splitter=best;, score=-0.013 total time=   0.0s\n",
      "[CV 3/3] END max_depth=11, max_features=log2, max_leaf_nodes=70, min_samples_leaf=7, splitter=best;, score=-0.014 total time=   0.0s\n",
      "[CV 1/3] END max_depth=11, max_features=log2, max_leaf_nodes=70, min_samples_leaf=7, splitter=random;, score=-0.040 total time=   0.0s\n",
      "[CV 2/3] END max_depth=11, max_features=log2, max_leaf_nodes=70, min_samples_leaf=7, splitter=random;, score=-0.033 total time=   0.0s\n",
      "[CV 3/3] END max_depth=11, max_features=log2, max_leaf_nodes=70, min_samples_leaf=7, splitter=random;, score=-0.046 total time=   0.0s\n",
      "[CV 1/3] END max_depth=11, max_features=log2, max_leaf_nodes=70, min_samples_leaf=9, splitter=best;, score=-0.013 total time=   0.0s\n",
      "[CV 2/3] END max_depth=11, max_features=log2, max_leaf_nodes=70, min_samples_leaf=9, splitter=best;, score=-0.009 total time=   0.0s\n",
      "[CV 3/3] END max_depth=11, max_features=log2, max_leaf_nodes=70, min_samples_leaf=9, splitter=best;, score=-0.008 total time=   0.0s\n",
      "[CV 1/3] END max_depth=11, max_features=log2, max_leaf_nodes=70, min_samples_leaf=9, splitter=random;, score=-0.026 total time=   0.0s\n",
      "[CV 2/3] END max_depth=11, max_features=log2, max_leaf_nodes=70, min_samples_leaf=9, splitter=random;, score=-0.036 total time=   0.0s\n",
      "[CV 3/3] END max_depth=11, max_features=log2, max_leaf_nodes=70, min_samples_leaf=9, splitter=random;, score=-0.032 total time=   0.0s\n",
      "[CV 1/3] END max_depth=11, max_features=sqrt, max_leaf_nodes=10, min_samples_leaf=1, splitter=best;, score=-0.016 total time=   0.0s\n",
      "[CV 2/3] END max_depth=11, max_features=sqrt, max_leaf_nodes=10, min_samples_leaf=1, splitter=best;, score=-0.027 total time=   0.0s\n",
      "[CV 3/3] END max_depth=11, max_features=sqrt, max_leaf_nodes=10, min_samples_leaf=1, splitter=best;, score=-0.012 total time=   0.0s\n",
      "[CV 1/3] END max_depth=11, max_features=sqrt, max_leaf_nodes=10, min_samples_leaf=1, splitter=random;, score=-0.091 total time=   0.0s\n",
      "[CV 2/3] END max_depth=11, max_features=sqrt, max_leaf_nodes=10, min_samples_leaf=1, splitter=random;, score=-0.049 total time=   0.0s\n",
      "[CV 3/3] END max_depth=11, max_features=sqrt, max_leaf_nodes=10, min_samples_leaf=1, splitter=random;, score=-0.067 total time=   0.0s\n",
      "[CV 1/3] END max_depth=11, max_features=sqrt, max_leaf_nodes=10, min_samples_leaf=3, splitter=best;, score=-0.013 total time=   0.0s\n",
      "[CV 2/3] END max_depth=11, max_features=sqrt, max_leaf_nodes=10, min_samples_leaf=3, splitter=best;, score=-0.041 total time=   0.0s\n",
      "[CV 3/3] END max_depth=11, max_features=sqrt, max_leaf_nodes=10, min_samples_leaf=3, splitter=best;, score=-0.055 total time=   0.0s\n",
      "[CV 1/3] END max_depth=11, max_features=sqrt, max_leaf_nodes=10, min_samples_leaf=3, splitter=random;, score=-0.091 total time=   0.0s\n",
      "[CV 2/3] END max_depth=11, max_features=sqrt, max_leaf_nodes=10, min_samples_leaf=3, splitter=random;, score=-0.087 total time=   0.0s\n",
      "[CV 3/3] END max_depth=11, max_features=sqrt, max_leaf_nodes=10, min_samples_leaf=3, splitter=random;, score=-0.088 total time=   0.0s\n",
      "[CV 1/3] END max_depth=11, max_features=sqrt, max_leaf_nodes=10, min_samples_leaf=5, splitter=best;, score=-0.027 total time=   0.0s\n",
      "[CV 2/3] END max_depth=11, max_features=sqrt, max_leaf_nodes=10, min_samples_leaf=5, splitter=best;, score=-0.043 total time=   0.0s\n",
      "[CV 3/3] END max_depth=11, max_features=sqrt, max_leaf_nodes=10, min_samples_leaf=5, splitter=best;, score=-0.018 total time=   0.0s\n",
      "[CV 1/3] END max_depth=11, max_features=sqrt, max_leaf_nodes=10, min_samples_leaf=5, splitter=random;, score=-0.078 total time=   0.0s\n",
      "[CV 2/3] END max_depth=11, max_features=sqrt, max_leaf_nodes=10, min_samples_leaf=5, splitter=random;, score=-0.035 total time=   0.0s\n",
      "[CV 3/3] END max_depth=11, max_features=sqrt, max_leaf_nodes=10, min_samples_leaf=5, splitter=random;, score=-0.025 total time=   0.0s\n",
      "[CV 1/3] END max_depth=11, max_features=sqrt, max_leaf_nodes=10, min_samples_leaf=7, splitter=best;, score=-0.028 total time=   0.0s\n",
      "[CV 2/3] END max_depth=11, max_features=sqrt, max_leaf_nodes=10, min_samples_leaf=7, splitter=best;, score=-0.017 total time=   0.0s\n",
      "[CV 3/3] END max_depth=11, max_features=sqrt, max_leaf_nodes=10, min_samples_leaf=7, splitter=best;, score=-0.039 total time=   0.0s\n",
      "[CV 1/3] END max_depth=11, max_features=sqrt, max_leaf_nodes=10, min_samples_leaf=7, splitter=random;, score=-0.093 total time=   0.0s\n",
      "[CV 2/3] END max_depth=11, max_features=sqrt, max_leaf_nodes=10, min_samples_leaf=7, splitter=random;, score=-0.088 total time=   0.0s\n",
      "[CV 3/3] END max_depth=11, max_features=sqrt, max_leaf_nodes=10, min_samples_leaf=7, splitter=random;, score=-0.072 total time=   0.0s\n",
      "[CV 1/3] END max_depth=11, max_features=sqrt, max_leaf_nodes=10, min_samples_leaf=9, splitter=best;, score=-0.047 total time=   0.0s\n",
      "[CV 2/3] END max_depth=11, max_features=sqrt, max_leaf_nodes=10, min_samples_leaf=9, splitter=best;, score=-0.031 total time=   0.0s\n",
      "[CV 3/3] END max_depth=11, max_features=sqrt, max_leaf_nodes=10, min_samples_leaf=9, splitter=best;, score=-0.030 total time=   0.0s\n",
      "[CV 1/3] END max_depth=11, max_features=sqrt, max_leaf_nodes=10, min_samples_leaf=9, splitter=random;, score=-0.029 total time=   0.0s\n",
      "[CV 2/3] END max_depth=11, max_features=sqrt, max_leaf_nodes=10, min_samples_leaf=9, splitter=random;, score=-0.077 total time=   0.0s\n",
      "[CV 3/3] END max_depth=11, max_features=sqrt, max_leaf_nodes=10, min_samples_leaf=9, splitter=random;, score=-0.047 total time=   0.0s\n",
      "[CV 1/3] END max_depth=11, max_features=sqrt, max_leaf_nodes=30, min_samples_leaf=1, splitter=best;, score=-0.011 total time=   0.0s\n",
      "[CV 2/3] END max_depth=11, max_features=sqrt, max_leaf_nodes=30, min_samples_leaf=1, splitter=best;, score=-0.009 total time=   0.0s\n",
      "[CV 3/3] END max_depth=11, max_features=sqrt, max_leaf_nodes=30, min_samples_leaf=1, splitter=best;, score=-0.007 total time=   0.0s\n",
      "[CV 1/3] END max_depth=11, max_features=sqrt, max_leaf_nodes=30, min_samples_leaf=1, splitter=random;, score=-0.037 total time=   0.0s\n",
      "[CV 2/3] END max_depth=11, max_features=sqrt, max_leaf_nodes=30, min_samples_leaf=1, splitter=random;, score=-0.026 total time=   0.0s\n",
      "[CV 3/3] END max_depth=11, max_features=sqrt, max_leaf_nodes=30, min_samples_leaf=1, splitter=random;, score=-0.073 total time=   0.0s\n",
      "[CV 1/3] END max_depth=11, max_features=sqrt, max_leaf_nodes=30, min_samples_leaf=3, splitter=best;, score=-0.006 total time=   0.0s\n",
      "[CV 2/3] END max_depth=11, max_features=sqrt, max_leaf_nodes=30, min_samples_leaf=3, splitter=best;, score=-0.016 total time=   0.0s\n",
      "[CV 3/3] END max_depth=11, max_features=sqrt, max_leaf_nodes=30, min_samples_leaf=3, splitter=best;, score=-0.014 total time=   0.0s\n",
      "[CV 1/3] END max_depth=11, max_features=sqrt, max_leaf_nodes=30, min_samples_leaf=3, splitter=random;, score=-0.048 total time=   0.0s\n",
      "[CV 2/3] END max_depth=11, max_features=sqrt, max_leaf_nodes=30, min_samples_leaf=3, splitter=random;, score=-0.043 total time=   0.0s\n",
      "[CV 3/3] END max_depth=11, max_features=sqrt, max_leaf_nodes=30, min_samples_leaf=3, splitter=random;, score=-0.029 total time=   0.0s\n",
      "[CV 1/3] END max_depth=11, max_features=sqrt, max_leaf_nodes=30, min_samples_leaf=5, splitter=best;, score=-0.009 total time=   0.0s\n",
      "[CV 2/3] END max_depth=11, max_features=sqrt, max_leaf_nodes=30, min_samples_leaf=5, splitter=best;, score=-0.016 total time=   0.0s\n",
      "[CV 3/3] END max_depth=11, max_features=sqrt, max_leaf_nodes=30, min_samples_leaf=5, splitter=best;, score=-0.017 total time=   0.0s\n",
      "[CV 1/3] END max_depth=11, max_features=sqrt, max_leaf_nodes=30, min_samples_leaf=5, splitter=random;, score=-0.029 total time=   0.0s\n",
      "[CV 2/3] END max_depth=11, max_features=sqrt, max_leaf_nodes=30, min_samples_leaf=5, splitter=random;, score=-0.086 total time=   0.0s\n",
      "[CV 3/3] END max_depth=11, max_features=sqrt, max_leaf_nodes=30, min_samples_leaf=5, splitter=random;, score=-0.051 total time=   0.0s\n",
      "[CV 1/3] END max_depth=11, max_features=sqrt, max_leaf_nodes=30, min_samples_leaf=7, splitter=best;, score=-0.030 total time=   0.0s\n",
      "[CV 2/3] END max_depth=11, max_features=sqrt, max_leaf_nodes=30, min_samples_leaf=7, splitter=best;, score=-0.025 total time=   0.0s\n",
      "[CV 3/3] END max_depth=11, max_features=sqrt, max_leaf_nodes=30, min_samples_leaf=7, splitter=best;, score=-0.025 total time=   0.0s\n",
      "[CV 1/3] END max_depth=11, max_features=sqrt, max_leaf_nodes=30, min_samples_leaf=7, splitter=random;, score=-0.050 total time=   0.0s\n",
      "[CV 2/3] END max_depth=11, max_features=sqrt, max_leaf_nodes=30, min_samples_leaf=7, splitter=random;, score=-0.026 total time=   0.0s\n",
      "[CV 3/3] END max_depth=11, max_features=sqrt, max_leaf_nodes=30, min_samples_leaf=7, splitter=random;, score=-0.072 total time=   0.0s\n",
      "[CV 1/3] END max_depth=11, max_features=sqrt, max_leaf_nodes=30, min_samples_leaf=9, splitter=best;, score=-0.017 total time=   0.0s\n",
      "[CV 2/3] END max_depth=11, max_features=sqrt, max_leaf_nodes=30, min_samples_leaf=9, splitter=best;, score=-0.024 total time=   0.0s\n",
      "[CV 3/3] END max_depth=11, max_features=sqrt, max_leaf_nodes=30, min_samples_leaf=9, splitter=best;, score=-0.008 total time=   0.0s\n",
      "[CV 1/3] END max_depth=11, max_features=sqrt, max_leaf_nodes=30, min_samples_leaf=9, splitter=random;, score=-0.040 total time=   0.0s\n",
      "[CV 2/3] END max_depth=11, max_features=sqrt, max_leaf_nodes=30, min_samples_leaf=9, splitter=random;, score=-0.049 total time=   0.0s\n",
      "[CV 3/3] END max_depth=11, max_features=sqrt, max_leaf_nodes=30, min_samples_leaf=9, splitter=random;, score=-0.081 total time=   0.0s\n",
      "[CV 1/3] END max_depth=11, max_features=sqrt, max_leaf_nodes=50, min_samples_leaf=1, splitter=best;, score=-0.010 total time=   0.0s\n",
      "[CV 2/3] END max_depth=11, max_features=sqrt, max_leaf_nodes=50, min_samples_leaf=1, splitter=best;, score=-0.004 total time=   0.0s\n",
      "[CV 3/3] END max_depth=11, max_features=sqrt, max_leaf_nodes=50, min_samples_leaf=1, splitter=best;, score=-0.009 total time=   0.0s\n",
      "[CV 1/3] END max_depth=11, max_features=sqrt, max_leaf_nodes=50, min_samples_leaf=1, splitter=random;, score=-0.025 total time=   0.0s\n",
      "[CV 2/3] END max_depth=11, max_features=sqrt, max_leaf_nodes=50, min_samples_leaf=1, splitter=random;, score=-0.042 total time=   0.0s\n"
     ]
    },
    {
     "name": "stdout",
     "output_type": "stream",
     "text": [
      "[CV 3/3] END max_depth=11, max_features=sqrt, max_leaf_nodes=50, min_samples_leaf=1, splitter=random;, score=-0.022 total time=   0.0s\n",
      "[CV 1/3] END max_depth=11, max_features=sqrt, max_leaf_nodes=50, min_samples_leaf=3, splitter=best;, score=-0.009 total time=   0.0s\n",
      "[CV 2/3] END max_depth=11, max_features=sqrt, max_leaf_nodes=50, min_samples_leaf=3, splitter=best;, score=-0.007 total time=   0.0s\n",
      "[CV 3/3] END max_depth=11, max_features=sqrt, max_leaf_nodes=50, min_samples_leaf=3, splitter=best;, score=-0.016 total time=   0.0s\n",
      "[CV 1/3] END max_depth=11, max_features=sqrt, max_leaf_nodes=50, min_samples_leaf=3, splitter=random;, score=-0.079 total time=   0.0s\n",
      "[CV 2/3] END max_depth=11, max_features=sqrt, max_leaf_nodes=50, min_samples_leaf=3, splitter=random;, score=-0.027 total time=   0.0s\n",
      "[CV 3/3] END max_depth=11, max_features=sqrt, max_leaf_nodes=50, min_samples_leaf=3, splitter=random;, score=-0.022 total time=   0.0s\n",
      "[CV 1/3] END max_depth=11, max_features=sqrt, max_leaf_nodes=50, min_samples_leaf=5, splitter=best;, score=-0.035 total time=   0.0s\n",
      "[CV 2/3] END max_depth=11, max_features=sqrt, max_leaf_nodes=50, min_samples_leaf=5, splitter=best;, score=-0.005 total time=   0.0s\n",
      "[CV 3/3] END max_depth=11, max_features=sqrt, max_leaf_nodes=50, min_samples_leaf=5, splitter=best;, score=-0.012 total time=   0.0s\n",
      "[CV 1/3] END max_depth=11, max_features=sqrt, max_leaf_nodes=50, min_samples_leaf=5, splitter=random;, score=-0.056 total time=   0.0s\n",
      "[CV 2/3] END max_depth=11, max_features=sqrt, max_leaf_nodes=50, min_samples_leaf=5, splitter=random;, score=-0.056 total time=   0.0s\n",
      "[CV 3/3] END max_depth=11, max_features=sqrt, max_leaf_nodes=50, min_samples_leaf=5, splitter=random;, score=-0.047 total time=   0.0s\n",
      "[CV 1/3] END max_depth=11, max_features=sqrt, max_leaf_nodes=50, min_samples_leaf=7, splitter=best;, score=-0.005 total time=   0.0s\n",
      "[CV 2/3] END max_depth=11, max_features=sqrt, max_leaf_nodes=50, min_samples_leaf=7, splitter=best;, score=-0.002 total time=   0.0s\n",
      "[CV 3/3] END max_depth=11, max_features=sqrt, max_leaf_nodes=50, min_samples_leaf=7, splitter=best;, score=-0.013 total time=   0.0s\n",
      "[CV 1/3] END max_depth=11, max_features=sqrt, max_leaf_nodes=50, min_samples_leaf=7, splitter=random;, score=-0.050 total time=   0.0s\n",
      "[CV 2/3] END max_depth=11, max_features=sqrt, max_leaf_nodes=50, min_samples_leaf=7, splitter=random;, score=-0.051 total time=   0.0s\n",
      "[CV 3/3] END max_depth=11, max_features=sqrt, max_leaf_nodes=50, min_samples_leaf=7, splitter=random;, score=-0.014 total time=   0.0s\n",
      "[CV 1/3] END max_depth=11, max_features=sqrt, max_leaf_nodes=50, min_samples_leaf=9, splitter=best;, score=-0.009 total time=   0.0s\n",
      "[CV 2/3] END max_depth=11, max_features=sqrt, max_leaf_nodes=50, min_samples_leaf=9, splitter=best;, score=-0.022 total time=   0.0s\n",
      "[CV 3/3] END max_depth=11, max_features=sqrt, max_leaf_nodes=50, min_samples_leaf=9, splitter=best;, score=-0.007 total time=   0.0s\n",
      "[CV 1/3] END max_depth=11, max_features=sqrt, max_leaf_nodes=50, min_samples_leaf=9, splitter=random;, score=-0.063 total time=   0.0s\n",
      "[CV 2/3] END max_depth=11, max_features=sqrt, max_leaf_nodes=50, min_samples_leaf=9, splitter=random;, score=-0.057 total time=   0.0s\n",
      "[CV 3/3] END max_depth=11, max_features=sqrt, max_leaf_nodes=50, min_samples_leaf=9, splitter=random;, score=-0.082 total time=   0.0s\n",
      "[CV 1/3] END max_depth=11, max_features=sqrt, max_leaf_nodes=70, min_samples_leaf=1, splitter=best;, score=-0.035 total time=   0.0s\n",
      "[CV 2/3] END max_depth=11, max_features=sqrt, max_leaf_nodes=70, min_samples_leaf=1, splitter=best;, score=-0.019 total time=   0.0s\n",
      "[CV 3/3] END max_depth=11, max_features=sqrt, max_leaf_nodes=70, min_samples_leaf=1, splitter=best;, score=-0.010 total time=   0.0s\n",
      "[CV 1/3] END max_depth=11, max_features=sqrt, max_leaf_nodes=70, min_samples_leaf=1, splitter=random;, score=-0.044 total time=   0.0s\n",
      "[CV 2/3] END max_depth=11, max_features=sqrt, max_leaf_nodes=70, min_samples_leaf=1, splitter=random;, score=-0.020 total time=   0.0s\n",
      "[CV 3/3] END max_depth=11, max_features=sqrt, max_leaf_nodes=70, min_samples_leaf=1, splitter=random;, score=-0.020 total time=   0.0s\n",
      "[CV 1/3] END max_depth=11, max_features=sqrt, max_leaf_nodes=70, min_samples_leaf=3, splitter=best;, score=-0.011 total time=   0.0s\n",
      "[CV 2/3] END max_depth=11, max_features=sqrt, max_leaf_nodes=70, min_samples_leaf=3, splitter=best;, score=-0.008 total time=   0.0s\n",
      "[CV 3/3] END max_depth=11, max_features=sqrt, max_leaf_nodes=70, min_samples_leaf=3, splitter=best;, score=-0.008 total time=   0.0s\n",
      "[CV 1/3] END max_depth=11, max_features=sqrt, max_leaf_nodes=70, min_samples_leaf=3, splitter=random;, score=-0.052 total time=   0.0s\n",
      "[CV 2/3] END max_depth=11, max_features=sqrt, max_leaf_nodes=70, min_samples_leaf=3, splitter=random;, score=-0.033 total time=   0.0s\n",
      "[CV 3/3] END max_depth=11, max_features=sqrt, max_leaf_nodes=70, min_samples_leaf=3, splitter=random;, score=-0.047 total time=   0.0s\n",
      "[CV 1/3] END max_depth=11, max_features=sqrt, max_leaf_nodes=70, min_samples_leaf=5, splitter=best;, score=-0.029 total time=   0.0s\n",
      "[CV 2/3] END max_depth=11, max_features=sqrt, max_leaf_nodes=70, min_samples_leaf=5, splitter=best;, score=-0.007 total time=   0.0s\n",
      "[CV 3/3] END max_depth=11, max_features=sqrt, max_leaf_nodes=70, min_samples_leaf=5, splitter=best;, score=-0.016 total time=   0.0s\n",
      "[CV 1/3] END max_depth=11, max_features=sqrt, max_leaf_nodes=70, min_samples_leaf=5, splitter=random;, score=-0.066 total time=   0.0s\n",
      "[CV 2/3] END max_depth=11, max_features=sqrt, max_leaf_nodes=70, min_samples_leaf=5, splitter=random;, score=-0.052 total time=   0.0s\n",
      "[CV 3/3] END max_depth=11, max_features=sqrt, max_leaf_nodes=70, min_samples_leaf=5, splitter=random;, score=-0.028 total time=   0.0s\n",
      "[CV 1/3] END max_depth=11, max_features=sqrt, max_leaf_nodes=70, min_samples_leaf=7, splitter=best;, score=-0.007 total time=   0.0s\n",
      "[CV 2/3] END max_depth=11, max_features=sqrt, max_leaf_nodes=70, min_samples_leaf=7, splitter=best;, score=-0.003 total time=   0.0s\n",
      "[CV 3/3] END max_depth=11, max_features=sqrt, max_leaf_nodes=70, min_samples_leaf=7, splitter=best;, score=-0.016 total time=   0.0s\n",
      "[CV 1/3] END max_depth=11, max_features=sqrt, max_leaf_nodes=70, min_samples_leaf=7, splitter=random;, score=-0.033 total time=   0.0s\n",
      "[CV 2/3] END max_depth=11, max_features=sqrt, max_leaf_nodes=70, min_samples_leaf=7, splitter=random;, score=-0.050 total time=   0.0s\n",
      "[CV 3/3] END max_depth=11, max_features=sqrt, max_leaf_nodes=70, min_samples_leaf=7, splitter=random;, score=-0.039 total time=   0.0s\n",
      "[CV 1/3] END max_depth=11, max_features=sqrt, max_leaf_nodes=70, min_samples_leaf=9, splitter=best;, score=-0.024 total time=   0.0s\n",
      "[CV 2/3] END max_depth=11, max_features=sqrt, max_leaf_nodes=70, min_samples_leaf=9, splitter=best;, score=-0.005 total time=   0.0s\n",
      "[CV 3/3] END max_depth=11, max_features=sqrt, max_leaf_nodes=70, min_samples_leaf=9, splitter=best;, score=-0.011 total time=   0.0s\n",
      "[CV 1/3] END max_depth=11, max_features=sqrt, max_leaf_nodes=70, min_samples_leaf=9, splitter=random;, score=-0.073 total time=   0.0s\n",
      "[CV 2/3] END max_depth=11, max_features=sqrt, max_leaf_nodes=70, min_samples_leaf=9, splitter=random;, score=-0.031 total time=   0.0s\n",
      "[CV 3/3] END max_depth=11, max_features=sqrt, max_leaf_nodes=70, min_samples_leaf=9, splitter=random;, score=-0.071 total time=   0.0s\n",
      "[CV 1/3] END max_depth=12, max_features=log2, max_leaf_nodes=10, min_samples_leaf=1, splitter=best;, score=-0.006 total time=   0.0s\n",
      "[CV 2/3] END max_depth=12, max_features=log2, max_leaf_nodes=10, min_samples_leaf=1, splitter=best;, score=-0.021 total time=   0.0s\n",
      "[CV 3/3] END max_depth=12, max_features=log2, max_leaf_nodes=10, min_samples_leaf=1, splitter=best;, score=-0.052 total time=   0.0s\n",
      "[CV 1/3] END max_depth=12, max_features=log2, max_leaf_nodes=10, min_samples_leaf=1, splitter=random;, score=-0.091 total time=   0.0s\n",
      "[CV 2/3] END max_depth=12, max_features=log2, max_leaf_nodes=10, min_samples_leaf=1, splitter=random;, score=-0.080 total time=   0.0s\n",
      "[CV 3/3] END max_depth=12, max_features=log2, max_leaf_nodes=10, min_samples_leaf=1, splitter=random;, score=-0.079 total time=   0.0s\n",
      "[CV 1/3] END max_depth=12, max_features=log2, max_leaf_nodes=10, min_samples_leaf=3, splitter=best;, score=-0.073 total time=   0.0s\n",
      "[CV 2/3] END max_depth=12, max_features=log2, max_leaf_nodes=10, min_samples_leaf=3, splitter=best;, score=-0.018 total time=   0.0s\n",
      "[CV 3/3] END max_depth=12, max_features=log2, max_leaf_nodes=10, min_samples_leaf=3, splitter=best;, score=-0.072 total time=   0.0s\n",
      "[CV 1/3] END max_depth=12, max_features=log2, max_leaf_nodes=10, min_samples_leaf=3, splitter=random;, score=-0.034 total time=   0.0s\n",
      "[CV 2/3] END max_depth=12, max_features=log2, max_leaf_nodes=10, min_samples_leaf=3, splitter=random;, score=-0.076 total time=   0.0s\n",
      "[CV 3/3] END max_depth=12, max_features=log2, max_leaf_nodes=10, min_samples_leaf=3, splitter=random;, score=-0.076 total time=   0.0s\n",
      "[CV 1/3] END max_depth=12, max_features=log2, max_leaf_nodes=10, min_samples_leaf=5, splitter=best;, score=-0.015 total time=   0.0s\n",
      "[CV 2/3] END max_depth=12, max_features=log2, max_leaf_nodes=10, min_samples_leaf=5, splitter=best;, score=-0.063 total time=   0.0s\n"
     ]
    },
    {
     "name": "stdout",
     "output_type": "stream",
     "text": [
      "[CV 3/3] END max_depth=12, max_features=log2, max_leaf_nodes=10, min_samples_leaf=5, splitter=best;, score=-0.021 total time=   0.0s\n",
      "[CV 1/3] END max_depth=12, max_features=log2, max_leaf_nodes=10, min_samples_leaf=5, splitter=random;, score=-0.062 total time=   0.0s\n",
      "[CV 2/3] END max_depth=12, max_features=log2, max_leaf_nodes=10, min_samples_leaf=5, splitter=random;, score=-0.086 total time=   0.0s\n",
      "[CV 3/3] END max_depth=12, max_features=log2, max_leaf_nodes=10, min_samples_leaf=5, splitter=random;, score=-0.067 total time=   0.0s\n",
      "[CV 1/3] END max_depth=12, max_features=log2, max_leaf_nodes=10, min_samples_leaf=7, splitter=best;, score=-0.052 total time=   0.0s\n",
      "[CV 2/3] END max_depth=12, max_features=log2, max_leaf_nodes=10, min_samples_leaf=7, splitter=best;, score=-0.047 total time=   0.0s\n",
      "[CV 3/3] END max_depth=12, max_features=log2, max_leaf_nodes=10, min_samples_leaf=7, splitter=best;, score=-0.022 total time=   0.0s\n",
      "[CV 1/3] END max_depth=12, max_features=log2, max_leaf_nodes=10, min_samples_leaf=7, splitter=random;, score=-0.070 total time=   0.0s\n",
      "[CV 2/3] END max_depth=12, max_features=log2, max_leaf_nodes=10, min_samples_leaf=7, splitter=random;, score=-0.090 total time=   0.0s\n",
      "[CV 3/3] END max_depth=12, max_features=log2, max_leaf_nodes=10, min_samples_leaf=7, splitter=random;, score=-0.071 total time=   0.0s\n",
      "[CV 1/3] END max_depth=12, max_features=log2, max_leaf_nodes=10, min_samples_leaf=9, splitter=best;, score=-0.026 total time=   0.0s\n",
      "[CV 2/3] END max_depth=12, max_features=log2, max_leaf_nodes=10, min_samples_leaf=9, splitter=best;, score=-0.017 total time=   0.0s\n",
      "[CV 3/3] END max_depth=12, max_features=log2, max_leaf_nodes=10, min_samples_leaf=9, splitter=best;, score=-0.026 total time=   0.0s\n",
      "[CV 1/3] END max_depth=12, max_features=log2, max_leaf_nodes=10, min_samples_leaf=9, splitter=random;, score=-0.090 total time=   0.0s\n",
      "[CV 2/3] END max_depth=12, max_features=log2, max_leaf_nodes=10, min_samples_leaf=9, splitter=random;, score=-0.048 total time=   0.0s\n",
      "[CV 3/3] END max_depth=12, max_features=log2, max_leaf_nodes=10, min_samples_leaf=9, splitter=random;, score=-0.048 total time=   0.0s\n",
      "[CV 1/3] END max_depth=12, max_features=log2, max_leaf_nodes=30, min_samples_leaf=1, splitter=best;, score=-0.014 total time=   0.0s\n",
      "[CV 2/3] END max_depth=12, max_features=log2, max_leaf_nodes=30, min_samples_leaf=1, splitter=best;, score=-0.037 total time=   0.0s\n",
      "[CV 3/3] END max_depth=12, max_features=log2, max_leaf_nodes=30, min_samples_leaf=1, splitter=best;, score=-0.016 total time=   0.0s\n",
      "[CV 1/3] END max_depth=12, max_features=log2, max_leaf_nodes=30, min_samples_leaf=1, splitter=random;, score=-0.079 total time=   0.0s\n",
      "[CV 2/3] END max_depth=12, max_features=log2, max_leaf_nodes=30, min_samples_leaf=1, splitter=random;, score=-0.058 total time=   0.0s\n",
      "[CV 3/3] END max_depth=12, max_features=log2, max_leaf_nodes=30, min_samples_leaf=1, splitter=random;, score=-0.014 total time=   0.0s\n",
      "[CV 1/3] END max_depth=12, max_features=log2, max_leaf_nodes=30, min_samples_leaf=3, splitter=best;, score=-0.021 total time=   0.0s\n",
      "[CV 2/3] END max_depth=12, max_features=log2, max_leaf_nodes=30, min_samples_leaf=3, splitter=best;, score=-0.011 total time=   0.0s\n",
      "[CV 3/3] END max_depth=12, max_features=log2, max_leaf_nodes=30, min_samples_leaf=3, splitter=best;, score=-0.014 total time=   0.0s\n",
      "[CV 1/3] END max_depth=12, max_features=log2, max_leaf_nodes=30, min_samples_leaf=3, splitter=random;, score=-0.074 total time=   0.0s\n",
      "[CV 2/3] END max_depth=12, max_features=log2, max_leaf_nodes=30, min_samples_leaf=3, splitter=random;, score=-0.061 total time=   0.0s\n",
      "[CV 3/3] END max_depth=12, max_features=log2, max_leaf_nodes=30, min_samples_leaf=3, splitter=random;, score=-0.089 total time=   0.0s\n",
      "[CV 1/3] END max_depth=12, max_features=log2, max_leaf_nodes=30, min_samples_leaf=5, splitter=best;, score=-0.012 total time=   0.0s\n",
      "[CV 2/3] END max_depth=12, max_features=log2, max_leaf_nodes=30, min_samples_leaf=5, splitter=best;, score=-0.021 total time=   0.0s\n",
      "[CV 3/3] END max_depth=12, max_features=log2, max_leaf_nodes=30, min_samples_leaf=5, splitter=best;, score=-0.007 total time=   0.0s\n",
      "[CV 1/3] END max_depth=12, max_features=log2, max_leaf_nodes=30, min_samples_leaf=5, splitter=random;, score=-0.029 total time=   0.0s\n",
      "[CV 2/3] END max_depth=12, max_features=log2, max_leaf_nodes=30, min_samples_leaf=5, splitter=random;, score=-0.023 total time=   0.0s\n",
      "[CV 3/3] END max_depth=12, max_features=log2, max_leaf_nodes=30, min_samples_leaf=5, splitter=random;, score=-0.058 total time=   0.0s\n",
      "[CV 1/3] END max_depth=12, max_features=log2, max_leaf_nodes=30, min_samples_leaf=7, splitter=best;, score=-0.041 total time=   0.0s\n",
      "[CV 2/3] END max_depth=12, max_features=log2, max_leaf_nodes=30, min_samples_leaf=7, splitter=best;, score=-0.023 total time=   0.0s\n",
      "[CV 3/3] END max_depth=12, max_features=log2, max_leaf_nodes=30, min_samples_leaf=7, splitter=best;, score=-0.035 total time=   0.0s\n",
      "[CV 1/3] END max_depth=12, max_features=log2, max_leaf_nodes=30, min_samples_leaf=7, splitter=random;, score=-0.023 total time=   0.0s\n",
      "[CV 2/3] END max_depth=12, max_features=log2, max_leaf_nodes=30, min_samples_leaf=7, splitter=random;, score=-0.086 total time=   0.0s\n",
      "[CV 3/3] END max_depth=12, max_features=log2, max_leaf_nodes=30, min_samples_leaf=7, splitter=random;, score=-0.028 total time=   0.0s\n",
      "[CV 1/3] END max_depth=12, max_features=log2, max_leaf_nodes=30, min_samples_leaf=9, splitter=best;, score=-0.033 total time=   0.0s\n",
      "[CV 2/3] END max_depth=12, max_features=log2, max_leaf_nodes=30, min_samples_leaf=9, splitter=best;, score=-0.037 total time=   0.0s\n",
      "[CV 3/3] END max_depth=12, max_features=log2, max_leaf_nodes=30, min_samples_leaf=9, splitter=best;, score=-0.027 total time=   0.0s\n",
      "[CV 1/3] END max_depth=12, max_features=log2, max_leaf_nodes=30, min_samples_leaf=9, splitter=random;, score=-0.057 total time=   0.0s\n",
      "[CV 2/3] END max_depth=12, max_features=log2, max_leaf_nodes=30, min_samples_leaf=9, splitter=random;, score=-0.011 total time=   0.0s\n",
      "[CV 3/3] END max_depth=12, max_features=log2, max_leaf_nodes=30, min_samples_leaf=9, splitter=random;, score=-0.047 total time=   0.0s\n",
      "[CV 1/3] END max_depth=12, max_features=log2, max_leaf_nodes=50, min_samples_leaf=1, splitter=best;, score=-0.002 total time=   0.0s\n",
      "[CV 2/3] END max_depth=12, max_features=log2, max_leaf_nodes=50, min_samples_leaf=1, splitter=best;, score=-0.008 total time=   0.0s\n",
      "[CV 3/3] END max_depth=12, max_features=log2, max_leaf_nodes=50, min_samples_leaf=1, splitter=best;, score=-0.007 total time=   0.0s\n",
      "[CV 1/3] END max_depth=12, max_features=log2, max_leaf_nodes=50, min_samples_leaf=1, splitter=random;, score=-0.065 total time=   0.0s\n",
      "[CV 2/3] END max_depth=12, max_features=log2, max_leaf_nodes=50, min_samples_leaf=1, splitter=random;, score=-0.053 total time=   0.0s\n",
      "[CV 3/3] END max_depth=12, max_features=log2, max_leaf_nodes=50, min_samples_leaf=1, splitter=random;, score=-0.023 total time=   0.0s\n",
      "[CV 1/3] END max_depth=12, max_features=log2, max_leaf_nodes=50, min_samples_leaf=3, splitter=best;, score=-0.010 total time=   0.0s\n",
      "[CV 2/3] END max_depth=12, max_features=log2, max_leaf_nodes=50, min_samples_leaf=3, splitter=best;, score=-0.012 total time=   0.0s\n",
      "[CV 3/3] END max_depth=12, max_features=log2, max_leaf_nodes=50, min_samples_leaf=3, splitter=best;, score=-0.010 total time=   0.0s\n",
      "[CV 1/3] END max_depth=12, max_features=log2, max_leaf_nodes=50, min_samples_leaf=3, splitter=random;, score=-0.030 total time=   0.0s\n",
      "[CV 2/3] END max_depth=12, max_features=log2, max_leaf_nodes=50, min_samples_leaf=3, splitter=random;, score=-0.023 total time=   0.0s\n",
      "[CV 3/3] END max_depth=12, max_features=log2, max_leaf_nodes=50, min_samples_leaf=3, splitter=random;, score=-0.027 total time=   0.0s\n",
      "[CV 1/3] END max_depth=12, max_features=log2, max_leaf_nodes=50, min_samples_leaf=5, splitter=best;, score=-0.018 total time=   0.0s\n",
      "[CV 2/3] END max_depth=12, max_features=log2, max_leaf_nodes=50, min_samples_leaf=5, splitter=best;, score=-0.007 total time=   0.0s\n",
      "[CV 3/3] END max_depth=12, max_features=log2, max_leaf_nodes=50, min_samples_leaf=5, splitter=best;, score=-0.005 total time=   0.0s\n",
      "[CV 1/3] END max_depth=12, max_features=log2, max_leaf_nodes=50, min_samples_leaf=5, splitter=random;, score=-0.031 total time=   0.0s\n",
      "[CV 2/3] END max_depth=12, max_features=log2, max_leaf_nodes=50, min_samples_leaf=5, splitter=random;, score=-0.015 total time=   0.0s\n",
      "[CV 3/3] END max_depth=12, max_features=log2, max_leaf_nodes=50, min_samples_leaf=5, splitter=random;, score=-0.026 total time=   0.0s\n",
      "[CV 1/3] END max_depth=12, max_features=log2, max_leaf_nodes=50, min_samples_leaf=7, splitter=best;, score=-0.004 total time=   0.0s\n",
      "[CV 2/3] END max_depth=12, max_features=log2, max_leaf_nodes=50, min_samples_leaf=7, splitter=best;, score=-0.022 total time=   0.0s\n",
      "[CV 3/3] END max_depth=12, max_features=log2, max_leaf_nodes=50, min_samples_leaf=7, splitter=best;, score=-0.019 total time=   0.0s\n",
      "[CV 1/3] END max_depth=12, max_features=log2, max_leaf_nodes=50, min_samples_leaf=7, splitter=random;, score=-0.056 total time=   0.0s\n",
      "[CV 2/3] END max_depth=12, max_features=log2, max_leaf_nodes=50, min_samples_leaf=7, splitter=random;, score=-0.060 total time=   0.0s\n",
      "[CV 3/3] END max_depth=12, max_features=log2, max_leaf_nodes=50, min_samples_leaf=7, splitter=random;, score=-0.085 total time=   0.0s\n",
      "[CV 1/3] END max_depth=12, max_features=log2, max_leaf_nodes=50, min_samples_leaf=9, splitter=best;, score=-0.008 total time=   0.0s\n",
      "[CV 2/3] END max_depth=12, max_features=log2, max_leaf_nodes=50, min_samples_leaf=9, splitter=best;, score=-0.021 total time=   0.0s\n",
      "[CV 3/3] END max_depth=12, max_features=log2, max_leaf_nodes=50, min_samples_leaf=9, splitter=best;, score=-0.009 total time=   0.0s\n",
      "[CV 1/3] END max_depth=12, max_features=log2, max_leaf_nodes=50, min_samples_leaf=9, splitter=random;, score=-0.011 total time=   0.0s\n",
      "[CV 2/3] END max_depth=12, max_features=log2, max_leaf_nodes=50, min_samples_leaf=9, splitter=random;, score=-0.021 total time=   0.0s\n",
      "[CV 3/3] END max_depth=12, max_features=log2, max_leaf_nodes=50, min_samples_leaf=9, splitter=random;, score=-0.027 total time=   0.0s\n",
      "[CV 1/3] END max_depth=12, max_features=log2, max_leaf_nodes=70, min_samples_leaf=1, splitter=best;, score=-0.014 total time=   0.0s\n",
      "[CV 2/3] END max_depth=12, max_features=log2, max_leaf_nodes=70, min_samples_leaf=1, splitter=best;, score=-0.010 total time=   0.0s\n"
     ]
    },
    {
     "name": "stdout",
     "output_type": "stream",
     "text": [
      "[CV 3/3] END max_depth=12, max_features=log2, max_leaf_nodes=70, min_samples_leaf=1, splitter=best;, score=-0.025 total time=   0.0s\n",
      "[CV 1/3] END max_depth=12, max_features=log2, max_leaf_nodes=70, min_samples_leaf=1, splitter=random;, score=-0.035 total time=   0.0s\n",
      "[CV 2/3] END max_depth=12, max_features=log2, max_leaf_nodes=70, min_samples_leaf=1, splitter=random;, score=-0.083 total time=   0.0s\n",
      "[CV 3/3] END max_depth=12, max_features=log2, max_leaf_nodes=70, min_samples_leaf=1, splitter=random;, score=-0.028 total time=   0.0s\n",
      "[CV 1/3] END max_depth=12, max_features=log2, max_leaf_nodes=70, min_samples_leaf=3, splitter=best;, score=-0.015 total time=   0.0s\n",
      "[CV 2/3] END max_depth=12, max_features=log2, max_leaf_nodes=70, min_samples_leaf=3, splitter=best;, score=-0.022 total time=   0.0s\n",
      "[CV 3/3] END max_depth=12, max_features=log2, max_leaf_nodes=70, min_samples_leaf=3, splitter=best;, score=-0.025 total time=   0.0s\n",
      "[CV 1/3] END max_depth=12, max_features=log2, max_leaf_nodes=70, min_samples_leaf=3, splitter=random;, score=-0.052 total time=   0.0s\n",
      "[CV 2/3] END max_depth=12, max_features=log2, max_leaf_nodes=70, min_samples_leaf=3, splitter=random;, score=-0.027 total time=   0.0s\n",
      "[CV 3/3] END max_depth=12, max_features=log2, max_leaf_nodes=70, min_samples_leaf=3, splitter=random;, score=-0.061 total time=   0.0s\n",
      "[CV 1/3] END max_depth=12, max_features=log2, max_leaf_nodes=70, min_samples_leaf=5, splitter=best;, score=-0.002 total time=   0.0s\n",
      "[CV 2/3] END max_depth=12, max_features=log2, max_leaf_nodes=70, min_samples_leaf=5, splitter=best;, score=-0.021 total time=   0.0s\n",
      "[CV 3/3] END max_depth=12, max_features=log2, max_leaf_nodes=70, min_samples_leaf=5, splitter=best;, score=-0.010 total time=   0.0s\n",
      "[CV 1/3] END max_depth=12, max_features=log2, max_leaf_nodes=70, min_samples_leaf=5, splitter=random;, score=-0.019 total time=   0.0s\n",
      "[CV 2/3] END max_depth=12, max_features=log2, max_leaf_nodes=70, min_samples_leaf=5, splitter=random;, score=-0.058 total time=   0.0s\n",
      "[CV 3/3] END max_depth=12, max_features=log2, max_leaf_nodes=70, min_samples_leaf=5, splitter=random;, score=-0.024 total time=   0.0s\n",
      "[CV 1/3] END max_depth=12, max_features=log2, max_leaf_nodes=70, min_samples_leaf=7, splitter=best;, score=-0.024 total time=   0.0s\n",
      "[CV 2/3] END max_depth=12, max_features=log2, max_leaf_nodes=70, min_samples_leaf=7, splitter=best;, score=-0.008 total time=   0.0s\n",
      "[CV 3/3] END max_depth=12, max_features=log2, max_leaf_nodes=70, min_samples_leaf=7, splitter=best;, score=-0.009 total time=   0.0s\n",
      "[CV 1/3] END max_depth=12, max_features=log2, max_leaf_nodes=70, min_samples_leaf=7, splitter=random;, score=-0.022 total time=   0.0s\n",
      "[CV 2/3] END max_depth=12, max_features=log2, max_leaf_nodes=70, min_samples_leaf=7, splitter=random;, score=-0.042 total time=   0.0s\n",
      "[CV 3/3] END max_depth=12, max_features=log2, max_leaf_nodes=70, min_samples_leaf=7, splitter=random;, score=-0.048 total time=   0.0s\n",
      "[CV 1/3] END max_depth=12, max_features=log2, max_leaf_nodes=70, min_samples_leaf=9, splitter=best;, score=-0.006 total time=   0.0s\n",
      "[CV 2/3] END max_depth=12, max_features=log2, max_leaf_nodes=70, min_samples_leaf=9, splitter=best;, score=-0.006 total time=   0.0s\n",
      "[CV 3/3] END max_depth=12, max_features=log2, max_leaf_nodes=70, min_samples_leaf=9, splitter=best;, score=-0.004 total time=   0.0s\n",
      "[CV 1/3] END max_depth=12, max_features=log2, max_leaf_nodes=70, min_samples_leaf=9, splitter=random;, score=-0.026 total time=   0.0s\n",
      "[CV 2/3] END max_depth=12, max_features=log2, max_leaf_nodes=70, min_samples_leaf=9, splitter=random;, score=-0.054 total time=   0.0s\n",
      "[CV 3/3] END max_depth=12, max_features=log2, max_leaf_nodes=70, min_samples_leaf=9, splitter=random;, score=-0.015 total time=   0.0s\n",
      "[CV 1/3] END max_depth=12, max_features=sqrt, max_leaf_nodes=10, min_samples_leaf=1, splitter=best;, score=-0.072 total time=   0.0s\n",
      "[CV 2/3] END max_depth=12, max_features=sqrt, max_leaf_nodes=10, min_samples_leaf=1, splitter=best;, score=-0.030 total time=   0.0s\n",
      "[CV 3/3] END max_depth=12, max_features=sqrt, max_leaf_nodes=10, min_samples_leaf=1, splitter=best;, score=-0.057 total time=   0.0s\n",
      "[CV 1/3] END max_depth=12, max_features=sqrt, max_leaf_nodes=10, min_samples_leaf=1, splitter=random;, score=-0.094 total time=   0.0s\n",
      "[CV 2/3] END max_depth=12, max_features=sqrt, max_leaf_nodes=10, min_samples_leaf=1, splitter=random;, score=-0.090 total time=   0.0s\n",
      "[CV 3/3] END max_depth=12, max_features=sqrt, max_leaf_nodes=10, min_samples_leaf=1, splitter=random;, score=-0.090 total time=   0.0s\n",
      "[CV 1/3] END max_depth=12, max_features=sqrt, max_leaf_nodes=10, min_samples_leaf=3, splitter=best;, score=-0.012 total time=   0.0s\n",
      "[CV 2/3] END max_depth=12, max_features=sqrt, max_leaf_nodes=10, min_samples_leaf=3, splitter=best;, score=-0.057 total time=   0.0s\n",
      "[CV 3/3] END max_depth=12, max_features=sqrt, max_leaf_nodes=10, min_samples_leaf=3, splitter=best;, score=-0.029 total time=   0.0s\n",
      "[CV 1/3] END max_depth=12, max_features=sqrt, max_leaf_nodes=10, min_samples_leaf=3, splitter=random;, score=-0.029 total time=   0.0s\n",
      "[CV 2/3] END max_depth=12, max_features=sqrt, max_leaf_nodes=10, min_samples_leaf=3, splitter=random;, score=-0.086 total time=   0.0s\n",
      "[CV 3/3] END max_depth=12, max_features=sqrt, max_leaf_nodes=10, min_samples_leaf=3, splitter=random;, score=-0.091 total time=   0.0s\n",
      "[CV 1/3] END max_depth=12, max_features=sqrt, max_leaf_nodes=10, min_samples_leaf=5, splitter=best;, score=-0.057 total time=   0.0s\n",
      "[CV 2/3] END max_depth=12, max_features=sqrt, max_leaf_nodes=10, min_samples_leaf=5, splitter=best;, score=-0.028 total time=   0.0s\n",
      "[CV 3/3] END max_depth=12, max_features=sqrt, max_leaf_nodes=10, min_samples_leaf=5, splitter=best;, score=-0.027 total time=   0.0s\n",
      "[CV 1/3] END max_depth=12, max_features=sqrt, max_leaf_nodes=10, min_samples_leaf=5, splitter=random;, score=-0.093 total time=   0.0s\n",
      "[CV 2/3] END max_depth=12, max_features=sqrt, max_leaf_nodes=10, min_samples_leaf=5, splitter=random;, score=-0.079 total time=   0.0s\n",
      "[CV 3/3] END max_depth=12, max_features=sqrt, max_leaf_nodes=10, min_samples_leaf=5, splitter=random;, score=-0.087 total time=   0.0s\n",
      "[CV 1/3] END max_depth=12, max_features=sqrt, max_leaf_nodes=10, min_samples_leaf=7, splitter=best;, score=-0.052 total time=   0.0s\n",
      "[CV 2/3] END max_depth=12, max_features=sqrt, max_leaf_nodes=10, min_samples_leaf=7, splitter=best;, score=-0.008 total time=   0.0s\n",
      "[CV 3/3] END max_depth=12, max_features=sqrt, max_leaf_nodes=10, min_samples_leaf=7, splitter=best;, score=-0.020 total time=   0.0s\n",
      "[CV 1/3] END max_depth=12, max_features=sqrt, max_leaf_nodes=10, min_samples_leaf=7, splitter=random;, score=-0.089 total time=   0.0s\n",
      "[CV 2/3] END max_depth=12, max_features=sqrt, max_leaf_nodes=10, min_samples_leaf=7, splitter=random;, score=-0.048 total time=   0.0s\n",
      "[CV 3/3] END max_depth=12, max_features=sqrt, max_leaf_nodes=10, min_samples_leaf=7, splitter=random;, score=-0.034 total time=   0.0s\n",
      "[CV 1/3] END max_depth=12, max_features=sqrt, max_leaf_nodes=10, min_samples_leaf=9, splitter=best;, score=-0.045 total time=   0.0s\n",
      "[CV 2/3] END max_depth=12, max_features=sqrt, max_leaf_nodes=10, min_samples_leaf=9, splitter=best;, score=-0.061 total time=   0.0s\n",
      "[CV 3/3] END max_depth=12, max_features=sqrt, max_leaf_nodes=10, min_samples_leaf=9, splitter=best;, score=-0.036 total time=   0.0s\n",
      "[CV 1/3] END max_depth=12, max_features=sqrt, max_leaf_nodes=10, min_samples_leaf=9, splitter=random;, score=-0.093 total time=   0.0s\n",
      "[CV 2/3] END max_depth=12, max_features=sqrt, max_leaf_nodes=10, min_samples_leaf=9, splitter=random;, score=-0.090 total time=   0.0s\n",
      "[CV 3/3] END max_depth=12, max_features=sqrt, max_leaf_nodes=10, min_samples_leaf=9, splitter=random;, score=-0.091 total time=   0.0s\n",
      "[CV 1/3] END max_depth=12, max_features=sqrt, max_leaf_nodes=30, min_samples_leaf=1, splitter=best;, score=-0.029 total time=   0.0s\n",
      "[CV 2/3] END max_depth=12, max_features=sqrt, max_leaf_nodes=30, min_samples_leaf=1, splitter=best;, score=-0.028 total time=   0.0s\n",
      "[CV 3/3] END max_depth=12, max_features=sqrt, max_leaf_nodes=30, min_samples_leaf=1, splitter=best;, score=-0.011 total time=   0.0s\n",
      "[CV 1/3] END max_depth=12, max_features=sqrt, max_leaf_nodes=30, min_samples_leaf=1, splitter=random;, score=-0.060 total time=   0.0s\n",
      "[CV 2/3] END max_depth=12, max_features=sqrt, max_leaf_nodes=30, min_samples_leaf=1, splitter=random;, score=-0.058 total time=   0.0s\n",
      "[CV 3/3] END max_depth=12, max_features=sqrt, max_leaf_nodes=30, min_samples_leaf=1, splitter=random;, score=-0.027 total time=   0.0s\n",
      "[CV 1/3] END max_depth=12, max_features=sqrt, max_leaf_nodes=30, min_samples_leaf=3, splitter=best;, score=-0.041 total time=   0.0s\n",
      "[CV 2/3] END max_depth=12, max_features=sqrt, max_leaf_nodes=30, min_samples_leaf=3, splitter=best;, score=-0.012 total time=   0.0s\n",
      "[CV 3/3] END max_depth=12, max_features=sqrt, max_leaf_nodes=30, min_samples_leaf=3, splitter=best;, score=-0.024 total time=   0.0s\n",
      "[CV 1/3] END max_depth=12, max_features=sqrt, max_leaf_nodes=30, min_samples_leaf=3, splitter=random;, score=-0.054 total time=   0.0s\n",
      "[CV 2/3] END max_depth=12, max_features=sqrt, max_leaf_nodes=30, min_samples_leaf=3, splitter=random;, score=-0.010 total time=   0.0s\n",
      "[CV 3/3] END max_depth=12, max_features=sqrt, max_leaf_nodes=30, min_samples_leaf=3, splitter=random;, score=-0.021 total time=   0.0s\n",
      "[CV 1/3] END max_depth=12, max_features=sqrt, max_leaf_nodes=30, min_samples_leaf=5, splitter=best;, score=-0.014 total time=   0.0s\n",
      "[CV 2/3] END max_depth=12, max_features=sqrt, max_leaf_nodes=30, min_samples_leaf=5, splitter=best;, score=-0.034 total time=   0.0s\n",
      "[CV 3/3] END max_depth=12, max_features=sqrt, max_leaf_nodes=30, min_samples_leaf=5, splitter=best;, score=-0.011 total time=   0.0s\n",
      "[CV 1/3] END max_depth=12, max_features=sqrt, max_leaf_nodes=30, min_samples_leaf=5, splitter=random;, score=-0.075 total time=   0.0s\n",
      "[CV 2/3] END max_depth=12, max_features=sqrt, max_leaf_nodes=30, min_samples_leaf=5, splitter=random;, score=-0.022 total time=   0.0s\n",
      "[CV 3/3] END max_depth=12, max_features=sqrt, max_leaf_nodes=30, min_samples_leaf=5, splitter=random;, score=-0.072 total time=   0.0s\n",
      "[CV 1/3] END max_depth=12, max_features=sqrt, max_leaf_nodes=30, min_samples_leaf=7, splitter=best;, score=-0.004 total time=   0.0s\n",
      "[CV 2/3] END max_depth=12, max_features=sqrt, max_leaf_nodes=30, min_samples_leaf=7, splitter=best;, score=-0.019 total time=   0.0s\n",
      "[CV 3/3] END max_depth=12, max_features=sqrt, max_leaf_nodes=30, min_samples_leaf=7, splitter=best;, score=-0.024 total time=   0.0s\n",
      "[CV 1/3] END max_depth=12, max_features=sqrt, max_leaf_nodes=30, min_samples_leaf=7, splitter=random;, score=-0.017 total time=   0.0s\n"
     ]
    },
    {
     "name": "stdout",
     "output_type": "stream",
     "text": [
      "[CV 2/3] END max_depth=12, max_features=sqrt, max_leaf_nodes=30, min_samples_leaf=7, splitter=random;, score=-0.033 total time=   0.0s\n",
      "[CV 3/3] END max_depth=12, max_features=sqrt, max_leaf_nodes=30, min_samples_leaf=7, splitter=random;, score=-0.026 total time=   0.0s\n",
      "[CV 1/3] END max_depth=12, max_features=sqrt, max_leaf_nodes=30, min_samples_leaf=9, splitter=best;, score=-0.016 total time=   0.0s\n",
      "[CV 2/3] END max_depth=12, max_features=sqrt, max_leaf_nodes=30, min_samples_leaf=9, splitter=best;, score=-0.032 total time=   0.0s\n",
      "[CV 3/3] END max_depth=12, max_features=sqrt, max_leaf_nodes=30, min_samples_leaf=9, splitter=best;, score=-0.014 total time=   0.0s\n",
      "[CV 1/3] END max_depth=12, max_features=sqrt, max_leaf_nodes=30, min_samples_leaf=9, splitter=random;, score=-0.077 total time=   0.0s\n",
      "[CV 2/3] END max_depth=12, max_features=sqrt, max_leaf_nodes=30, min_samples_leaf=9, splitter=random;, score=-0.078 total time=   0.0s\n",
      "[CV 3/3] END max_depth=12, max_features=sqrt, max_leaf_nodes=30, min_samples_leaf=9, splitter=random;, score=-0.056 total time=   0.0s\n",
      "[CV 1/3] END max_depth=12, max_features=sqrt, max_leaf_nodes=50, min_samples_leaf=1, splitter=best;, score=-0.012 total time=   0.0s\n",
      "[CV 2/3] END max_depth=12, max_features=sqrt, max_leaf_nodes=50, min_samples_leaf=1, splitter=best;, score=-0.031 total time=   0.0s\n",
      "[CV 3/3] END max_depth=12, max_features=sqrt, max_leaf_nodes=50, min_samples_leaf=1, splitter=best;, score=-0.011 total time=   0.0s\n",
      "[CV 1/3] END max_depth=12, max_features=sqrt, max_leaf_nodes=50, min_samples_leaf=1, splitter=random;, score=-0.019 total time=   0.0s\n",
      "[CV 2/3] END max_depth=12, max_features=sqrt, max_leaf_nodes=50, min_samples_leaf=1, splitter=random;, score=-0.039 total time=   0.0s\n",
      "[CV 3/3] END max_depth=12, max_features=sqrt, max_leaf_nodes=50, min_samples_leaf=1, splitter=random;, score=-0.071 total time=   0.0s\n",
      "[CV 1/3] END max_depth=12, max_features=sqrt, max_leaf_nodes=50, min_samples_leaf=3, splitter=best;, score=-0.009 total time=   0.0s\n",
      "[CV 2/3] END max_depth=12, max_features=sqrt, max_leaf_nodes=50, min_samples_leaf=3, splitter=best;, score=-0.004 total time=   0.0s\n",
      "[CV 3/3] END max_depth=12, max_features=sqrt, max_leaf_nodes=50, min_samples_leaf=3, splitter=best;, score=-0.008 total time=   0.0s\n",
      "[CV 1/3] END max_depth=12, max_features=sqrt, max_leaf_nodes=50, min_samples_leaf=3, splitter=random;, score=-0.040 total time=   0.0s\n",
      "[CV 2/3] END max_depth=12, max_features=sqrt, max_leaf_nodes=50, min_samples_leaf=3, splitter=random;, score=-0.076 total time=   0.0s\n",
      "[CV 3/3] END max_depth=12, max_features=sqrt, max_leaf_nodes=50, min_samples_leaf=3, splitter=random;, score=-0.064 total time=   0.0s\n",
      "[CV 1/3] END max_depth=12, max_features=sqrt, max_leaf_nodes=50, min_samples_leaf=5, splitter=best;, score=-0.016 total time=   0.0s\n",
      "[CV 2/3] END max_depth=12, max_features=sqrt, max_leaf_nodes=50, min_samples_leaf=5, splitter=best;, score=-0.016 total time=   0.0s\n",
      "[CV 3/3] END max_depth=12, max_features=sqrt, max_leaf_nodes=50, min_samples_leaf=5, splitter=best;, score=-0.017 total time=   0.0s\n",
      "[CV 1/3] END max_depth=12, max_features=sqrt, max_leaf_nodes=50, min_samples_leaf=5, splitter=random;, score=-0.046 total time=   0.0s\n",
      "[CV 2/3] END max_depth=12, max_features=sqrt, max_leaf_nodes=50, min_samples_leaf=5, splitter=random;, score=-0.070 total time=   0.0s\n",
      "[CV 3/3] END max_depth=12, max_features=sqrt, max_leaf_nodes=50, min_samples_leaf=5, splitter=random;, score=-0.024 total time=   0.0s\n",
      "[CV 1/3] END max_depth=12, max_features=sqrt, max_leaf_nodes=50, min_samples_leaf=7, splitter=best;, score=-0.014 total time=   0.0s\n",
      "[CV 2/3] END max_depth=12, max_features=sqrt, max_leaf_nodes=50, min_samples_leaf=7, splitter=best;, score=-0.028 total time=   0.0s\n",
      "[CV 3/3] END max_depth=12, max_features=sqrt, max_leaf_nodes=50, min_samples_leaf=7, splitter=best;, score=-0.028 total time=   0.0s\n",
      "[CV 1/3] END max_depth=12, max_features=sqrt, max_leaf_nodes=50, min_samples_leaf=7, splitter=random;, score=-0.047 total time=   0.0s\n",
      "[CV 2/3] END max_depth=12, max_features=sqrt, max_leaf_nodes=50, min_samples_leaf=7, splitter=random;, score=-0.070 total time=   0.0s\n",
      "[CV 3/3] END max_depth=12, max_features=sqrt, max_leaf_nodes=50, min_samples_leaf=7, splitter=random;, score=-0.014 total time=   0.0s\n",
      "[CV 1/3] END max_depth=12, max_features=sqrt, max_leaf_nodes=50, min_samples_leaf=9, splitter=best;, score=-0.011 total time=   0.0s\n",
      "[CV 2/3] END max_depth=12, max_features=sqrt, max_leaf_nodes=50, min_samples_leaf=9, splitter=best;, score=-0.006 total time=   0.0s\n",
      "[CV 3/3] END max_depth=12, max_features=sqrt, max_leaf_nodes=50, min_samples_leaf=9, splitter=best;, score=-0.021 total time=   0.0s\n",
      "[CV 1/3] END max_depth=12, max_features=sqrt, max_leaf_nodes=50, min_samples_leaf=9, splitter=random;, score=-0.027 total time=   0.0s\n",
      "[CV 2/3] END max_depth=12, max_features=sqrt, max_leaf_nodes=50, min_samples_leaf=9, splitter=random;, score=-0.029 total time=   0.0s\n",
      "[CV 3/3] END max_depth=12, max_features=sqrt, max_leaf_nodes=50, min_samples_leaf=9, splitter=random;, score=-0.022 total time=   0.0s\n",
      "[CV 1/3] END max_depth=12, max_features=sqrt, max_leaf_nodes=70, min_samples_leaf=1, splitter=best;, score=-0.019 total time=   0.0s\n",
      "[CV 2/3] END max_depth=12, max_features=sqrt, max_leaf_nodes=70, min_samples_leaf=1, splitter=best;, score=-0.009 total time=   0.0s\n",
      "[CV 3/3] END max_depth=12, max_features=sqrt, max_leaf_nodes=70, min_samples_leaf=1, splitter=best;, score=-0.017 total time=   0.0s\n",
      "[CV 1/3] END max_depth=12, max_features=sqrt, max_leaf_nodes=70, min_samples_leaf=1, splitter=random;, score=-0.028 total time=   0.0s\n",
      "[CV 2/3] END max_depth=12, max_features=sqrt, max_leaf_nodes=70, min_samples_leaf=1, splitter=random;, score=-0.028 total time=   0.0s\n",
      "[CV 3/3] END max_depth=12, max_features=sqrt, max_leaf_nodes=70, min_samples_leaf=1, splitter=random;, score=-0.058 total time=   0.0s\n",
      "[CV 1/3] END max_depth=12, max_features=sqrt, max_leaf_nodes=70, min_samples_leaf=3, splitter=best;, score=-0.005 total time=   0.0s\n",
      "[CV 2/3] END max_depth=12, max_features=sqrt, max_leaf_nodes=70, min_samples_leaf=3, splitter=best;, score=-0.004 total time=   0.0s\n",
      "[CV 3/3] END max_depth=12, max_features=sqrt, max_leaf_nodes=70, min_samples_leaf=3, splitter=best;, score=-0.002 total time=   0.0s\n",
      "[CV 1/3] END max_depth=12, max_features=sqrt, max_leaf_nodes=70, min_samples_leaf=3, splitter=random;, score=-0.068 total time=   0.0s\n",
      "[CV 2/3] END max_depth=12, max_features=sqrt, max_leaf_nodes=70, min_samples_leaf=3, splitter=random;, score=-0.054 total time=   0.0s\n",
      "[CV 3/3] END max_depth=12, max_features=sqrt, max_leaf_nodes=70, min_samples_leaf=3, splitter=random;, score=-0.056 total time=   0.0s\n",
      "[CV 1/3] END max_depth=12, max_features=sqrt, max_leaf_nodes=70, min_samples_leaf=5, splitter=best;, score=-0.015 total time=   0.0s\n",
      "[CV 2/3] END max_depth=12, max_features=sqrt, max_leaf_nodes=70, min_samples_leaf=5, splitter=best;, score=-0.026 total time=   0.0s\n",
      "[CV 3/3] END max_depth=12, max_features=sqrt, max_leaf_nodes=70, min_samples_leaf=5, splitter=best;, score=-0.013 total time=   0.0s\n",
      "[CV 1/3] END max_depth=12, max_features=sqrt, max_leaf_nodes=70, min_samples_leaf=5, splitter=random;, score=-0.016 total time=   0.0s\n",
      "[CV 2/3] END max_depth=12, max_features=sqrt, max_leaf_nodes=70, min_samples_leaf=5, splitter=random;, score=-0.042 total time=   0.0s\n",
      "[CV 3/3] END max_depth=12, max_features=sqrt, max_leaf_nodes=70, min_samples_leaf=5, splitter=random;, score=-0.074 total time=   0.0s\n",
      "[CV 1/3] END max_depth=12, max_features=sqrt, max_leaf_nodes=70, min_samples_leaf=7, splitter=best;, score=-0.005 total time=   0.0s\n",
      "[CV 2/3] END max_depth=12, max_features=sqrt, max_leaf_nodes=70, min_samples_leaf=7, splitter=best;, score=-0.010 total time=   0.0s\n",
      "[CV 3/3] END max_depth=12, max_features=sqrt, max_leaf_nodes=70, min_samples_leaf=7, splitter=best;, score=-0.007 total time=   0.0s\n",
      "[CV 1/3] END max_depth=12, max_features=sqrt, max_leaf_nodes=70, min_samples_leaf=7, splitter=random;, score=-0.034 total time=   0.0s\n",
      "[CV 2/3] END max_depth=12, max_features=sqrt, max_leaf_nodes=70, min_samples_leaf=7, splitter=random;, score=-0.037 total time=   0.0s\n",
      "[CV 3/3] END max_depth=12, max_features=sqrt, max_leaf_nodes=70, min_samples_leaf=7, splitter=random;, score=-0.057 total time=   0.0s\n"
     ]
    },
    {
     "name": "stdout",
     "output_type": "stream",
     "text": [
      "[CV 1/3] END max_depth=12, max_features=sqrt, max_leaf_nodes=70, min_samples_leaf=9, splitter=best;, score=-0.004 total time=   0.0s\n",
      "[CV 2/3] END max_depth=12, max_features=sqrt, max_leaf_nodes=70, min_samples_leaf=9, splitter=best;, score=-0.004 total time=   0.0s\n",
      "[CV 3/3] END max_depth=12, max_features=sqrt, max_leaf_nodes=70, min_samples_leaf=9, splitter=best;, score=-0.015 total time=   0.0s\n",
      "[CV 1/3] END max_depth=12, max_features=sqrt, max_leaf_nodes=70, min_samples_leaf=9, splitter=random;, score=-0.020 total time=   0.0s\n",
      "[CV 2/3] END max_depth=12, max_features=sqrt, max_leaf_nodes=70, min_samples_leaf=9, splitter=random;, score=-0.054 total time=   0.0s\n",
      "[CV 3/3] END max_depth=12, max_features=sqrt, max_leaf_nodes=70, min_samples_leaf=9, splitter=random;, score=-0.057 total time=   0.0s\n"
     ]
    },
    {
     "data": {
      "text/plain": [
       "{'max_depth': 12,\n",
       " 'max_features': 'sqrt',\n",
       " 'max_leaf_nodes': 70,\n",
       " 'min_samples_leaf': 3,\n",
       " 'splitter': 'best'}"
      ]
     },
     "execution_count": 51,
     "metadata": {},
     "output_type": "execute_result"
    }
   ],
   "source": [
    "from sklearn.model_selection import GridSearchCV\n",
    "#parameter tuning using gridsearch\n",
    "parameters={\"splitter\":[\"best\",\"random\"],\n",
    "            \"max_depth\" : [1,3,5,7,9,11,12],\n",
    "           \"min_samples_leaf\":[1,3,5,7,9],\n",
    "           \"max_features\":[\"log2\",\"sqrt\"],\n",
    "           \"max_leaf_nodes\":[10,30,50,70] }\n",
    "\n",
    "tuning_model=GridSearchCV(DT_model,param_grid=parameters,scoring='neg_mean_squared_error',cv=3,verbose=3)\n",
    "tuning_model.fit(x_train,y_train)\n",
    "#best parameters\n",
    "tuning_model.best_params_"
   ]
  },
  {
   "cell_type": "code",
   "execution_count": 52,
   "id": "8a641c0e",
   "metadata": {},
   "outputs": [
    {
     "name": "stdout",
     "output_type": "stream",
     "text": [
      "Training evaluation\n",
      "R2 score: 0.99\n",
      "Mean absolute error: 0.02\n",
      "Mean squared error: 0.00\n",
      "Root Mean squared error: 0.03\n",
      "\n",
      "Test set evaluation\n",
      "R2 score: 0.99\n",
      "Mean absolute error: 0.02\n",
      "Mean squared error: 0.00\n",
      "Root Mean squared error: 0.03\n"
     ]
    }
   ],
   "source": [
    "hp_DT_model = DecisionTreeRegressor(max_depth=12,\n",
    " max_features='sqrt',\n",
    " max_leaf_nodes= 70,\n",
    " min_samples_leaf= 7,\n",
    " splitter= 'best') \n",
    "  \n",
    "#Training the model\n",
    "hp_DT_model.fit(x_train, y_train)\n",
    "hp_DT_trained = hp_DT_model.predict(x_train)\n",
    "print(\"Training evaluation\")\n",
    "print(\"R2 score: %.2f\" %r2_score(y_train, hp_DT_trained))\n",
    "print(\"Mean absolute error: %.2f\" %mean_absolute_error(y_train,hp_DT_trained))\n",
    "print(\"Mean squared error: %.2f\" %mean_squared_error(y_train, hp_DT_trained))\n",
    "print(\"Root Mean squared error: %.2f\" %math.sqrt(mean_squared_error(y_train,hp_DT_trained)))\n",
    "\n",
    "#Testing the model\n",
    "hp_DT_test = hp_DT_model.predict(x_test)\n",
    "print(\"\\nTest set evaluation\")\n",
    "print(\"R2 score: %.2f\" %r2_score(y_test,hp_DT_test))\n",
    "print(\"Mean absolute error: %.2f\" %mean_absolute_error(y_test,hp_DT_test))\n",
    "print(\"Mean squared error: %.2f\" %mean_squared_error(y_test,hp_DT_test))\n",
    "print(\"Root Mean squared error: %.2f\" %math.sqrt(mean_squared_error(y_test,hp_DT_test)))\n",
    "\n",
    "hp_R2_score.append(r2_score(y_test, hp_DT_test))\n",
    "hp_reg_model.append(\"Decision Tree Regression\")"
   ]
  },
  {
   "cell_type": "markdown",
   "id": "655114eb",
   "metadata": {},
   "source": [
    "# Random Forest Regression"
   ]
  },
  {
   "cell_type": "code",
   "execution_count": 53,
   "id": "c9596435",
   "metadata": {},
   "outputs": [
    {
     "name": "stdout",
     "output_type": "stream",
     "text": [
      "Fitting 5 folds for each of 10 candidates, totalling 50 fits\n"
     ]
    },
    {
     "data": {
      "text/plain": [
       "{'n_estimators': 600,\n",
       " 'max_features': 'sqrt',\n",
       " 'max_depth': 11,\n",
       " 'bootstrap': False}"
      ]
     },
     "execution_count": 53,
     "metadata": {},
     "output_type": "execute_result"
    }
   ],
   "source": [
    "from sklearn.model_selection import RandomizedSearchCV\n",
    "#parameters\n",
    "random_grid={'bootstrap': [True, False],\n",
    " 'max_depth': [1,3,5,7,9,11],\n",
    " 'max_features': ['sqrt','log2'],\n",
    " 'n_estimators': [200, 400, 600]}\n",
    "#parameter tuning using Random search grid\n",
    "rf_random = RandomizedSearchCV(estimator = RF,param_distributions = random_grid,\n",
    "             cv = 5, verbose=2, random_state=35, n_jobs = -1)\n",
    "rf_random.fit(x_train,y_train)\n",
    "#best parameters\n",
    "rf_random.best_params_"
   ]
  },
  {
   "cell_type": "code",
   "execution_count": 54,
   "id": "390a9d98",
   "metadata": {},
   "outputs": [
    {
     "name": "stdout",
     "output_type": "stream",
     "text": [
      "Training evaluation\n",
      "R2 score: 0.99\n",
      "Mean absolute error: 0.02\n",
      "Mean squared error: 0.00\n",
      "Root Mean squared error: 0.03\n",
      "\n",
      "Test set evaluation\n",
      "R2 score: 0.99\n",
      "Mean absolute error: 0.02\n",
      "Mean squared error: 0.00\n",
      "Root Mean squared error: 0.04\n"
     ]
    }
   ],
   "source": [
    "hp_RF=RandomForestRegressor(n_estimators=600,\n",
    " max_features='sqrt',\n",
    " max_depth= 11,\n",
    " bootstrap=False).fit(x_train,y_train)\n",
    "\n",
    "#training the model\n",
    "hp_RF_trained=hp_RF.predict(x_train)\n",
    "print(\"Training evaluation\")\n",
    "print(\"R2 score: %.2f\" %r2_score(y_train,hp_RF_trained))\n",
    "print(\"Mean absolute error: %.2f\" %mean_absolute_error(y_train,hp_RF_trained))\n",
    "print(\"Mean squared error: %.2f\" %mean_squared_error(y_train,hp_RF_trained))\n",
    "print(\"Root Mean squared error: %.2f\" %math.sqrt(mean_squared_error(y_train,hp_RF_trained)))\n",
    "\n",
    "#testing the model\n",
    "hp_RF_test=hp_RF.predict(x_test)\n",
    "print(\"\\nTest set evaluation\")\n",
    "print(\"R2 score: %.2f\" %r2_score(y_test,hp_RF_test))\n",
    "print(\"Mean absolute error: %.2f\" %mean_absolute_error(y_test,hp_RF_test))\n",
    "print(\"Mean squared error: %.2f\" %mean_squared_error(y_test,hp_RF_test))\n",
    "print(\"Root Mean squared error: %.2f\" %math.sqrt(mean_squared_error(y_test,hp_RF_test)))\n",
    "\n",
    "hp_R2_score.append(r2_score(y_test, hp_RF_test))\n",
    "hp_reg_model.append(\"Random Forest Regression\")"
   ]
  },
  {
   "cell_type": "markdown",
   "id": "2fe1ec78",
   "metadata": {},
   "source": [
    "# Support Vector Regression"
   ]
  },
  {
   "cell_type": "code",
   "execution_count": null,
   "id": "4d732cb1",
   "metadata": {},
   "outputs": [],
   "source": [
    "#parameters\n",
    "param_grid = {'C': [10,50,100], 'gamma': [1,0.1],'kernel': ['rbf', 'poly', 'sigmoid']}\n",
    "#using random searcg grid\n",
    "SVR_random = RandomizedSearchCV(estimator = regressor,param_distributions = param_grid,\n",
    "             cv = 5, verbose=2, random_state=35, n_jobs = -1)\n",
    "SVR_random.fit(x_train,y_train)\n",
    "#best parameters\n",
    "SVR_random.best_params_"
   ]
  },
  {
   "cell_type": "code",
   "execution_count": 55,
   "id": "7be4ca69",
   "metadata": {},
   "outputs": [
    {
     "name": "stdout",
     "output_type": "stream",
     "text": [
      "Training evaluation\n",
      "R2 score: 0.83\n",
      "Mean absolute error: 0.09\n",
      "Mean squared error: 0.02\n",
      "Root Mean squared error: 0.13\n",
      "\n",
      "Test set evaluation\n",
      "R2 score: 0.85\n",
      "Mean absolute error: 0.09\n",
      "Mean squared error: 0.01\n",
      "Root Mean squared error: 0.12\n"
     ]
    }
   ],
   "source": [
    "hp_regressor = SVR(kernel='rbf',C=100,gamma=1) \n",
    "  \n",
    "#Training the model\n",
    "hp_regressor.fit(x_train,y_train)\n",
    "hp_SVR_trained = hp_regressor.predict(x_train)\n",
    "print(\"Training evaluation\")\n",
    "print(\"R2 score: %.2f\" %r2_score(y_train, hp_SVR_trained))\n",
    "print(\"Mean absolute error: %.2f\" %mean_absolute_error(y_train, hp_SVR_trained))\n",
    "print(\"Mean squared error: %.2f\" %mean_squared_error(y_train, hp_SVR_trained))\n",
    "print(\"Root Mean squared error: %.2f\" %math.sqrt(mean_squared_error(y_train,hp_SVR_trained)))\n",
    "\n",
    "#Testing the model\n",
    "hp_SVR_test = hp_regressor.predict(x_test)\n",
    "print(\"\\nTest set evaluation\")\n",
    "print(\"R2 score: %.2f\" %r2_score(y_test,hp_SVR_test))\n",
    "print(\"Mean absolute error: %.2f\" %mean_absolute_error(y_test,hp_SVR_test))\n",
    "print(\"Mean squared error: %.2f\" %mean_squared_error(y_test, hp_SVR_test))\n",
    "print(\"Root Mean squared error: %.2f\" %math.sqrt(mean_squared_error(y_test,hp_SVR_test)))\n",
    "\n",
    "hp_R2_score.append(r2_score(y_test, hp_SVR_test))\n",
    "hp_reg_model.append(\"Support Vector Regression\")"
   ]
  },
  {
   "cell_type": "markdown",
   "id": "91f8e17b",
   "metadata": {},
   "source": [
    "# Adaptive Boosting"
   ]
  },
  {
   "cell_type": "code",
   "execution_count": 56,
   "id": "2c0f417f",
   "metadata": {},
   "outputs": [
    {
     "name": "stdout",
     "output_type": "stream",
     "text": [
      "[CV] END bootstrap=False, max_depth=7, max_features=sqrt, n_estimators=200; total time=   2.0s\n",
      "[CV] END bootstrap=False, max_depth=9, max_features=sqrt, n_estimators=600; total time=   7.0s\n",
      "[CV] END bootstrap=False, max_depth=1, max_features=sqrt, n_estimators=400; total time=   1.4s\n",
      "[CV] END bootstrap=False, max_depth=1, max_features=sqrt, n_estimators=400; total time=   1.4s\n",
      "[CV] END bootstrap=True, max_depth=9, max_features=log2, n_estimators=400; total time=   3.8s\n",
      "[CV] END bootstrap=False, max_depth=11, max_features=sqrt, n_estimators=600; total time=  13.0s\n",
      "[CV] END bootstrap=False, max_depth=11, max_features=sqrt, n_estimators=600; total time=  13.0s\n",
      "[CV] END bootstrap=False, max_depth=3, max_features=sqrt, n_estimators=200; total time=   1.9s\n",
      "[CV] END bootstrap=False, max_depth=3, max_features=sqrt, n_estimators=200; total time=   1.3s\n",
      "[CV] END bootstrap=False, max_depth=3, max_features=log2, n_estimators=400; total time=   2.0s\n",
      "[CV] END bootstrap=False, max_depth=9, max_features=log2, n_estimators=600; total time=   6.5s\n",
      "[CV] END bootstrap=False, max_depth=5, max_features=log2, n_estimators=200; total time=   2.1s\n",
      "[CV] END bootstrap=False, max_depth=5, max_features=log2, n_estimators=200; total time=   1.3s\n",
      "[CV] END bootstrap=False, max_depth=7, max_features=sqrt, n_estimators=200; total time=   2.0s\n",
      "[CV] END bootstrap=False, max_depth=9, max_features=sqrt, n_estimators=600; total time=   7.1s\n",
      "[CV] END bootstrap=False, max_depth=1, max_features=sqrt, n_estimators=400; total time=   1.4s\n",
      "[CV] END bootstrap=False, max_depth=1, max_features=sqrt, n_estimators=400; total time=   1.2s\n",
      "[CV] END bootstrap=True, max_depth=9, max_features=log2, n_estimators=400; total time=   3.8s\n",
      "[CV] END bootstrap=True, max_depth=9, max_features=log2, n_estimators=400; total time=   5.2s\n",
      "[CV] END bootstrap=False, max_depth=11, max_features=sqrt, n_estimators=600; total time=  13.1s\n",
      "[CV] END bootstrap=True, max_depth=9, max_features=sqrt, n_estimators=400; total time=   7.8s\n",
      "[CV] END bootstrap=True, max_depth=9, max_features=sqrt, n_estimators=400; total time=   4.8s\n",
      "[CV] END bootstrap=False, max_depth=3, max_features=log2, n_estimators=400; total time=   2.0s\n",
      "[CV] END bootstrap=False, max_depth=9, max_features=log2, n_estimators=600; total time=   7.3s\n",
      "[CV] END bootstrap=False, max_depth=5, max_features=log2, n_estimators=200; total time=   1.3s\n",
      "[CV] END bootstrap=False, max_depth=7, max_features=sqrt, n_estimators=200; total time=   1.9s\n",
      "[CV] END bootstrap=False, max_depth=7, max_features=sqrt, n_estimators=200; total time=   1.7s\n",
      "[CV] END bootstrap=False, max_depth=9, max_features=sqrt, n_estimators=600; total time=   7.2s\n",
      "[CV] END bootstrap=False, max_depth=1, max_features=sqrt, n_estimators=400; total time=   1.2s\n",
      "[CV] END bootstrap=True, max_depth=9, max_features=log2, n_estimators=400; total time=   3.8s\n",
      "[CV] END bootstrap=False, max_depth=11, max_features=sqrt, n_estimators=600; total time=  13.2s\n",
      "[CV] END bootstrap=True, max_depth=9, max_features=sqrt, n_estimators=400; total time=   5.5s\n",
      "[CV] END bootstrap=True, max_depth=9, max_features=sqrt, n_estimators=400; total time=   7.4s\n",
      "[CV] END bootstrap=False, max_depth=3, max_features=sqrt, n_estimators=200; total time=   1.6s\n",
      "[CV] END bootstrap=False, max_depth=3, max_features=log2, n_estimators=400; total time=   2.3s\n",
      "[CV] END bootstrap=False, max_depth=3, max_features=log2, n_estimators=400; total time=   2.0s\n",
      "[CV] END bootstrap=False, max_depth=9, max_features=log2, n_estimators=600; total time=   7.2s\n",
      "[CV] END bootstrap=False, max_depth=5, max_features=log2, n_estimators=200; total time=   1.4s\n",
      "[CV] END bootstrap=False, max_depth=5, max_features=log2, n_estimators=200; total time=   1.3s\n",
      "[CV] END bootstrap=False, max_depth=7, max_features=sqrt, n_estimators=200; total time=   2.0s\n",
      "[CV] END bootstrap=False, max_depth=9, max_features=sqrt, n_estimators=600; total time=   7.0s\n",
      "[CV] END bootstrap=False, max_depth=9, max_features=sqrt, n_estimators=600; total time=   6.5s\n",
      "[CV] END bootstrap=True, max_depth=9, max_features=log2, n_estimators=400; total time=   5.3s\n",
      "[CV] END bootstrap=False, max_depth=11, max_features=sqrt, n_estimators=600; total time=  13.2s\n",
      "[CV] END bootstrap=True, max_depth=9, max_features=sqrt, n_estimators=400; total time=   7.7s\n",
      "[CV] END bootstrap=False, max_depth=3, max_features=sqrt, n_estimators=200; total time=   1.8s\n",
      "[CV] END bootstrap=False, max_depth=3, max_features=sqrt, n_estimators=200; total time=   1.2s\n",
      "[CV] END bootstrap=False, max_depth=3, max_features=log2, n_estimators=400; total time=   2.0s\n",
      "[CV] END bootstrap=False, max_depth=9, max_features=log2, n_estimators=600; total time=   6.5s\n",
      "[CV] END bootstrap=False, max_depth=9, max_features=log2, n_estimators=600; total time=   6.0s\n"
     ]
    },
    {
     "data": {
      "text/plain": [
       "{'learning_rate': 0.1, 'n_estimators': 500, 'random_state': 50}"
      ]
     },
     "execution_count": 56,
     "metadata": {},
     "output_type": "execute_result"
    }
   ],
   "source": [
    "ada=AdaBoostRegressor()\n",
    "#parameters\n",
    "search_grid={'n_estimators':[500,1000,2000],'learning_rate':[.001,0.01,.1],'random_state':[10,20,42,50]}\n",
    "#using grid search \n",
    "search=GridSearchCV(estimator=ada,param_grid=search_grid,scoring='neg_mean_squared_error',n_jobs=1,cv=3)\n",
    "search.fit(x_train,y_train)\n",
    "#best parameters\n",
    "search.best_params_"
   ]
  },
  {
   "cell_type": "code",
   "execution_count": 57,
   "id": "23d70729",
   "metadata": {},
   "outputs": [
    {
     "name": "stdout",
     "output_type": "stream",
     "text": [
      "Training evaluation\n",
      "R2 score: 0.77\n",
      "Mean absolute error: 0.10\n",
      "Mean squared error: 0.02\n",
      "Root Mean squared error: 0.15\n",
      "\n",
      "Test set evaluation\n",
      "R2 score: 0.77\n",
      "Mean absolute error: 0.10\n",
      "Mean squared error: 0.02\n",
      "Root Mean squared error: 0.15\n"
     ]
    }
   ],
   "source": [
    "hp_regr =AdaBoostRegressor(n_estimators=500,learning_rate=0.1,random_state=50)\n",
    "  \n",
    "#Training the model\n",
    "hp_regr.fit(x_train,y_train)\n",
    "hp_ABR_trained = hp_regr.predict(x_train)\n",
    "print(\"Training evaluation\")\n",
    "print(\"R2 score: %.2f\" %r2_score(y_train,hp_ABR_trained))\n",
    "print(\"Mean absolute error: %.2f\" %mean_absolute_error(y_train,hp_ABR_trained))\n",
    "print(\"Mean squared error: %.2f\" %mean_squared_error(y_train,hp_ABR_trained))\n",
    "print(\"Root Mean squared error: %.2f\" %math.sqrt(mean_squared_error(y_train,hp_ABR_trained)))\n",
    "\n",
    "#Testing the model\n",
    "hp_ABR_test = hp_regr.predict(x_test)\n",
    "print(\"\\nTest set evaluation\")\n",
    "print(\"R2 score: %.2f\" %r2_score(y_test,hp_ABR_test))\n",
    "print(\"Mean absolute error: %.2f\" %mean_absolute_error(y_test,hp_ABR_test))\n",
    "print(\"Mean squared error: %.2f\" %mean_squared_error(y_test,hp_ABR_test))\n",
    "print(\"Root Mean squared error: %.2f\" %math.sqrt(mean_squared_error(y_test,hp_ABR_test)))\n",
    "\n",
    "hp_R2_score.append(r2_score(y_test, hp_ABR_test))\n",
    "hp_reg_model.append(\"Adaptive Boosting Regression\")"
   ]
  },
  {
   "cell_type": "code",
   "execution_count": 58,
   "id": "d48118cb",
   "metadata": {},
   "outputs": [
    {
     "name": "stdout",
     "output_type": "stream",
     "text": [
      "Training evaluation\n",
      "R2 score: 0.62\n",
      "Mean absolute error: 0.12\n",
      "Mean squared error: 0.04\n",
      "Root Mean squared error: 0.19\n",
      "\n",
      "Test set evaluation\n",
      "R2 score: 0.63\n",
      "Mean absolute error: 0.13\n",
      "Mean squared error: 0.04\n",
      "Root Mean squared error: 0.19\n"
     ]
    }
   ],
   "source": [
    "estimators = [('lr', RidgeCV(alphas=10)),('svr', LinearSVR(C=100,random_state=42))]\n",
    "\n",
    "STR_model =StackingRegressor(estimators=estimators,final_estimator=RandomForestRegressor(n_estimators=10,max_depth=5,random_state=42))\n",
    "  \n",
    "#Training the model\n",
    "STR_model.fit(x_train,y_train)\n",
    "STR_trained = STR_model.predict(x_train)\n",
    "print(\"Training evaluation\")\n",
    "print(\"R2 score: %.2f\" %r2_score(y_train, STR_trained))\n",
    "print(\"Mean absolute error: %.2f\" %mean_absolute_error(y_train, STR_trained))\n",
    "print(\"Mean squared error: %.2f\" %mean_squared_error(y_train, STR_trained))\n",
    "print(\"Root Mean squared error: %.2f\" %math.sqrt(mean_squared_error(y_train,STR_trained)))\n",
    "\n",
    "#Testing the model\n",
    "STR_test =STR_model.predict(x_test)\n",
    "print(\"\\nTest set evaluation\")\n",
    "print(\"R2 score: %.2f\" %r2_score(y_test,STR_test))\n",
    "print(\"Mean absolute error: %.2f\" %mean_absolute_error(y_test, STR_test))\n",
    "print(\"Mean squared error: %.2f\" %mean_squared_error(y_test, STR_test))\n",
    "print(\"Root Mean squared error: %.2f\" %math.sqrt(mean_squared_error(y_test,STR_test)))\n",
    "\n",
    "hp_R2_score.append(r2_score(y_test, STR_test))\n",
    "hp_reg_model.append(\"Stacking Ensemble\")"
   ]
  },
  {
   "cell_type": "code",
   "execution_count": 59,
   "id": "4a8ce926",
   "metadata": {},
   "outputs": [
    {
     "data": {
      "text/plain": [
       "<AxesSubplot:title={'center':'R2 score Comparison after Hyperparameter tuning'}, xlabel='R2 score', ylabel='Algorithm'>"
      ]
     },
     "execution_count": 59,
     "metadata": {},
     "output_type": "execute_result"
    },
    {
     "data": {
      "image/png": "[encoded data removed]",
      "text/plain": [
       "<Figure size 1000x500 with 1 Axes>"
      ]
     },
     "metadata": {
      "needs_background": "light"
     },
     "output_type": "display_data"
    }
   ],
   "source": [
    "#comparing r2_score after hyperparameter tuning\n",
    "plt.figure(figsize=[10,5],dpi = 100)\n",
    "plt.title('R2 score Comparison after Hyperparameter tuning')\n",
    "plt.xlabel('R2 score')\n",
    "plt.ylabel('Algorithm')\n",
    "sns.barplot(x = hp_R2_score,y =hp_reg_model,palette='dark')"
   ]
  }
 ],
 "metadata": {
  "kernelspec": {
   "display_name": "Python 3 (ipykernel)",
   "language": "python",
   "name": "python3"
  },
  "language_info": {
   "codemirror_mode": {
    "name": "ipython",
    "version": 3
   },
   "file_extension": ".py",
   "mimetype": "text/x-python",
   "name": "python",
   "nbconvert_exporter": "python",
   "pygments_lexer": "ipython3",
   "version": "3.10.2"
  }
 },
 "nbformat": 4,
 "nbformat_minor": 5
}
